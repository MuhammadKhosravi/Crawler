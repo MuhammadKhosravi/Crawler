{
  "cells": [
    {
      "attachments": {},
      "cell_type": "markdown",
      "metadata": {
        "id": "R3YY_R4gOk0C"
      },
      "source": [
        "# HW3: Part 2\n",
        "## Indexing in Elasticsearch \n",
        "---\n",
        "\n",
        "\n"
      ]
    },
    {
      "attachments": {},
      "cell_type": "markdown",
      "metadata": {},
      "source": [
        "I use Elasticsearch Cluster (7.17) on three Ubuntu 20.04 nodes, with loadbalancer ip `192.168.57.2`, and listening port `8000`"
      ]
    },
    {
      "cell_type": "code",
      "execution_count": null,
      "metadata": {},
      "outputs": [],
      "source": [
        "import requests\n",
        "import csv\n",
        "import json\n",
        "from tqdm import tqdm"
      ]
    },
    {
      "cell_type": "code",
      "execution_count": null,
      "metadata": {
        "id": "JETOJBNHOk0F"
      },
      "outputs": [],
      "source": [
        "# Elasticsearch endpoint configuration\n",
        "ELASTICSEARCH_HOST = \"192.168.57.2:8000\"\n",
        "ELASTICSEARCH_USER = \"elastic\"\n",
        "ELASTICSEARCH_PASSWORD = \"secret\"\n",
        "ELASTICSEARCH_ENDPOINT = \"http://\" + ELASTICSEARCH_USER + ':' + ELASTICSEARCH_PASSWORD + '@' + ELASTICSEARCH_HOST"
      ]
    },
    {
      "cell_type": "code",
      "execution_count": null,
      "metadata": {},
      "outputs": [],
      "source": [
        "# Index configuration\n",
        "INDEX_NAME = 'news_index2'\n",
        "# id is handled by elasticseach as _id\n",
        "MAPPINGS = '''\n",
        "{\n",
        "    \"mappings\": {\n",
        "        \"properties\": {\n",
        "            \"date\": {\"type\": \"text\"},\n",
        "            \"title\": {\"type\": \"text\"},\n",
        "            \"intro\": {\"type\": \"text\"},\n",
        "            \"body\": {\"type\": \"text\"},\n",
        "            \"category\": {\"type\": \"keyword\"}\n",
        "        }\n",
        "    }\n",
        "}\n",
        "'''"
      ]
    },
    {
      "cell_type": "code",
      "execution_count": null,
      "metadata": {},
      "outputs": [],
      "source": [
        "def create_elasticsearch_index(host, index_name, mappings):\n",
        "    headers = {'Content-Type': 'application/json'}\n",
        "    response = requests.put(f\"{host}/{index_name}?pretty\", data=mappings, headers=headers)\n",
        "    return response.status_code"
      ]
    },
    {
      "cell_type": "code",
      "execution_count": null,
      "metadata": {},
      "outputs": [],
      "source": [
        "def read_data_from_csv(file_path):\n",
        "    with open(file_path, 'r') as file:\n",
        "        content = list(csv.DictReader(file))\n",
        "        return content"
      ]
    },
    {
      "cell_type": "code",
      "execution_count": null,
      "metadata": {},
      "outputs": [],
      "source": [
        "def prepare_data(raw_data):\n",
        "    prepared_data = {k: v for k, v in raw_data.items() if k}\n",
        "    return json.dumps(prepared_data)"
      ]
    },
    {
      "cell_type": "code",
      "execution_count": null,
      "metadata": {},
      "outputs": [],
      "source": [
        "def insert_data_to_elasticsearch(elasticsearch_endpoint, index_name, data):\n",
        "    headers = {'Content-Type': 'application/json'}\n",
        "    prepared_data = prepare_data(data)\n",
        "    response = requests.post(f\"{elasticsearch_endpoint}/{index_name}/_doc/\", data=prepared_data, headers=headers)\n",
        "    return response.status_code"
      ]
    },
    {
      "cell_type": "code",
      "execution_count": null,
      "metadata": {},
      "outputs": [],
      "source": [
        "def show_index_information(elastic_endpoint, index_name):\n",
        "    result = requests.post(f\"{elastic_endpoint}/{index_name}/_count?pretty\").content.decode('ascii')\n",
        "    print(result)"
      ]
    },
    {
      "cell_type": "code",
      "execution_count": null,
      "metadata": {},
      "outputs": [],
      "source": [
        "def run():\n",
        "    create_elasticsearch_index(ELASTICSEARCH_ENDPOINT, INDEX_NAME, MAPPINGS)\n",
        "    data = read_data_from_csv('./dataset.csv')\n",
        "    for row in tqdm(data):\n",
        "        result = insert_data_to_elasticsearch(\n",
        "            ELASTICSEARCH_ENDPOINT, INDEX_NAME, row)\n",
        "        if result >= 300:\n",
        "            raise Exception('Request faild')\n",
        "    print('Secessfully add all data to elasticsearch')\n",
        "    show_index_information(ELASTICSEARCH_ENDPOINT, INDEX_NAME)\n"
      ]
    },
    {
      "cell_type": "code",
      "execution_count": null,
      "metadata": {},
      "outputs": [],
      "source": [
        "run()"
      ]
    },
    {
      "attachments": {},
      "cell_type": "markdown",
      "metadata": {},
      "source": [
        "#### index stats in kibana"
      ]
    },
    {
      "attachments": {
        "image.png": {
          "image/png": "[encoded data removed]"
        }
      },
      "cell_type": "markdown",
      "metadata": {},
      "source": [
        "![image.png](attachment:image.png)"
      ]
    }
  ],
  "metadata": {
    "colab": {
      "provenance": []
    },
    "kernelspec": {
      "display_name": "Python 3.10.9 64-bit",
      "language": "python",
      "name": "python3"
    },
    "language_info": {
      "codemirror_mode": {
        "name": "ipython",
        "version": 3
      },
      "file_extension": ".py",
      "mimetype": "text/x-python",
      "name": "python",
      "nbconvert_exporter": "python",
      "pygments_lexer": "ipython3",
      "version": "3.10.6"
    },
    "vscode": {
      "interpreter": {
        "hash": "e7370f93d1d0cde622a1f8e1c04877d8463912d04d973331ad4851f04de6915a"
      }
    }
  },
  "nbformat": 4,
  "nbformat_minor": 0
}
