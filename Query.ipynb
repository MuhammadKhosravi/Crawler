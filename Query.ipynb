{
  "cells": [
    {
      "attachments": {},
      "cell_type": "markdown",
      "metadata": {
        "id": "R3YY_R4gOk0C"
      },
      "source": [
        "# HW3: Part 3\n",
        "## Information Retrival\n",
        "---\n",
        "\n",
        "\n"
      ]
    },
    {
      "attachments": {},
      "cell_type": "markdown",
      "metadata": {},
      "source": [
        "### Read Data"
      ]
    },
    {
      "cell_type": "code",
      "execution_count": 1,
      "metadata": {},
      "outputs": [],
      "source": [
        "import csv"
      ]
    },
    {
      "cell_type": "code",
      "execution_count": 10,
      "metadata": {},
      "outputs": [],
      "source": [
        "def read_data_from_csv(file_path):\n",
        "    with open(file_path, 'r') as file:\n",
        "        content = list(csv.DictReader(file))\n",
        "        return content"
      ]
    },
    {
      "cell_type": "code",
      "execution_count": 11,
      "metadata": {},
      "outputs": [],
      "source": [
        "dataset = read_data_from_csv('./dataset.csv')"
      ]
    },
    {
      "attachments": {},
      "cell_type": "markdown",
      "metadata": {},
      "source": [
        "### Show First 10"
      ]
    },
    {
      "cell_type": "code",
      "execution_count": 12,
      "metadata": {},
      "outputs": [],
      "source": [
        "def show_first_ten_titles(doc_ids):\n",
        "    print('Top 10 results:')\n",
        "    for d in doc_ids[:10]:\n",
        "        print(dataset[d]['title'])"
      ]
    },
    {
      "attachments": {},
      "cell_type": "markdown",
      "metadata": {},
      "source": [
        "### Preprocess"
      ]
    },
    {
      "cell_type": "code",
      "execution_count": 13,
      "metadata": {},
      "outputs": [],
      "source": [
        "from hazm import *"
      ]
    },
    {
      "cell_type": "code",
      "execution_count": 14,
      "metadata": {},
      "outputs": [],
      "source": [
        "def remove_punctuations(text):\n",
        "    return text.replace(\".\", '').replace(\"،\", \"\").replace(\":\", \"\").replace(\"؛\", \"\").replace(\"!\", \"\").replace(\"؟\", \"\")"
      ]
    },
    {
      "cell_type": "code",
      "execution_count": 15,
      "metadata": {},
      "outputs": [],
      "source": [
        "def preprocess_dataset(dataset):\n",
        "    normalizer = Normalizer()\n",
        "    new_dataset = dataset.copy()\n",
        "    stop_words = stopwords_list()\n",
        "    stemmer = Stemmer()\n",
        "    for data in new_dataset:\n",
        "        text = data['title'] + \" \" + data['body']\n",
        "        normalized_text = normalizer.normalize(text)\n",
        "        only_text = remove_punctuations(normalized_text)\n",
        "        preprocessed_tokens = word_tokenize(only_text)\n",
        "        postprocessed_tokens = []\n",
        "        for token in preprocessed_tokens:\n",
        "            if token not in stop_words:\n",
        "                postprocessed_tokens.append(stemmer.stem(token))\n",
        "        data['tokens'] = postprocessed_tokens\n",
        "    return new_dataset"
      ]
    },
    {
      "cell_type": "code",
      "execution_count": 16,
      "metadata": {},
      "outputs": [],
      "source": [
        "def get_all_unique_tokens_in_dataset(dataset):\n",
        "    all_tokens = []\n",
        "    for data in dataset:\n",
        "        all_tokens += data['tokens']\n",
        "    return list(set(all_tokens))"
      ]
    },
    {
      "cell_type": "code",
      "execution_count": 17,
      "metadata": {},
      "outputs": [],
      "source": [
        "processed_dataset = preprocess_dataset(dataset)"
      ]
    },
    {
      "cell_type": "code",
      "execution_count": 18,
      "metadata": {},
      "outputs": [],
      "source": [
        "tokens = get_all_unique_tokens_in_dataset(processed_dataset)"
      ]
    },
    {
      "attachments": {},
      "cell_type": "markdown",
      "metadata": {},
      "source": [
        "### Boolean Retrival"
      ]
    },
    {
      "attachments": {},
      "cell_type": "markdown",
      "metadata": {},
      "source": [
        "#### Create Doc-Term Matrix"
      ]
    },
    {
      "cell_type": "code",
      "execution_count": 34,
      "metadata": {},
      "outputs": [],
      "source": [
        "def get_doc_term_matrix(tokens, dataset):\n",
        "    tokens_num = len(tokens)\n",
        "    dataset_size = len(dataset)\n",
        "    tokens_hash = {tokens[i]: i for i in range(tokens_num)}\n",
        "    df_dict = {f'Doc{i}': [0] * tokens_num for i in range(dataset_size)}\n",
        "\n",
        "    for i in range(dataset_size):\n",
        "        for token in dataset[i]['tokens']:\n",
        "            current_hash = tokens_hash[token]\n",
        "            df_dict[f'Doc{i}'][current_hash] = 1\n",
        "    return df_dict, tokens_hash"
      ]
    },
    {
      "cell_type": "code",
      "execution_count": 35,
      "metadata": {},
      "outputs": [],
      "source": [
        "term_doc_matrix, tokens_hash = get_doc_term_matrix(tokens, processed_dataset)"
      ]
    },
    {
      "cell_type": "code",
      "execution_count": 36,
      "metadata": {},
      "outputs": [],
      "source": [
        "import pandas as pd"
      ]
    },
    {
      "cell_type": "code",
      "execution_count": 37,
      "metadata": {},
      "outputs": [
        {
          "data": {
            "text/html": [
              "<div>\n",
              "<style scoped>\n",
              "    .dataframe tbody tr th:only-of-type {\n",
              "        vertical-align: middle;\n",
              "    }\n",
              "\n",
              "    .dataframe tbody tr th {\n",
              "        vertical-align: top;\n",
              "    }\n",
              "\n",
              "    .dataframe thead th {\n",
              "        text-align: right;\n",
              "    }\n",
              "</style>\n",
              "<table border=\"1\" class=\"dataframe\">\n",
              "  <thead>\n",
              "    <tr style=\"text-align: right;\">\n",
              "      <th></th>\n",
              "      <th>Doc0</th>\n",
              "      <th>Doc1</th>\n",
              "      <th>Doc2</th>\n",
              "      <th>Doc3</th>\n",
              "      <th>Doc4</th>\n",
              "      <th>Doc5</th>\n",
              "      <th>Doc6</th>\n",
              "      <th>Doc7</th>\n",
              "      <th>Doc8</th>\n",
              "      <th>Doc9</th>\n",
              "      <th>...</th>\n",
              "      <th>Doc5333</th>\n",
              "      <th>Doc5334</th>\n",
              "      <th>Doc5335</th>\n",
              "      <th>Doc5336</th>\n",
              "      <th>Doc5337</th>\n",
              "      <th>Doc5338</th>\n",
              "      <th>Doc5339</th>\n",
              "      <th>Doc5340</th>\n",
              "      <th>Doc5341</th>\n",
              "      <th>Doc5342</th>\n",
              "    </tr>\n",
              "  </thead>\n",
              "  <tbody>\n",
              "    <tr>\n",
              "      <th>0</th>\n",
              "      <td>1</td>\n",
              "      <td>0</td>\n",
              "      <td>0</td>\n",
              "      <td>0</td>\n",
              "      <td>0</td>\n",
              "      <td>0</td>\n",
              "      <td>1</td>\n",
              "      <td>0</td>\n",
              "      <td>0</td>\n",
              "      <td>1</td>\n",
              "      <td>...</td>\n",
              "      <td>1</td>\n",
              "      <td>0</td>\n",
              "      <td>0</td>\n",
              "      <td>0</td>\n",
              "      <td>0</td>\n",
              "      <td>0</td>\n",
              "      <td>0</td>\n",
              "      <td>1</td>\n",
              "      <td>1</td>\n",
              "      <td>0</td>\n",
              "    </tr>\n",
              "    <tr>\n",
              "      <th>1</th>\n",
              "      <td>0</td>\n",
              "      <td>0</td>\n",
              "      <td>0</td>\n",
              "      <td>0</td>\n",
              "      <td>0</td>\n",
              "      <td>0</td>\n",
              "      <td>0</td>\n",
              "      <td>0</td>\n",
              "      <td>0</td>\n",
              "      <td>0</td>\n",
              "      <td>...</td>\n",
              "      <td>0</td>\n",
              "      <td>0</td>\n",
              "      <td>0</td>\n",
              "      <td>0</td>\n",
              "      <td>0</td>\n",
              "      <td>0</td>\n",
              "      <td>0</td>\n",
              "      <td>0</td>\n",
              "      <td>0</td>\n",
              "      <td>0</td>\n",
              "    </tr>\n",
              "    <tr>\n",
              "      <th>2</th>\n",
              "      <td>0</td>\n",
              "      <td>0</td>\n",
              "      <td>0</td>\n",
              "      <td>0</td>\n",
              "      <td>0</td>\n",
              "      <td>0</td>\n",
              "      <td>0</td>\n",
              "      <td>0</td>\n",
              "      <td>0</td>\n",
              "      <td>0</td>\n",
              "      <td>...</td>\n",
              "      <td>0</td>\n",
              "      <td>0</td>\n",
              "      <td>0</td>\n",
              "      <td>0</td>\n",
              "      <td>0</td>\n",
              "      <td>0</td>\n",
              "      <td>0</td>\n",
              "      <td>0</td>\n",
              "      <td>0</td>\n",
              "      <td>0</td>\n",
              "    </tr>\n",
              "    <tr>\n",
              "      <th>3</th>\n",
              "      <td>0</td>\n",
              "      <td>0</td>\n",
              "      <td>0</td>\n",
              "      <td>0</td>\n",
              "      <td>0</td>\n",
              "      <td>0</td>\n",
              "      <td>0</td>\n",
              "      <td>0</td>\n",
              "      <td>0</td>\n",
              "      <td>0</td>\n",
              "      <td>...</td>\n",
              "      <td>0</td>\n",
              "      <td>0</td>\n",
              "      <td>0</td>\n",
              "      <td>0</td>\n",
              "      <td>0</td>\n",
              "      <td>0</td>\n",
              "      <td>0</td>\n",
              "      <td>0</td>\n",
              "      <td>0</td>\n",
              "      <td>0</td>\n",
              "    </tr>\n",
              "    <tr>\n",
              "      <th>4</th>\n",
              "      <td>0</td>\n",
              "      <td>0</td>\n",
              "      <td>0</td>\n",
              "      <td>0</td>\n",
              "      <td>0</td>\n",
              "      <td>0</td>\n",
              "      <td>0</td>\n",
              "      <td>0</td>\n",
              "      <td>0</td>\n",
              "      <td>0</td>\n",
              "      <td>...</td>\n",
              "      <td>0</td>\n",
              "      <td>0</td>\n",
              "      <td>0</td>\n",
              "      <td>0</td>\n",
              "      <td>0</td>\n",
              "      <td>0</td>\n",
              "      <td>0</td>\n",
              "      <td>0</td>\n",
              "      <td>0</td>\n",
              "      <td>0</td>\n",
              "    </tr>\n",
              "  </tbody>\n",
              "</table>\n",
              "<p>5 rows × 5343 columns</p>\n",
              "</div>"
            ],
            "text/plain": [
              "   Doc0  Doc1  Doc2  Doc3  Doc4  Doc5  Doc6  Doc7  Doc8  Doc9  ...  Doc5333  \\\n",
              "0     1     0     0     0     0     0     1     0     0     1  ...        1   \n",
              "1     0     0     0     0     0     0     0     0     0     0  ...        0   \n",
              "2     0     0     0     0     0     0     0     0     0     0  ...        0   \n",
              "3     0     0     0     0     0     0     0     0     0     0  ...        0   \n",
              "4     0     0     0     0     0     0     0     0     0     0  ...        0   \n",
              "\n",
              "   Doc5334  Doc5335  Doc5336  Doc5337  Doc5338  Doc5339  Doc5340  Doc5341  \\\n",
              "0        0        0        0        0        0        0        1        1   \n",
              "1        0        0        0        0        0        0        0        0   \n",
              "2        0        0        0        0        0        0        0        0   \n",
              "3        0        0        0        0        0        0        0        0   \n",
              "4        0        0        0        0        0        0        0        0   \n",
              "\n",
              "   Doc5342  \n",
              "0        0  \n",
              "1        0  \n",
              "2        0  \n",
              "3        0  \n",
              "4        0  \n",
              "\n",
              "[5 rows x 5343 columns]"
            ]
          },
          "execution_count": 37,
          "metadata": {},
          "output_type": "execute_result"
        }
      ],
      "source": [
        "data_frame = pd.DataFrame(term_doc_matrix)\n",
        "data_frame.head()"
      ]
    },
    {
      "attachments": {},
      "cell_type": "markdown",
      "metadata": {},
      "source": [
        "#### Boolean Model"
      ]
    },
    {
      "cell_type": "code",
      "execution_count": 38,
      "metadata": {},
      "outputs": [],
      "source": [
        "class BooleanModel:\n",
        "    def __init__(self, doc_term_matrix, words_hash):\n",
        "        self.doc_term_matrix = doc_term_matrix\n",
        "        self.words_hash = words_hash\n",
        "        self.normalizer = Normalizer().normalize\n",
        "        self.stemmer = Stemmer().stem\n",
        "        self.dataset_size = len(doc_term_matrix.keys())\n",
        "\n",
        "    def parse_query(self, query):\n",
        "        words = query.split()\n",
        "        words[0] = self.normalizer(words[0])\n",
        "        words[2] = self.normalizer(words[2])\n",
        "        \n",
        "        words[0] = self.stemmer(words[0])\n",
        "        words[2] = self.stemmer(words[2])\n",
        "        return words\n",
        "        \n",
        "    \n",
        "    def get_word_index(self, word):\n",
        "        return self.words_hash[word]\n",
        "    def do_operation(self, operator, operand1, operand2):\n",
        "        op1_index = self.get_word_index(operand1)\n",
        "        op2_index = self.get_word_index(operand2)\n",
        "        results = set()\n",
        "        if operator == 'and':\n",
        "            for i in range(self.dataset_size):\n",
        "                if self.doc_term_matrix[f\"Doc{i}\"][op1_index] == 1 and self.doc_term_matrix[f\"Doc{i}\"][op2_index] == 1:\n",
        "                    results.add(i)\n",
        "        elif operator == 'or':\n",
        "            for i in range(self.dataset_size):\n",
        "                if not (self.doc_term_matrix[f\"Doc{i}\"][op1_index] == 0 and self.doc_term_matrix[f\"Doc{i}\"][op2_index] == 0):\n",
        "                    results.add(i)\n",
        "        else:\n",
        "            raise Exception('Unsupported operation')\n",
        "        return results\n",
        "    def printSimilars(self, query):\n",
        "        parsed_query = self.parse_query(query)\n",
        "        lhs, rhs, operator = None, None, None\n",
        "        results = set()\n",
        "        for word in parsed_query:\n",
        "            if lhs is None:\n",
        "                lhs = word\n",
        "            elif operator is None:\n",
        "                operator = word\n",
        "            elif rhs is None:\n",
        "                rhs = word\n",
        "            else:\n",
        "                res = self.do_operation(operator, lhs, rhs)\n",
        "                results = results.union(res)\n",
        "                lhs = word\n",
        "                operator = None\n",
        "                rhs = None\n",
        "\n",
        "        res = self.do_operation(operator, lhs, rhs)\n",
        "        results = results.union(res)\n",
        "        return list(results)"
      ]
    },
    {
      "cell_type": "code",
      "execution_count": 39,
      "metadata": {},
      "outputs": [],
      "source": [
        "booleanModel = BooleanModel(data_frame, tokens_hash)"
      ]
    },
    {
      "attachments": {},
      "cell_type": "markdown",
      "metadata": {},
      "source": [
        "##### Example 1"
      ]
    },
    {
      "cell_type": "code",
      "execution_count": 40,
      "metadata": {},
      "outputs": [
        {
          "name": "stdout",
          "output_type": "stream",
          "text": [
            "180 docs found: \n",
            "[512, 3, 1028, 4617, 12, 527, 1040, 17, 2577, 1556, 1046, 1531, 1048, 1053, 1060, 37, 1062, 1063, 4646, 43, 1069, 5165, 51, 1076, 1078, 571, 1084, 1596, 63, 575, 1088, 70, 1094, 72, 73, 1095, 1096, 1101, 1103, 3666, 1107, 86, 1626, 1115, 94, 606, 1120, 1121, 99, 100, 4711, 1128, 1130, 110, 112, 627, 628, 122, 635, 636, 1146, 1150, 3709, 3206, 648, 651, 142, 1690, 166, 168, 683, 174, 686, 177, 689, 690, 691, 700, 704, 4291, 202, 203, 714, 725, 733, 224, 4320, 1762, 742, 1770, 747, 751, 1776, 4339, 768, 770, 4355, 775, 264, 265, 778, 779, 270, 787, 4374, 281, 283, 795, 296, 297, 809, 301, 304, 307, 819, 309, 2869, 311, 4917, 2363, 317, 320, 4424, 845, 335, 1362, 853, 4951, 856, 2904, 346, 858, 348, 860, 862, 2908, 354, 868, 872, 2416, 369, 4979, 4981, 381, 385, 5001, 5003, 912, 401, 2960, 404, 2457, 414, 415, 416, 417, 936, 427, 946, 435, 436, 442, 2496, 449, 963, 453, 455, 969, 460, 1487, 464, 5073, 981, 982, 490, 1517, 501, 1018, 507, 1532]\n",
            "Top 10 results:\n",
            "بعضی‌ها نامه نوشتند و از رهبری خواستند تا با آمریکا کنار بیاییم\n",
            " با نظامیان اروپایی به عنوان تروریست برخورد شود\n",
            "بزرگترین اختلاس‌گر ایران کیست؟ | معادل بودجه دولت در سال ۱۴۰۱ را بردند!\n",
            "نگرانی مدیرعامل سابق خانه سینما از وضعیت بحرانی سینما |  ما هم نمی دانیم در شرایط دودآلود چه باید کرد...\n",
            "بیانیه وزارت اطلاعات درباره علیرضا اکبری | ۲ میلیون یورو به او دستمزد دادند | ابهت دستگاه اطلاعاتی انگلیس شکست\n",
            "روایت سردار سلیمانی از جنایت‌ تکفیری‌ها در قتل یک کودک؛ طفل را از سینه مادرش گرفتند، او را مثل گوسفند روی آتش...\n",
            "حمایت سخنگوی دولت از سپاه پاسداران؛ تروریسم در غرب است\n",
            "مجلس و دولت به حرکت زشت اتحادیه اروپا علیه سپاه پاسخ قاطع می‌دهند | مسئولان حال مردم را خوبتر کنند\n",
            "خزعلی: به اسم آزادی کشوری را به آشوب می‌کشند | چه کسی مقصر کوچک شدن سفره مردم است؟ | ابتکار: خیلی سخت است صحبت‌ کردن از اتفاقات ۹۸ |گشت ارشاد مخرب است\n",
            "رئیس جدید بانک مرکزی قیمت دلار را اعلام کرد | هر دلار آمریکا چند تومان است؟\n"
          ]
        }
      ],
      "source": [
        "word1 = 'آمریکا'\n",
        "word2 = 'دولت'\n",
        "operation = 'and'\n",
        "query = f\"{word1} {operation} {word2}\"\n",
        "result = booleanModel.printSimilars(query)\n",
        "print(f\"{len(result)} docs found: \\n{result}\")\n",
        "show_first_ten_titles(result)\n"
      ]
    },
    {
      "attachments": {},
      "cell_type": "markdown",
      "metadata": {},
      "source": [
        "##### Eample 2"
      ]
    },
    {
      "cell_type": "code",
      "execution_count": 41,
      "metadata": {},
      "outputs": [
        {
          "name": "stdout",
          "output_type": "stream",
          "text": [
            "21 docs found: \n",
            "[512, 2624, 1094, 658, 789, 853, 281, 2908, 669, 415, 735, 425, 809, 812, 559, 1008, 4273, 1136, 501, 1142, 636]\n",
            "Top 10 results:\n",
            "بعضی‌ها نامه نوشتند و از رهبری خواستند تا با آمریکا کنار بیاییم\n",
            "جزئیات جدید از تیراندازی در سفارت آذربایجان | اعترافات متهم ؛ روایت یک شاهد\n",
            "۲۰۲۲؛ سال تغییر ائتلاف‌ها در خاورمیانه | از بازگشت آمریکا به منطقه تا روی کارآمدن تندروها در تل آویو و شکل‌گیری نسل جدید مبارزان فلسطینی\n",
            "روایت رئیس موساد از یک اقدام مخفیانه ایران | وحشت بی‌سابقه اسرائیل از معامله تسلیحات پیشرفته میان ایران و روسیه\n",
            "هشدار مقام ایرانی: اگر برای آغاز یک جنگ منطقه‌ای تصمیم بگیرند ... | اسرائیل می‌داند که ایران مثل گذشته به حمله اصفهان پاسخ می‌دهد \n",
            "برای پیگیری دیپلماسی عمومی ۱۰ نفر را به امریکا بفرستیم | جمهوری اسلامی موافقان را به جان نثار تبدیل کند | اغتشاشات باز می گردد اگر ... \n",
            "جزئیات جدید ترور شهید سردار قاسم سلیمانی | کلمه‌ای که ترامپ را متقاعد کرد!\n",
            "نظام سلطه امروز ضعیف‌تر از هر زمان دیگری است | افق‌های پیش روی ما روشن است\n",
            "رایزنی ضد ایرانی مشاوران امنیتی کاخ سفید و تل‌آویو\n",
            "ابراهیم فیاض: اگر حاج قاسم بود شاید جنگ اوکراین هم رخ نمی‌داد | «خون» حاج قاسم تبدیل به «ساختار»ی شد که تغییرات بزرگ ایجاد می‌کند؛\n"
          ]
        }
      ],
      "source": [
        "word1 = 'حمله'\n",
        "word2 = 'اسرائیل'\n",
        "operation = 'and'\n",
        "query = f\"{word1} {operation} {word2}\"\n",
        "result = booleanModel.printSimilars(query)\n",
        "print(f\"{len(result)} docs found: \\n{result}\")\n",
        "show_first_ten_titles(result)"
      ]
    },
    {
      "attachments": {},
      "cell_type": "markdown",
      "metadata": {},
      "source": [
        "##### Example 3"
      ]
    },
    {
      "cell_type": "code",
      "execution_count": 42,
      "metadata": {},
      "outputs": [
        {
          "name": "stdout",
          "output_type": "stream",
          "text": [
            "424 docs found: \n",
            "[4096, 4109, 4114, 4119, 4120, 2081, 5159, 5171, 5179, 4156, 4159, 2118, 2121, 5193, 5196, 4176, 4188, 4189, 4192, 3180, 5229, 3191, 5245, 5249, 5254, 3209, 4236, 5264, 4245, 150, 5271, 5273, 4250, 3230, 4257, 4273, 5301, 4280, 5304, 2236, 5309, 3268, 1222, 5318, 4296, 3272, 5322, 3278, 4304, 3280, 2258, 3284, 3285, 4311, 3287, 3288, 3289, 3290, 5338, 4317, 3292, 5340, 3295, 4321, 3298, 3299, 3300, 4329, 3307, 3312, 4337, 3313, 3315, 3317, 3321, 3323, 3324, 3325, 3326, 3328, 4354, 3331, 3332, 3335, 3336, 3340, 2317, 3348, 3349, 3350, 3351, 3355, 3356, 3359, 3362, 3365, 296, 3374, 4402, 3378, 3380, 3383, 3385, 1339, 3388, 3393, 3395, 3397, 3398, 4426, 4429, 3406, 3411, 1365, 3413, 4441, 3417, 3418, 3422, 2404, 3429, 3435, 3436, 3437, 3438, 3441, 3443, 3444, 2422, 4471, 4472, 3449, 378, 3451, 3452, 3457, 3460, 4486, 4489, 3467, 3470, 399, 3471, 3475, 3476, 3477, 3478, 3481, 1434, 3482, 3483, 3491, 3492, 3497, 2485, 4537, 3515, 1468, 2496, 3520, 3521, 454, 3528, 3529, 3538, 1491, 3541, 471, 472, 4567, 3544, 3545, 3547, 3548, 3551, 3554, 3555, 4581, 3557, 3559, 2537, 4586, 3561, 4588, 3565, 3569, 501, 3574, 2551, 3577, 1529, 507, 513, 4609, 3585, 3587, 4613, 3589, 3591, 3593, 4622, 3600, 2577, 3601, 3603, 3605, 3608, 4633, 3612, 3613, 4638, 1566, 3614, 3617, 3619, 3620, 3621, 4646, 3622, 3623, 3625, 3627, 3630, 3633, 4658, 3635, 3636, 4661, 3637, 4663, 3638, 3639, 570, 3642, 1596, 4671, 3648, 3650, 3651, 2632, 3656, 3657, 4684, 3662, 3663, 594, 4690, 3667, 4695, 3674, 3675, 3676, 3678, 3679, 3683, 3685, 3686, 4711, 620, 4716, 3694, 3695, 3696, 3697, 628, 3703, 3705, 4730, 4731, 3710, 3714, 4741, 3718, 3719, 3720, 2698, 3724, 4750, 3726, 4754, 2707, 3733, 3735, 3736, 4764, 3742, 3750, 3753, 3754, 3756, 1709, 3757, 1711, 3762, 3763, 3765, 3766, 3769, 3770, 4795, 3771, 3773, 2751, 705, 3778, 1731, 3779, 3782, 711, 3784, 3786, 718, 3797, 1752, 3805, 4830, 1760, 4833, 3808, 3814, 3815, 3816, 4843, 3819, 1773, 1774, 754, 4850, 756, 4857, 3837, 1790, 4866, 3846, 4872, 778, 4891, 4893, 3869, 3873, 1827, 3875, 3879, 3880, 4906, 3883, 3886, 3887, 3888, 3889, 4917, 3895, 1851, 3903, 3904, 3905, 4932, 3913, 4942, 3919, 3921, 3924, 1878, 3926, 2909, 3937, 3940, 3941, 3945, 4973, 3950, 880, 3955, 3956, 1909, 3964, 3965, 3967, 3969, 3970, 3972, 904, 3978, 1931, 914, 3986, 3987, 3991, 3993, 2974, 3998, 932, 4006, 5034, 4010, 4011, 4012, 4014, 4019, 4021, 4023, 952, 4024, 4026, 4027, 4033, 5059, 1989, 974, 4049, 4050, 4053, 4055, 4056, 4058, 4060, 4070, 4073, 4081, 5111, 4088, 5115, 4093, 3070]\n",
            "Top 10 results:\n",
            "وزیر ورزش تکلیف سرمربیگری تیم ملی را مشخص کرد | هنوز ماجرای سرمربی سابق را فراموش نکردیم!\n",
            "نقش موثر پهپادها در دنیای امروزی | آنها به موتور ویژه‌ای نیاز دارند\n",
            "ابزاری موثر برای جنگ‌های امروزی | نگاهی به پهپادهای ساخته شده در کشورهای مختلف دنیا\n",
            "اینفوگرافیک | معرفی برترین پهپادهای نظامی ایران\n",
            "مهاجر، شروع یک جریان عظیم | پهپادهایی که نشان از اقتدار دارند\n",
            "تصاویر | ماجرای کلیپ شکنجه وحشیانه یک جوان ۲۵ ساله چه بود؟ | ۸ روز فیتیله‌پیچ مرا شلاق زدند | گفتند مثل جوجه به سیخت می کشیم!\n",
            "\n",
            "طرز تهیه خورش بادمجان با گوشت چرخ‌کرده\n",
            "نکات کلیدی برای مزه دار کردن جوجه کباب خانگی | چه باید کرد تا جوجه‌ ها سفت نشوند؟ | این چاشنی بوی بد مرغ را می‌گیرد\n",
            "ادویه ای که قاتل نفخ شکم است\n",
            "دوست ندارید ۸ لیوان آب بنوشید این مطلب را بخوانید | ۱۰ راهکار برای تامین آب روزانه بدن\n"
          ]
        }
      ],
      "source": [
        "word1 = 'برتر'\n",
        "word2 = 'فوتبالیست'\n",
        "operation = 'or'\n",
        "query = f\"{word1} {operation} {word2}\"\n",
        "result = booleanModel.printSimilars(query)\n",
        "print(f\"{len(result)} docs found: \\n{result}\")\n",
        "show_first_ten_titles(result)"
      ]
    },
    {
      "attachments": {},
      "cell_type": "markdown",
      "metadata": {},
      "source": [
        "### TF-IDF"
      ]
    },
    {
      "cell_type": "code",
      "execution_count": 19,
      "metadata": {},
      "outputs": [],
      "source": [
        "from collections import defaultdict\n",
        "from math import log10"
      ]
    },
    {
      "cell_type": "code",
      "execution_count": 20,
      "metadata": {},
      "outputs": [],
      "source": [
        "normalizer = Normalizer()\n",
        "stop_words = stopwords_list()\n",
        "stemmer = Stemmer()"
      ]
    },
    {
      "cell_type": "code",
      "execution_count": 21,
      "metadata": {},
      "outputs": [],
      "source": [
        "def preprocess_query(query):\n",
        "    normalized_query = normalizer.normalize(query)\n",
        "    only_text = remove_punctuations(normalized_query)\n",
        "    preprocessed_tokens = word_tokenize(only_text)\n",
        "    postprocessed_tokens = []\n",
        "    for token in preprocessed_tokens:\n",
        "        if token not in stop_words:\n",
        "            postprocessed_tokens.append(stemmer.stem(token))\n",
        "    return postprocessed_tokens"
      ]
    },
    {
      "cell_type": "code",
      "execution_count": 46,
      "metadata": {},
      "outputs": [],
      "source": [
        "class TF_IDF:\n",
        "    def __init__(self, corpus, threshhold=3):\n",
        "        self.corpus = corpus\n",
        "        self.tf, self.df = self.calculate_tf_and_df()\n",
        "        self.idf = self.calculate_idf()\n",
        "        self.threshhold = threshhold\n",
        "        \n",
        "    def calculate_tf_and_df(self):\n",
        "        corpus = self.corpus\n",
        "        df = defaultdict(int)\n",
        "        tf = []\n",
        "        for doc in corpus:\n",
        "            temp_tf = defaultdict(int)\n",
        "            for term in doc['tokens']:\n",
        "                temp_tf[term] += 1\n",
        "                if temp_tf[term] == 1:\n",
        "                    df[term] += 1\n",
        "            tf.append(temp_tf)\n",
        "        return tf, df\n",
        "    \n",
        "    def calculate_idf(self):\n",
        "        corpus, df = self.corpus, self.df\n",
        "        idf = {}\n",
        "        corpus_size = len(corpus)\n",
        "        for term, freq in df.items():\n",
        "            idf[term] = log10(corpus_size / freq)\n",
        "        return idf\n",
        "\n",
        "    def get_score(self, query, index):\n",
        "        score = 0\n",
        "        query_tokens = preprocess_query(query)\n",
        "        for word in query_tokens:\n",
        "            current_tf = self.tf[index][word]\n",
        "            score += self.idf[word] * current_tf\n",
        "        return score\n",
        "    \n",
        "    def find_relavent(self, query):\n",
        "        corpus_size = len(self.corpus)\n",
        "        score_doc_list = []\n",
        "        for i in range(corpus_size):\n",
        "            score = self.get_score(query, i)\n",
        "            score_doc_list.append((i, score))\n",
        "        result = []\n",
        "        for doc_id, score in score_doc_list:\n",
        "            if score >= self.threshhold:\n",
        "                result.append(doc_id)\n",
        "        \n",
        "        return result"
      ]
    },
    {
      "cell_type": "code",
      "execution_count": 47,
      "metadata": {},
      "outputs": [],
      "source": [
        "tf_idf = TF_IDF(processed_dataset)"
      ]
    },
    {
      "attachments": {},
      "cell_type": "markdown",
      "metadata": {},
      "source": [
        "#### Example 1"
      ]
    },
    {
      "cell_type": "code",
      "execution_count": 48,
      "metadata": {},
      "outputs": [
        {
          "name": "stdout",
          "output_type": "stream",
          "text": [
            "401 docs found: \n",
            "[0, 1, 2, 3, 5, 6, 12, 21, 22, 23, 30, 33, 34, 36, 37, 40, 42, 43, 44, 45, 47, 51, 52, 55, 63, 70, 72, 77, 89, 94, 99, 110, 112, 120, 126, 132, 139, 142, 144, 145, 146, 164, 165, 168, 171, 174, 176, 177, 180, 192, 196, 198, 202, 203, 208, 210, 212, 224, 229, 235, 241, 243, 257, 265, 267, 268, 270, 271, 280, 281, 283, 285, 286, 290, 292, 296, 297, 300, 301, 304, 307, 308, 313, 320, 335, 341, 345, 346, 349, 366, 367, 368, 381, 385, 386, 404, 414, 415, 416, 417, 422, 432, 435, 436, 446, 453, 455, 456, 457, 464, 466, 482, 490, 491, 500, 501, 505, 507, 509, 511, 517, 519, 521, 527, 529, 530, 533, 537, 545, 547, 557, 559, 562, 570, 571, 573, 575, 578, 589, 597, 606, 620, 623, 627, 628, 636, 647, 648, 649, 651, 654, 658, 660, 665, 668, 669, 671, 677, 679, 683, 687, 689, 690, 691, 694, 700, 703, 704, 705, 706, 709, 713, 714, 716, 718, 724, 725, 733, 735, 742, 746, 747, 750, 751, 754, 755, 757, 759, 762, 770, 773, 775, 778, 779, 780, 785, 786, 787, 788, 798, 804, 809, 810, 813, 816, 819, 842, 846, 853, 856, 858, 860, 862, 865, 872, 883, 906, 913, 914, 918, 922, 928, 932, 945, 946, 948, 951, 954, 957, 963, 964, 965, 966, 969, 972, 976, 980, 981, 982, 984, 986, 987, 988, 989, 993, 995, 996, 999, 1001, 1003, 1005, 1006, 1007, 1012, 1024, 1028, 1030, 1032, 1036, 1037, 1040, 1042, 1062, 1121, 1135, 1154, 1170, 1172, 1201, 1208, 1215, 1287, 1289, 1303, 1307, 1371, 1389, 1429, 1454, 1468, 1472, 1487, 1495, 1496, 1531, 1580, 1604, 1607, 1609, 1626, 1668, 1690, 1767, 1776, 1790, 1820, 1827, 1864, 1874, 1888, 1897, 1917, 2018, 2078, 2103, 2220, 2283, 2336, 2360, 2384, 2390, 2416, 2457, 2476, 2477, 2506, 2523, 2532, 2569, 2577, 2616, 2624, 2695, 2751, 2773, 2908, 3275, 3282, 3305, 3330, 3395, 3398, 3424, 3509, 3568, 3666, 3673, 3709, 3710, 3727, 3746, 3760, 3792, 3881, 3904, 3925, 3967, 4005, 4064, 4071, 4080, 4257, 4270, 4271, 4296, 4321, 4326, 4330, 4335, 4337, 4339, 4355, 4356, 4357, 4372, 4424, 4425, 4427, 4455, 4473, 4474, 4476, 4495, 4499, 4514, 4525, 4530, 4533, 4584, 4586, 4590, 4602, 4606, 4617, 4628, 4659, 4690, 4698, 4705, 4710, 4726, 4787, 4824, 4848, 4901, 4917, 4929, 4941, 4951, 4952, 4991]\n",
            "Top 10 results:\n",
            "خبر مهم آلمان درباره اعلام سپاه به عنوان سازمان تروریستی\n",
            " محسن رضایی: اروپا از اقدام علیه سپاه پشیمان می‌شود | به زودی متوجه اشتباه خود خواهید شد\n",
            "امیرعبداللهیان به وزیرخارجه سوئد: اقدامات مخرب پارلمان اروپا خلاف منشور سازمان ملل متحد است\n",
            " با نظامیان اروپایی به عنوان تروریست برخورد شود\n",
            "رویترز: پاناما حق استفاده از پرچم خود برای ۱۳۶ نفتکش مرتبط با ایران لغو کرد\n",
            " دستور کار بعدی اتحادیه اروپا درباره سپاه | تمرکزمان روی افزایش فشار بر ایران است!\n",
            "بیانیه وزارت اطلاعات درباره علیرضا اکبری | ۲ میلیون یورو به او دستمزد دادند | ابهت دستگاه اطلاعاتی انگلیس شکست\n",
            "بیانیه مهم ارتش در واکنش به اقدام خصمانه اروپا علیه سپاه \n",
            "تهدید جدی اروپا توسط ایران ؛ مسیر ترانزیت تجاری اروپا در منطقه دیگر امنیت نخواهد داشت\n",
            "واکنش آمریکا به مصوبه پارلمان اروپا علیه سپاه و سرنوشت برجام | ایرانی‌ها فرصت را از بین بردند!\n"
          ]
        }
      ],
      "source": [
        "query = 'تروریسم در ایران'\n",
        "result = tf_idf.find_relavent(query)\n",
        "print(f\"{len(result)} docs found: \\n{result}\")\n",
        "show_first_ten_titles(result)"
      ]
    },
    {
      "attachments": {},
      "cell_type": "markdown",
      "metadata": {},
      "source": [
        "#### Example 2"
      ]
    },
    {
      "cell_type": "code",
      "execution_count": 49,
      "metadata": {},
      "outputs": [
        {
          "name": "stdout",
          "output_type": "stream",
          "text": [
            "214 docs found: \n",
            "[7, 14, 17, 51, 52, 89, 112, 115, 122, 132, 168, 265, 318, 349, 367, 382, 415, 416, 421, 435, 456, 468, 491, 505, 507, 510, 518, 519, 529, 547, 557, 570, 606, 628, 672, 694, 701, 718, 724, 754, 816, 823, 872, 945, 946, 969, 982, 986, 989, 1003, 1006, 1021, 1026, 1036, 1039, 1142, 1186, 1216, 1248, 1277, 1303, 1309, 1311, 1323, 1325, 1523, 1542, 1545, 1607, 1690, 1723, 1770, 1805, 1810, 1821, 1875, 1885, 1930, 1938, 1965, 2069, 2114, 2228, 2239, 2329, 2330, 2360, 2366, 2424, 2435, 2437, 2455, 2465, 2547, 2577, 2620, 2730, 2739, 2808, 2814, 3065, 3213, 3244, 3265, 3273, 3274, 3277, 3280, 3305, 3339, 3357, 3367, 3403, 3424, 3433, 3434, 3435, 3451, 3455, 3461, 3489, 3492, 3494, 3510, 3516, 3527, 3536, 3544, 3548, 3555, 3556, 3566, 3568, 3572, 3588, 3624, 3628, 3645, 3650, 3666, 3673, 3689, 3690, 3696, 3709, 3710, 3727, 3734, 3736, 3746, 3784, 3795, 3809, 3817, 3832, 3843, 3860, 3872, 3881, 3902, 3905, 3907, 3908, 3925, 3940, 3955, 3965, 3967, 3971, 3983, 4003, 4067, 4096, 4169, 4269, 4271, 4276, 4277, 4288, 4330, 4332, 4335, 4337, 4349, 4357, 4372, 4373, 4374, 4394, 4411, 4424, 4442, 4463, 4473, 4476, 4488, 4495, 4510, 4514, 4524, 4591, 4624, 4673, 4722, 4744, 4775, 4787, 4793, 4856, 4938, 4998, 5122, 5301, 5310]\n",
            "Top 10 results:\n",
            "علم الهدی: سپاه خادم صادق ملت است | فلسفه وجودی‌شان به حدی تهدید شده که به تصمیمات جانورصفتانه روی می‌آورند\n",
            "عکس | سایت دانشگاه امام صادق هک شد | تصویر پیام گروه هکری بلک ریوارد\n",
            "مجلس و دولت به حرکت زشت اتحادیه اروپا علیه سپاه پاسخ قاطع می‌دهند | مسئولان حال مردم را خوبتر کنند\n",
            "این تهدید را جدی بگیرید؛ سپاه را تحریم کنند آلمان، انگلیس، فرانسه را در لیست تروریستی می‌گذاریم | مدافعین مقاومت بلدند با تروریست‌ها چطور مواجه شوند\n",
            "رای مثبت به پیشنهاد خصمانه پارلمان اروپا علیه سپاه پاسداران | شورای اروپا تصمیم می‌گیرد\n",
            "هشدار جدی معاون ارتش ؛ دشمن کاری نکند توان پنهان خود را وارد میدان کنیم | جزئیات راهبرد « یک تیر - یک هدف»\n",
            " تصاویر | طلبکاران شاه مقابل سفارت سوئیس تجمع کردند | متن بیانیه معترضان | هشدار به آمریکا ؛ با خشم توفنده ملت انقلابی مواجه خواهید بود اگر...\n",
            "واکنش وزارت دفاع به ماجرای معاون علیرضا اکبری در این وزارتخانه | سمت اصلی او چه بود؟\n",
            "۱۰ درصد نرخ ارز به خاطر تحریم است | باید از هاشمی و خاتمی و احمدی‌نژاد استفاده می‌کردیم | مسئولین خاطی را زندانی کنید و فیلمش را پخش کنید\n",
            "این که مسئول جمهوری اسلامی با پیکان بیاید و با بنز برود جزء وعده‌های انقلاب نبود | هرچه ضربه می‌خوریم به دلیل فاصله گرفتن از آرمان‌های اصیل انقلاب است\n"
          ]
        }
      ],
      "source": [
        "query = 'خادم صادق ملت'\n",
        "result = tf_idf.find_relavent(query)\n",
        "print(f\"{len(result)} docs found: \\n{result}\")\n",
        "show_first_ten_titles(result)"
      ]
    },
    {
      "attachments": {},
      "cell_type": "markdown",
      "metadata": {},
      "source": [
        "#### Example 3"
      ]
    },
    {
      "cell_type": "code",
      "execution_count": 50,
      "metadata": {},
      "outputs": [
        {
          "name": "stdout",
          "output_type": "stream",
          "text": [
            "486 docs found: \n",
            "[18, 431, 434, 475, 569, 620, 754, 952, 1760, 1790, 1989, 2121, 2360, 2518, 2570, 2909, 3070, 3180, 3264, 3265, 3266, 3267, 3272, 3274, 3277, 3278, 3279, 3284, 3285, 3287, 3288, 3290, 3292, 3295, 3298, 3299, 3304, 3305, 3306, 3307, 3312, 3313, 3316, 3317, 3318, 3320, 3325, 3326, 3328, 3331, 3332, 3334, 3335, 3336, 3337, 3338, 3339, 3340, 3350, 3351, 3354, 3355, 3357, 3359, 3360, 3363, 3365, 3368, 3369, 3372, 3373, 3374, 3375, 3376, 3380, 3382, 3383, 3384, 3385, 3388, 3389, 3390, 3392, 3393, 3395, 3396, 3397, 3398, 3403, 3404, 3405, 3406, 3411, 3413, 3417, 3418, 3419, 3421, 3423, 3424, 3426, 3427, 3429, 3433, 3434, 3435, 3436, 3437, 3438, 3439, 3440, 3441, 3442, 3443, 3444, 3445, 3447, 3448, 3449, 3451, 3453, 3455, 3456, 3457, 3460, 3463, 3464, 3465, 3466, 3467, 3468, 3470, 3471, 3473, 3474, 3475, 3476, 3477, 3479, 3481, 3482, 3483, 3484, 3486, 3487, 3491, 3492, 3493, 3495, 3496, 3497, 3498, 3499, 3502, 3512, 3514, 3515, 3516, 3517, 3520, 3521, 3523, 3524, 3525, 3527, 3529, 3530, 3532, 3534, 3535, 3538, 3539, 3540, 3541, 3543, 3544, 3545, 3548, 3549, 3551, 3552, 3556, 3560, 3561, 3562, 3563, 3565, 3568, 3569, 3574, 3577, 3578, 3579, 3580, 3584, 3585, 3588, 3589, 3591, 3592, 3593, 3594, 3595, 3596, 3600, 3601, 3604, 3606, 3607, 3608, 3609, 3612, 3614, 3618, 3619, 3621, 3624, 3625, 3626, 3627, 3628, 3630, 3633, 3638, 3639, 3645, 3646, 3648, 3650, 3651, 3653, 3656, 3657, 3662, 3663, 3666, 3667, 3668, 3669, 3670, 3673, 3674, 3675, 3677, 3679, 3682, 3683, 3684, 3685, 3687, 3689, 3692, 3694, 3695, 3696, 3697, 3699, 3700, 3705, 3709, 3710, 3712, 3713, 3715, 3716, 3717, 3718, 3724, 3726, 3729, 3731, 3732, 3733, 3735, 3742, 3743, 3745, 3746, 3750, 3751, 3753, 3755, 3756, 3757, 3758, 3759, 3760, 3762, 3763, 3764, 3765, 3766, 3768, 3770, 3773, 3774, 3782, 3786, 3790, 3791, 3792, 3793, 3794, 3795, 3797, 3798, 3799, 3800, 3806, 3808, 3809, 3811, 3815, 3816, 3817, 3818, 3819, 3821, 3822, 3825, 3827, 3829, 3837, 3847, 3848, 3849, 3850, 3852, 3853, 3854, 3856, 3857, 3860, 3861, 3862, 3865, 3866, 3873, 3874, 3875, 3877, 3878, 3879, 3880, 3882, 3883, 3886, 3887, 3888, 3889, 3892, 3896, 3900, 3901, 3903, 3904, 3905, 3906, 3907, 3910, 3912, 3913, 3914, 3915, 3917, 3918, 3919, 3923, 3924, 3926, 3928, 3930, 3931, 3938, 3939, 3940, 3941, 3942, 3943, 3945, 3946, 3947, 3948, 3949, 3950, 3952, 3955, 3956, 3958, 3959, 3960, 3962, 3964, 3966, 3967, 3972, 3973, 3976, 3978, 3979, 3981, 3982, 3985, 3986, 3987, 3988, 3990, 3991, 3993, 3998, 4002, 4006, 4009, 4011, 4012, 4014, 4017, 4018, 4022, 4024, 4026, 4027, 4028, 4030, 4031, 4032, 4033, 4034, 4036, 4039, 4040, 4043, 4044, 4047, 4048, 4049, 4050, 4051, 4054, 4055, 4056, 4057, 4058, 4059, 4060, 4063, 4064, 4065, 4068, 4070, 4071, 4073, 4077, 4079, 4080, 4083, 4085, 4086, 4087, 4089, 4093, 4095, 4096, 4129, 4159, 4411, 4441, 4446, 4473, 4588, 4633, 4658, 4663, 4671, 4675, 4696, 4711, 4730, 4741, 4750, 4795, 4973, 4988, 5157, 5249, 5309]\n",
            "Top 10 results:\n",
            "تبریک مقتدی صدر به عراقی‌ها با توهین به ایران | اصرار عجیب مقتدی صدر بر استفاده از نام مجعول\n",
            "وزیر ورزش دومین کارت زرد را از مجلس گرفت | علت تذکر نمایندگان به سجادی\n",
            "وزیر وزرش در مجلس فاش کرد؛ برنامه ریزی پیچیده دشمنان برای تیم ملی در جام جهانی قطر \n",
            "بازداشت تعدادی از فوتبالیست‌های تیم مطرح تهران در پارتی شبانه | حالت طبیعی نداشتند\n",
            "\n",
            "جناب آقای دایی! سلام | چطور با وجدان‌تان کنار آمدید تا به این مردم پشت کنید | ماجرای روایت‌تان از آن دختر اردبیلی چه شد؟\n",
            "واکنش سرلشکر باقری به اظهارات مقامات نظامی صهیونیست | ایران یکی از پنج قدرت برتر پهپادی جهان است | به هرگونه تجاوز با قاطعیت تمام پاسخ می‌دهیم\n",
            "سخنگوی قوه قضاییه: منتظر خبرهای خوش باشید | در پرونده فوتبالیست‌های نوجوان تجـاوزی صورت نگرفته است | آزادی بابک زنجانی و بازداشت وزیر روحانی صحت دارد؟\n",
            "انتشار رزومه برندگان جوایز کنگره زنان تاثیرگذار در واکنش به جنجال‌سازی‌ها | زنان برگزیده ایرانی ؛ از سوده غفوری فرد تا زهرا امام جمعه\n",
            "صادرات خاویار ایرانی به اروپا به مشکل خورد | هر کیلو خاویار ایران چند شد؟\n",
            "«انتخاب» نشان پیشتاز اقتصاد ایران را از معاون اول رئیس‌جمهوری دریافت کرد\n"
          ]
        }
      ],
      "source": [
        "query = 'بازیکن فوتبال برتر'\n",
        "result = tf_idf.find_relavent(query)\n",
        "print(f\"{len(result)} docs found: \\n{result}\")\n",
        "show_first_ten_titles(result)"
      ]
    },
    {
      "attachments": {},
      "cell_type": "markdown",
      "metadata": {},
      "source": [
        "### Fastex"
      ]
    },
    {
      "cell_type": "code",
      "execution_count": 2,
      "metadata": {},
      "outputs": [
        {
          "name": "stdout",
          "output_type": "stream",
          "text": [
            "Defaulting to user installation because normal site-packages is not writeable\n",
            "Collecting fasttext\n",
            "  Downloading fasttext-0.9.2.tar.gz (68 kB)\n",
            "\u001b[2K     \u001b[38;2;114;156;31m━━━━━━━━━━━━━━━━━━━━━━━━━━━━━━━━━━━━━━━\u001b[0m \u001b[32m68.8/68.8 kB\u001b[0m \u001b[31m136.2 kB/s\u001b[0m eta \u001b[36m0:00:00\u001b[0m31m93.8 kB/s\u001b[0m eta \u001b[36m0:00:01\u001b[0m\n",
            "\u001b[?25h  Preparing metadata (setup.py) ... \u001b[?25ldone\n",
            "\u001b[?25hCollecting pybind11>=2.2\n",
            "  Using cached pybind11-2.10.3-py3-none-any.whl (222 kB)\n",
            "Requirement already satisfied: setuptools>=0.7.0 in /usr/lib/python3.10/site-packages (from fasttext) (65.6.3)\n",
            "Requirement already satisfied: numpy in /home/mamadoo/.local/lib/python3.10/site-packages (from fasttext) (1.23.4)\n",
            "Requirement already satisfied: appdirs in /usr/lib/python3.10/site-packages (from setuptools>=0.7.0->fasttext) (1.4.4)\n",
            "Requirement already satisfied: jaraco.text in /usr/lib/python3.10/site-packages (from setuptools>=0.7.0->fasttext) (3.11.0)\n",
            "Requirement already satisfied: more-itertools in /usr/lib/python3.10/site-packages (from setuptools>=0.7.0->fasttext) (9.0.0)\n",
            "Requirement already satisfied: ordered-set in /usr/lib/python3.10/site-packages (from setuptools>=0.7.0->fasttext) (4.1.0)\n",
            "Requirement already satisfied: packaging in /usr/lib/python3.10/site-packages (from setuptools>=0.7.0->fasttext) (21.3)\n",
            "Requirement already satisfied: pyparsing in /usr/lib/python3.10/site-packages (from setuptools>=0.7.0->fasttext) (3.0.9)\n",
            "Requirement already satisfied: tomli in /usr/lib/python3.10/site-packages (from setuptools>=0.7.0->fasttext) (2.0.1)\n",
            "Requirement already satisfied: validate-pyproject in /usr/lib/python3.10/site-packages (from setuptools>=0.7.0->fasttext) (0.12.1)\n",
            "Requirement already satisfied: autocommand in /usr/lib/python3.10/site-packages (from jaraco.text->setuptools>=0.7.0->fasttext) (2.2.2)\n",
            "Requirement already satisfied: inflect in /usr/lib/python3.10/site-packages (from jaraco.text->setuptools>=0.7.0->fasttext) (6.0.2)\n",
            "Requirement already satisfied: jaraco.context>=4.1 in /usr/lib/python3.10/site-packages (from jaraco.text->setuptools>=0.7.0->fasttext) (4.2.1)\n",
            "Requirement already satisfied: jaraco.functools in /usr/lib/python3.10/site-packages (from jaraco.text->setuptools>=0.7.0->fasttext) (3.5.2)\n",
            "Requirement already satisfied: fastjsonschema<=3,>=2.16.2 in /usr/lib/python3.10/site-packages (from validate-pyproject->setuptools>=0.7.0->fasttext) (2.16.2)\n",
            "Requirement already satisfied: pydantic>=1.9.1 in /usr/lib/python3.10/site-packages (from inflect->jaraco.text->setuptools>=0.7.0->fasttext) (1.10.4)\n",
            "Requirement already satisfied: typing-extensions>=4.2.0 in /usr/lib/python3.10/site-packages (from pydantic>=1.9.1->inflect->jaraco.text->setuptools>=0.7.0->fasttext) (4.4.0)\n",
            "Building wheels for collected packages: fasttext\n",
            "  Building wheel for fasttext (setup.py) ... \u001b[?25ldone\n",
            "\u001b[?25h  Created wheel for fasttext: filename=fasttext-0.9.2-cp310-cp310-linux_x86_64.whl size=3416620 sha256=c5345999d4e9065db533ec83b748c11a709a57a1252d8641ccb1937a89ebef79\n",
            "  Stored in directory: /home/mamadoo/.cache/pip/wheels/fc/22/93/1a3d535655339964fd8936d807ec85da466303d545023d2139\n",
            "Successfully built fasttext\n",
            "Installing collected packages: pybind11, fasttext\n",
            "\u001b[33m  WARNING: The script pybind11-config is installed in '/home/mamadoo/.local/bin' which is not on PATH.\n",
            "  Consider adding this directory to PATH or, if you prefer to suppress this warning, use --no-warn-script-location.\u001b[0m\u001b[33m\n",
            "\u001b[0mSuccessfully installed fasttext-0.9.2 pybind11-2.10.3\n"
          ]
        }
      ],
      "source": [
        "!pip install fasttext"
      ]
    },
    {
      "cell_type": "code",
      "execution_count": 24,
      "metadata": {},
      "outputs": [],
      "source": [
        "import fasttext\n",
        "from numpy.linalg import norm\n",
        "import numpy as np"
      ]
    },
    {
      "cell_type": "code",
      "execution_count": 5,
      "metadata": {},
      "outputs": [
        {
          "name": "stderr",
          "output_type": "stream",
          "text": [
            "Warning : `load_model` does not return WordVectorModel or SupervisedModel any more, but a `FastText` object which is very similar.\n"
          ]
        }
      ],
      "source": [
        "fast = fasttext.load_model(\"cc.fa.300.bin\")\n",
        "dim = fast.get_dimension()"
      ]
    },
    {
      "cell_type": "code",
      "execution_count": 36,
      "metadata": {},
      "outputs": [],
      "source": [
        "def create_doc_vectors(dataset):\n",
        "    doc_vectors = {}\n",
        "    counter = 0\n",
        "    for data in dataset:\n",
        "        doc_vector = np.zeros(dim)\n",
        "        num_of_tokens = len(data['tokens'])\n",
        "        for token in data['tokens']:\n",
        "            doc_vector += fast.get_word_vector(token)\n",
        "        doc_vector /= num_of_tokens\n",
        "        norm = np.linalg.norm(doc_vector)\n",
        "        doc_vector /=  norm\n",
        "        doc_vectors[counter] = doc_vector\n",
        "        counter += 1\n",
        "    return doc_vectors"
      ]
    },
    {
      "cell_type": "code",
      "execution_count": 37,
      "metadata": {},
      "outputs": [],
      "source": [
        "doc_vectors = create_doc_vectors(dataset)"
      ]
    },
    {
      "cell_type": "code",
      "execution_count": 41,
      "metadata": {},
      "outputs": [],
      "source": [
        "def find_similars(query, fast_model, doc_vectors, dim, dataset, dataset_size):\n",
        "    processed_query = preprocess_query(query)\n",
        "    query_vector = np.zeros(dim)\n",
        "    for token in processed_query:\n",
        "        query_vector += fast_model.get_word_vector(token)\n",
        "    query_vector /= len(processed_query)\n",
        "    query_vector /= norm(query_vector)\n",
        "    similar_docs = []\n",
        "    for i in range(dataset_size):\n",
        "        similar_docs.append((i, np.dot(doc_vectors[i], query_vector)))\n",
        "    similar_docs.sort(key=lambda x: x[1], reverse=True)\n",
        "    doc_ids = [x[0] for x in similar_docs]\n",
        "    return doc_ids"
      ]
    },
    {
      "cell_type": "markdown",
      "metadata": {},
      "source": [
        "#### Example 1"
      ]
    },
    {
      "cell_type": "code",
      "execution_count": 44,
      "metadata": {},
      "outputs": [
        {
          "name": "stdout",
          "output_type": "stream",
          "text": [
            "Top 10 results:\n",
            "پرسپولیس با مهاجم خارجی به توافق رسید |‌ بمب زمستانی سرخ‌ها در آستانه انفجار\n",
            "مهاجم برزیلی جانشین لوکادیا می شود؟ | رقم پیشنهاد سرخ‌ها به بازیکن گلزن مشخص شد\n",
            "مشتری اروپایی مهاجم پرسپولیس مشخص شد \n",
            "مهاجم مدنظر پرسپولیس از باشگاهش جدا شد | سرخ‌ها در انتظار حضور در تهران\n",
            "مهاجم برزیلی گزینه یحیی برای جانشینی لوکادیا | اتفاق عجیب در مذاکره سرخ ها با بازیکن خارجی\n",
            "دعوت نامه کودتاگران به طارمی | وسوسه در جمع بزرگان\n",
            "عکس| مهاجم برزیلی رسما به پرسپولیس پیوست\n",
            "بمب خارجی پرسپولیس به زودی در تهران | سرخ ها آماده قرارداد با جانشین لوکادیا\n",
            "۳ بازیکن پرسپولیس در لیست خروج یحیی | جانشین خارجی لوکادیا مشخص شد\n",
            "همبازی سابق و رفیق مسی در یکقدمی تیم عربستانی | پیشنهاد رسمی رسید\n"
          ]
        }
      ],
      "source": [
        "query = 'مهاجم فوتبال'\n",
        "results = find_similars(query, fast, doc_vectors, dim, dataset, len(dataset))\n",
        "show_first_ten_titles(results)"
      ]
    },
    {
      "cell_type": "markdown",
      "metadata": {},
      "source": [
        "#### Example 2"
      ]
    },
    {
      "cell_type": "code",
      "execution_count": 45,
      "metadata": {},
      "outputs": [
        {
          "name": "stdout",
          "output_type": "stream",
          "text": [
            "Top 10 results:\n",
            "منطق مذاکراتی ایران پذیرفته شده است | توصیف جالب معاون وزیرخارجه درباره ترامپ | مذاکرات برجام ادامه دارد؟\n",
            "اتحادیه اروپا یک شرکت صنایع هواپیماسازی ایران را تحریم کرد | دلیل تحریم ظالمانه اعلام شد\n",
            "واکنش ایران به تحریم‌های جدید انگلیس و اتحادیه اروپا | علیه مروجان خشونت اقدام متقابل می کنیم \n",
            "بورل: جایگزینی برای برجام وجود ندارد | کسانی که غیر از این فکر می‌کنند خود را فریب می‌دهند\n",
            "واکنش آمریکا به روابط تجاری ایران و عراق | آیا بانک‌های عراقی تحریم می‌شوند؟\n",
            "تبادل پیام‌های ایران و امریکا از کانال‌های مختلف | تهران - واشنگتن مذاکره مستقیم ندارند\n",
            "استرالیا ۱۶ شخص و نهاد ایرانی را تحریم کرد | شخصیت‌های برجسته نیروی مقاومت بسیج در میان تحریم شدگان\n",
            "تعدادی از شما حتی سفر کاری به اروپا نداشته‌اید و سرمایه‌ای آنجا ندارید ... | تصاویر معنادار وزیر خارجه ایران\n",
            " تاریخ انقضای برجام چه زمان است؟ | اتفاقی که از نظر غرب یعنی ایران به سلاح اتمی دست پیدا کرده است | آمریکا حق ندارد درباره مرگ برجام حرف بزند \n",
            "دفاع تمام قد مجلس از سپاه | هر مصوبه‌ای علیه سپاه با پاسخ متقابل مجلس ایران مواجه خواهد شد\n"
          ]
        }
      ],
      "source": [
        "query = 'تحریم‌های ظالمانه'\n",
        "results = find_similars(query, fast, doc_vectors, dim, dataset, len(dataset))\n",
        "show_first_ten_titles(results)"
      ]
    },
    {
      "cell_type": "markdown",
      "metadata": {},
      "source": [
        "#### Example 3"
      ]
    },
    {
      "cell_type": "code",
      "execution_count": 46,
      "metadata": {},
      "outputs": [
        {
          "name": "stdout",
          "output_type": "stream",
          "text": [
            "Top 10 results:\n",
            "وزیر ورزش دومین کارت زرد را از مجلس گرفت | علت تذکر نمایندگان به سجادی\n",
            "واکنش وزیر ورزش به تحریمش و حضور مجدد تماشاگران در ورزشگاه\n",
            "واکنش به ماجرای تجاوز در مدرسه فوتبال مشهد |‌ مدیرکل ورزش و جوانان خراسان رضوی؛ به شدیدترین شکل برخورد می‌کنیم\n",
            "نگاه واعظ آشتیانی به انتخابات کنفدراسیون فوتبال آسیا؛ یعنی باهوش تر و عاقل تر از شیخ سلمان وجود ندارد!؟ | این انتخابات مافیایی است\n",
            "با رعایت این برنامه‌ها می‌توانید عمر طولانی‌تری داشته باشید | چگونه کلسترول خون را کاهش دهیم؟\n",
            "سرنوشت کی روش به دست مجلس افتاد | استیضاح وزیر ورزش علیه تمدید قرارداد مرد پرتغالی\n",
            "واکنش وزارت ورزش و جوانان به توهین ملی پوش سابق ایران به مقدسات \n",
            "مربی سرشناس جهان ورزش درگذشت\n",
            "استیضاح وزیر ورزش با امضای ۵۱ نماینده کلید خورد\n",
            "بازگشایی سه مجموعه ورزشی شهرداری در تهران \n"
          ]
        }
      ],
      "source": [
        "query = 'ورزش کنید'\n",
        "results = find_similars(query, fast, doc_vectors, dim, dataset, len(dataset))\n",
        "show_first_ten_titles(results)"
      ]
    },
    {
      "attachments": {},
      "cell_type": "markdown",
      "metadata": {},
      "source": [
        "#### Elastic Fuzzy Search"
      ]
    },
    {
      "cell_type": "code",
      "execution_count": 2,
      "metadata": {},
      "outputs": [],
      "source": [
        "import json\n",
        "import requests"
      ]
    },
    {
      "cell_type": "code",
      "execution_count": 3,
      "metadata": {},
      "outputs": [],
      "source": [
        "# Elasticsearch endpoint configuration\n",
        "ELASTICSEARCH_HOST = \"192.168.57.2:8000\"\n",
        "ELASTICSEARCH_USER = \"elastic\"\n",
        "ELASTICSEARCH_PASSWORD = \"secret\"\n",
        "ELASTICSEARCH_ENDPOINT = \"http://\" + ELASTICSEARCH_USER + ':' + ELASTICSEARCH_PASSWORD + '@' + ELASTICSEARCH_HOST"
      ]
    },
    {
      "cell_type": "code",
      "execution_count": 4,
      "metadata": {},
      "outputs": [],
      "source": [
        "INDEX_NAME = 'news_index'"
      ]
    },
    {
      "cell_type": "code",
      "execution_count": 5,
      "metadata": {},
      "outputs": [],
      "source": [
        "def prepare_query(query, field):\n",
        "    prepared_data = {\n",
        "        \"query\": {\n",
        "            \"fuzzy\": {\n",
        "                field: {\n",
        "                    \"value\": query\n",
        "                }\n",
        "            }\n",
        "        }\n",
        "    }\n",
        "    return json.dumps(prepared_data)\n"
      ]
    },
    {
      "cell_type": "code",
      "execution_count": 6,
      "metadata": {},
      "outputs": [],
      "source": [
        "def fuzzy_search(elasticsearch_endpoint, query, field, index_name):\n",
        "    headers = {'Content-Type': 'application/json'}\n",
        "    prepared_data = prepare_query(query, field)\n",
        "    response = requests.get(f\"{elasticsearch_endpoint}/{index_name}/_search/\", data=prepared_data, headers=headers).content.decode()\n",
        "    return json.loads(response)"
      ]
    },
    {
      "attachments": {},
      "cell_type": "markdown",
      "metadata": {},
      "source": [
        "#### Example 1"
      ]
    },
    {
      "cell_type": "code",
      "execution_count": 7,
      "metadata": {},
      "outputs": [
        {
          "data": {
            "text/plain": [
              "{'took': 111,\n",
              " 'timed_out': False,\n",
              " '_shards': {'total': 1, 'successful': 1, 'skipped': 0, 'failed': 0},\n",
              " 'hits': {'total': {'value': 269, 'relation': 'eq'},\n",
              "  'max_score': 7.4145775,\n",
              "  'hits': [{'_index': 'news_index',\n",
              "    '_type': '_doc',\n",
              "    '_id': 'NYu5bYYB2Omwr6TiR90_',\n",
              "    '_score': 7.4145775,\n",
              "    '_source': {'date': 'چهارشنبه ۵ بهمن ۱۴۰۱ - ۱۱:۰۲',\n",
              "     'title': 'خوراکی\\u200cهایی که در زمان باستان رواج داشتند | علت عجیب آدم\\u200cخواری مردم گینه نو! | قهوه و لوبیا اولین بار در این نقاط کشت شدند',\n",
              "     'intro': 'بی\\u200cشک تاریخ و گذشته هر چیز برای ما جالب توجه است. پیشینه تولید و تکثیر محصولات زراعی \\xa0نیز از این موضوع مستثنی نیست. به\\u200cعنوان نمونه شاید برایتان جالب باشد پرکاربردترین مواد خوراکی مانند قهوه یا سیب\\u200cزمینی از کجا آمده\\u200cاند.',\n",
              "     'body': 'به گزارش همشهری آنلاین، وقتی پایتان به طبیعت باز می\\u200cشود بی\\u200cشک میوه\\u200cهای جنگلی را امتحان کرده\\u200cاید. وقتی این میوه\\u200cهای جنگلی را با میوه\\u200cهایی که از فروشگاه\\u200cها و تره\\u200cبارهای محل زندگی خود مقایسه می\\u200cکنید حتما متوجه تفاوت آنها از نظر اندازه و شکل می\\u200cشویم.\\nمثلا توت فرنگی جنگلی خیلی کوچک\\u200cتر از اندازه بازاری آن است که معمولا به توت فرنگی وحشی معروف است. یا در جنگل\\u200cهای شمال سیب\\u200cهای ترش جنگلی می\\u200cروید که اندازه\\u200cشان کوچک است.\\n\\nمیوه\\u200cها پیش از اهلی شدن چه شکلی داشتند؟\\n\\nاما واقعیت این است که تمام محصولات خوراکی و زراعی که امروزه مصرف می\\u200cکنیم از همین گونه\\u200cهای وحشی به\\u200c وجود آمده\\u200cاند. درواقع اجداد ما در دوران باستان کم\\u200cکم به\\u200cصورت آگاهانه یا ناآگاهانه با تغییر ژنتیکی آنها را اهلی کرده\\u200cاند.\\nالبته اندازه دانه، مزه خوب و فراوانی آنها هم در اهلی کردن دانه\\u200cها نقش داشته است. این کار یعنی اهلی کردن گیاهان به ۱۰هزار سال پیش باز می\\u200cگردد. کشاورزان اولیه انواع دانه\\u200cهای زراعی را می\\u200cکاشتند تا بهترین\\u200cشان را انتخاب کنند. صد البته که آنها اصلا از علم ژنتیک اطلاعی نداشتند!\\n\\nاما سوال اینجاست پس چگونه توانستند محصولات زراعی را اهلی و خوردنی کنند؟ درباره این موضوع جرد دایموند زیست شناس و دانشمند آمریکایی تحقیقات کاملی انجام داده است که منبع ما در این مطلب است.\\nبرگردیم به موضوع اهلی کردن دانه\\u200cها؛ مثلا نخود فرنگی در سال ۸ هزار پیش از میلاد، زیتون حدود ۴هزار سال پ. م، توت فرنگی در سده\\u200cهای میانی و گردوی آمریکایی پس از سال ۱۸۴۶ اهلی شد. همچنین لوبیا، خربزه، سیب\\u200cزمینی و بادمجان همگی محصولاتی هستند که نیاکان وحشی ِ آنها تلخ یا سمی بودند و به مرور اهلی شدند.\\nاین در حالی است که هنوز هم برخی میوه\\u200cها اهلی نشده\\u200cاند. مثل بادام که دانه تلخی دارد و هنوز هم بادام وحشی، اهلی نشده است.\\nحتما می\\u200cدانید که بسیاری از گیاهان توسط گرده افشانی و توسط نیروی باد تکثیر می\\u200cشوند. اما در دوران باستان به غیر ازین روش عوامل دیگری هم نقش داشتند. تعداد حیوانات \\xa0درآن زمان بسیار بیشتراز الان بود، بنابراین بخشی از روند تکثیر توسط حیوانات انجام می\\u200cشد.\\nحیوانات گرسنه میوه را می\\u200cبلعیدند و بعد که حرکت یا پرواز می\\u200cکردند با دفع فضولات یا تف کردن بزاق\\u200cشان محصول زراعی اهلی شده را به جاهای دیگر انتقال می\\u200cدانند و دانه\\u200cها با این روش هزاران کیلومتر جابه\\u200cجا و پخش می\\u200cشدند. مثلا پرندگانی مانند طرقه در تکثیر توت فرنگی، سنجاب\\u200cها در تکثیر بلوط\\u200cها، خفاش\\u200cها در تکثیر انبه و مورچه\\u200cها در تکثیر بسیاری از مواد زراعی تاثیر داشته\\u200cاند.\\nبزرگ\\u200cتر شدن اندازه میوه\\u200cها به مرور زمان\\nبرگردیم سر اندازه میوه\\u200cهای امروزی. در دوران باستان اندازه میوه\\u200cها کوچک بودند. به عنوان نمونه نخودفرنگی\\u200cهای وحشی کوچک هزاران سال جمع\\u200cآوری می\\u200cشدند، مانند بلوبری\\u200cهای کوچکی که ما امروزه جمع\\u200cآوری می\\u200cکنیم، و در این میان\\xa0 انسان\\u200c برداشت بزرگ\\u200cترین نوع آن را ترجیح و گسترش داد.\\nسیب\\u200cهای امروزی حدود ۷سانتی\\u200cمتر قطر دارند؛ در حالی که سیب\\u200cهای وحشی نهایت ۳سانتی\\u200cمتر هستند. یا چوب بلال فقط به یک و نیم سانتی\\u200cمتر می\\u200cرسید، اما کشاورزان سرخپوست مکزیکی در سال ۱۵۰۰ میلادی بلال\\u200cهایی به طول ۱۵ سانتی\\u200cمتر پرورش دادند.\\nکدوحلوایی هم نمونه دیگری ازهمین محصولات زراعی است؛ کشاورزان اولیه توانستند کدوحلوایی\\u200cهای وحشی را که گوشت آنها از دانه آنها بیشتر بود انتخاب و تکثیر کنند. کدوحلوایی\\u200cهای امروزی از همان کدوحلوایی\\u200cهای آمریکایی که هزاران سال پیش اهلی شدند هستند.\\nاینجا خاستگاه قهوه است\\n\\nحتما برایتان جذاب است که بدانید قهوه این دانه پرطرفدار از کجا آمده است. اتیوپی\\u200cها هم در اهلی کردن دانه\\u200cهای وحشی مانند گندم و جو مهارت داشتند. اما معروف\\u200cترین محصولات آنها قهوه بوده که اکنون نیز دانه\\u200cهای قهوه در سراسر دنیا \\u200cپراکنده شده است.\\nحتی درخت زیتون نیز از ۴هزار سال پ. م برای روغنش کاشته می\\u200cشد. در واقع کشاورزان اولیه ناخودآگاه و به\\u200cصورت تجربی \\xa0به راز تکامل محصولات زراعی پی برده بودند.\\nالبته فراموش نشود همیشه رشد یک محصول زراعی راحت و آسان انجام نمی\\u200cشد. مثلا درختان میوه مانند زیتون، انجیر، خرما، انار و ... تا ۳ سال پس از کاشت محصول نمی\\u200cدادند؛ برای همین این نوع کشاورزی مناسب افرادی بود که در همان دوران باستان به یکجانشینی خو کرده بودند. یا برخی درختان به پیوند زدن نیاز داشتند. برای همین اهلی کردن چنین درختانی تا دوران کلاسیک طول کشید.\\nدرخت سیب یکی از همین نوع درختان است. سیب جزو دشوارترین درختان میوه برای کاشت و از آخرین درختان مهم اهلی شده در اوراسیا (در دانش جغرافیا و علوم سیاسی، به سرزمین ادامه\\u200cداری که دو قاره اروپا و آسیا را دربرمی\\u200cگیرد، اصطلاحأ اوراسیا گفته می\\u200cشود) \\xa0بوده است، زیرا نیاز به زدن پیوند داشته است. تا عهد کلاسیک یونانی\\u200cها یعنی تا ۸هزار سال پس از ظهور تولید خوراک اوراسیا هیچ مدرکی بر اینکه سیب در اروپا و منطقه هلال حاصلخیز کشت شده باشد وجود ندارد.\\n\\n\\n\\nنقشه بالا محدوده هلال حاصل\\u200cخیز را نشان می\\u200cدهد\\n\\n\\n\\nالبته نباید فراموش کرد که جغرافیا نیز در اهلی شدن گیاهان نقش بسیاری دارد. مثلا خیلی از گیاهان و محصولات زراعی و کشاورزی در مناطق کوهستانی اصلا رشد نمی\\u200cکنند و به خاک حاصلخیز و جلگه\\u200cای نیاز دارند.\\nمثلا کوه نشینان گینه نو با محدودیت جدی \\u200cپروتئین رو به رو هستند. برای همین کودکان در کوهستان\\u200cهای گینه نو شکم بادکرده دارند. کمبود پروتئین احتمالا علت رواج آدمخواری در جوامع کوهستانی گینه نو بوده است. تا اینکه درنهایت یک ریشه خوراکی جدید یعنی سیب زمینی شیرین از آمریکای جنوبی به گینه نو رسید. زیرا سیب زمینی شیرین در ارتفاع هم رشد می\\u200cکند. نتیجه ورود سیب\\u200cزمینی شیرین انفجار جمعیت در مناطق کوهستانی بود.\\nانواع عمده محصولات زراعی زمان باستان\\nدر زیر نمونه\\u200cهایی از انواع عمده محصولات زراعی دنیای باستان را در نخستین مناطق کشاورزی جهان می\\u200cخوانید:\\n\\n\\n\\n منطقه \\n غلات و سایر گندمیان \\n حبوبات \\n صیفی جات \\n ریشه\\u200cها و غده\\u200cها \\n\\n\\n هلال حاصلخیز شامل خاورمیانه \\xa0 \\n گندم دودانه، گندم تک دانه و جو \\n نخود، عدس، نخود سفید \\n خربزه وحشی \\n  \\n\\n\\n چین \\n ارزن، برنج \\n سویا، لوبیای چینی، ماش \\n خربزه وحشی \\n  \\n\\n\\n مزو آمریکا \\n ذرت \\n لوبیای معمولی و لوبیای قرمز \\n کدوی پیپو \\n  \\n\\n\\n آند، آمازون \\n کینوا و ذرت \\n لوبیای لیما، لوبیای معمولی، بادام زمینی \\n کدوی ماکسیما \\n سیب زمینی \\n\\n\\n آفریقای غربی و ساحل \\n ذرت، ارزن، برنج آفریقایی \\n لوبیای چشم بلبلی، پسته \\n هندوانه و کدوی قلیایی \\n سیب زمینی هندی آفریقایی \\n\\n\\n هند \\n ذرت خوشه\\u200cای، گندم، جو، برنج، انواع ارزن \\n لوبیا سنبلی، نخود سیاه، نخود سبز \\n خیار \\n  \\n\\n\\n اتیوپی \\n ارزن، گندم، جو، قهوه \\n نخود، عدس \\n  \\n  \\n\\n\\n گینه نو \\n نیشکر و موز \\n  \\n  \\n سیب زمینی هندی، گوش فیل \\n\\n\\n\\n\\n',\n",
              "     'category': 'LifeSkills'}},\n",
              "   {'_index': 'news_index',\n",
              "    '_type': '_doc',\n",
              "    '_id': 'L4u4bYYB2Omwr6TitNdC',\n",
              "    '_score': 7.04529,\n",
              "    '_source': {'date': 'جمعه ۱۴ بهمن ۱۴۰۱ - ۰۹:۴۲',\n",
              "     'title': 'اصرار فراوان آمریکا برای مذاکره مستقیم با ایران | هیچگاه از میز مذاکره فرار نکرده\\u200cایم',\n",
              "     'intro': 'وزیر امور خارجه جمهوری اسلامی ایران گفت: ایران هیچ محدودیتی برای توسعه مناسبات با کشور دوست و برادر نیکاراگوئه ندارد.',\n",
              "     'body': 'به گزارش همشهری آنلاین، حسین امیر عبداللهیان \\xa0وزیر امور خارجه جمهوری اسلامی ایران در دیدار با «دانیل اورتگا» رییس جمهور نیکاراگوئه در جریان سفر به این کشور آمریکای لاتین، در بخشی از سخنان خود با بیان این که ما پیشرفت و توسعه نیکاراگوئه را پیشرفت و توسعه ایران و \\xa0منطقه می\\u200cدانیم، گفت : دونالد ترامپ رییس جمهور سابق آمریکا \\xa0تلاش زیادی کرد که \\xa0صادرات نفت ایران را در سایه تحریم به ادعای خودش به صفر برساند و \\xa0ما در ایران تلاش کردیم تحریم\\u200cها را بی\\u200cاثر کنیم.\\nاین دیپلمات عالی رتبه جمهوری اسلامی ایران در این زمینه با اشاره به روند مذاکرات رفع تحریم\\u200cها گفت : طرف آمریکایی همچنان پیگیر مذاکره و گفت\\u200cوگو با ایران است از جمله این که اصرار فراوانی برای مذاکره مستقیم با ایران دارد.\\nوی خطاب به رییس جمهور نیکاراگوئه ادامه داد : شما اشاره کردید اهداف آمریکایی\\u200cها از مذاکره با ملت\\u200cها و دولت\\u200cهای مستقل چیست. ما \\xa0در فرهنگ ایرانی و اسلامی هیچگاه از میز مذاکره فرار نکرده\\u200cایم و فاصله نگرفته\\u200cایم \\xa0و در میز مذاکره با اقتدار، منطق و عزت، منافع ملی کشور را پیگیری کرده\\u200cایم.\\nوزیر امورخارجه جمهوری اسلامی ایران در بخشی دیگر از صحبت\\u200cهای خود تصریح کرد: ایران هیچ محدودیتی برای توسعه مناسبات با کشور دوست و برادر نیکاراگوئه ندارد. مردم و دولت ایران با قدم\\u200cهای محکم در مسیر پیشرفت و استقلال کشور گام\\u200cهای قوی خود را برمی\\u200cدارند.\\nامیرعبداللهیان همچنین خطاب به مقامات نیکاراگوئه اظهار کرد: ما در حال برنامه\\u200cریزی سفر جناب آقای رئیسی رئیس جمهور ایران در آینده به آمریکای لاتین از جمله کشور \\xa0نیکاراگوئه هستیم.\\n',\n",
              "     'category': 'Politics'}},\n",
              "   {'_index': 'news_index',\n",
              "    '_type': '_doc',\n",
              "    '_id': 'bou4bYYB2Omwr6Tiodah',\n",
              "    '_score': 6.5661144,\n",
              "    '_source': {'date': 'دوشنبه ۲۶ دی ۱۴۰۱ - ۱۶:۰۲',\n",
              "     'title': ' تصاویر | طلبکاران شاه مقابل سفارت سوئیس تجمع کردند | متن بیانیه معترضان | هشدار به آمریکا ؛ با خشم توفنده ملت انقلابی مواجه خواهید بود اگر...',\n",
              "     'intro': 'امروز همزمان با سالروز فرار شاه خائن از کشور، تجمع طلبکاران شاه تحت عنوان «مطالبه ۵۶ میلیارد دلار دزدی» از سوی کمیته مردمی - دانشجویی مطالبه گران از شاه برگزار شد.',\n",
              "     'body': 'به گزارش همشهری آنلاین، امروز همزمان با سالروز فرار شاه خائن از کشور، تجمع طلبکاران شاه تحت عنوان \"مطالبه ۵۶ میلیارد دلار دزدی\" از سوی کمیته مردمی - دانشجویی مطالبه گران از شاه برگزار شد.\\nتجمع کنندگان در پایان این مراسم با قرائت بیانیه ای تاکید کردند: ۴۴ سال پیش در چنین روزی شاه خائن و جنایتکار از ترس افتادن به دست مردم و محاکمه و مجازات در دادگاه عدل اسلامی با سرقت ۵۶ میلیارد دلار اموال غارت کرده از مردم به خارج گریخت و با این دزدی بزرگ تاریخی برگ سیاه دیگری به دفتر خیانت های خاندان منحوس پهلوی افزود.\\n\\nآنها همچنین خواستار بازگرداندن محتوای ۳۸۴ چمدان پر از جواهرات و عتیقه جات منحصر بفرد دزدیده شده توسط خاندان پهلوی که بعضا علاوه بر ثروت مادی بخشی از میراث فرهنگی ایرانیان است باید به ملت ایران شدند.\\nمتن این بیانیه به شرح زیر است:\\nبسم الله الرحمن الرحیم\\nامام علی (ع): لایدرک الحق الا بالجد. حق جز با تلاش بدست نمی آید\\xa0\\n۴۴ سال پیش در چنین روزی شاه خائن و جنایتکار از ترس افتادن به دست مردم و محاکمه و مجازات در دادگاه عدل اسلامی با سرقت ۵۶ میلیارد دلار اموال غارت کرده از مردم به خارج گریخت و با این دزدی بزرگ تاریخی برگ سیاه دیگری به دفتر خیانت های خاندان منحوس پهلوی افزود.\\nاین اموال که بصورت نقدی و یا از طریق حساب های بانکی همچنین صدها چمدان عتیقه جات و طلا و جواهرات بعضا منحصر به فرد و خرید املاک و ویلاها و کاخ\\u200cهای متعدد در سایر کشورهای جهان توسط خانواده شاه فراری به سرقت رفت تا علاوه بر استمرار زندگی ننگین اشرافی و سراسر ریخت و پاش و اسراف این خانواده پلید، از اموال مردم ایران برای راه اندازی گروه های تروریستی وکشتار مردم بیگناه و سازماندهی توطئه های براندازی و ادامه نوکری آمریکا و انگلیس استفاده شود.\\nاموال غارت شده اگر در هر سال فقط ۳ در صد سود کرده باشد اکنون ۲۱۸ میلیارد دلار شده است و نصف آنهم خرج عیاشی و قمار و باج دادن به سران غربی و سازمانهای جاسوسی غرب شده باشد باقیمانده آن لااقل ۱۰۹ میلیارد دلار و سهم هر ایرانی از باقیمانده این اموال لااقل ۶۰ میلیون تومان خواهد بود مردم ایران سزاوار تر از هر کسی برای بهره برداری از ثروت خودشان هستند و حق دارند مطالبه گر این اموال غارت شده باشند.\\nدر سالهای اولیه انقلاب اسلامی مردم ایران تجمعات و تظاهرات بزرگی را برای برگرداندن این اموال براه انداختند و مسئولان کشور هم با مکاتبات و مطالبات حقوقی و سیاسی خواهان بازگرداندن این اموال شدند که هیچکدام از این کارها نتیجه نداد. لذا نهایتا دانشجویان پیرو خط امام تنها راه برگرداندن شاه ملعون و اموال به غارت رفته را اشغال لانه جاسوسی آمریکا دانستند و با گروگانگیری جاسوسان آمریکایی و طی بیانیه های متعدد اعلام کردند که \\xa0شرط آزاد شدن گروگانهای آمریکایی \\xa0بازگرداندن شاه ملعون و اموال سرقت شده توسط وی به ایران است.\\nرژیم مستکبر آمریکا بیشتر از ۴۰۰ روز در مقابل این خواسته مردم ایران که دانشجویان قهرمان ما بیان کننده آن بودند مقاومت کرد اما نهایتا تسلیم شد و پس از مذاکرات با نمایندگان دولت وقت ایران طی بیانیه الجزایر که در تاریخ ۲۹ دیماه ۱۳۵۹ به امضای طرفین رسید آمریکا متعهد شد کلیه اموال تحت اختیار خاندان شاه را که مورد شکایت جمهوری اسلامی است تا زمان رسیدگی در دادگاه توقیف کند و اجازه انتقال آنها را ندهد و نهایتا در صورت صدور رای دادگاه آنها را به ایران برگرداند.\\nاما متاسفانه رژیم آمریکا مثل همیشه به تعهد خود عمل نکرد و نه تنها اموال سرقت شده توسط شاه را به ایران پس نداد بلکه حتی اموال ایران نزد بانک های آمریکایی را که دولت آمریکا در بانکهای خود بلوکه کرده بود و بازگرداندن آن اموال به ایران هم بخش دیگری از تعهد آمریکا در بیانیه الجزایر بود به ایران پس نداد و با تاسف بیشتر باید گفت ۴۱ سال تلاش حقوقی دولت \\xa0جمهوری اسلامی در دادگاههای بین المللی برای بازگرداندن این اموال با بدعهدی و خیانت آمریکا تاکنون به نتیجه نرسیده است.\\nامروز در ۲۶ دی ماه مصادف با ۴۴ اُمین سالگرد فرار مفتضحانه شاه و در آستانه ۲۹ دی ماه \\xa0۴۱ اُمین سالگرد \\xa0صدور بیانیه الجزایر ما جمعیت طلبکاران شاه که به نمایندگی از ملت غیور ایران برای بار دوم حرکت پایان ناپذیر مردمی را برای بازگرداندن این اموال غارت شده توسط شاه ملعون و آمریکای جنایتکار آغاز می کنیم \\xa0و \\xa0از هیچ اقدام مشروعی برای بازگرداندن این اموال صرفنظر نخواهیم کرد.\\n\\nما امروز در اینجا جمع شده ایم تا از طریق این سفارتخانه که حافظ منافع آمریکا در ایران است به آمریکای جنایتکار و غارتگر بین المللی اعلام کنیم اگر اموال ملت ایران را باز نگرداند با خشم توفنده ملت انقلابی مواجه خواهد بود.\\n۱)حسابهای خاندان منحوس پهلوی در بانکهای آمریکا و اروپا باید مسدود و تمام میلیاردها دلار نقدینگی آن باید به مردم ایران مسترد شود.\\n۲) بیش از ده کاخ و جزیره و ویلاها و املاک متعدد دیگر که درآمریکا، انگلیس، ایتالیا، سوییس، فرانسه، اسپانیا و... با پول ملت ایران خریداری شده و املاک ایرانیان است، باید به مردم ایران برگردانده شود۰\\n۳) محتوای ۳۸۴ چمدان پر از جواهرات و عتیقه جات منحصر بفرد دزدیده شده توسط خاندان پهلوی که بعضا علاوه بر ثروت مادی بخشی از میراث فرهنگی ایرانیان است باید به ملت ایران بازگردانده شود.\\n۴) اموال بلوکه ایران در بانکهای آمریکایی حق مسلم ملت ایران است و اگر به ایران برنگردانند ما هم حق خود می دانیم به هر طریق مشروعی این اموال از آمریکا برداشت کنیم و آنرا به صاحب آن برگردانیم.\\n',\n",
              "     'category': 'Politics'}},\n",
              "   {'_index': 'news_index',\n",
              "    '_type': '_doc',\n",
              "    '_id': '3464bYYBTzCi8Caut8Ld',\n",
              "    '_score': 6.3865414,\n",
              "    '_source': {'date': 'یکشنبه ۹ بهمن ۱۴۰۱ - ۰۸:۵۵',\n",
              "     'title': 'ملیت فرح پهلوی لو رفت | ویزای همسر شاه معدوم ایران منتشر شد',\n",
              "     'intro': 'انتشار ویزای همسر شاه معدوم ایران از سوی گروه هکری «عدل علی» واکنش\\u200cهای بسیاری را برانگیخت. ',\n",
              "     'body': 'به گزارش همشهری آنلاین، ایران نوشت: این گروه هکری که پیش از این تصاویر دیگری نیز از واقعیت زندگی پهلوی\\u200cها منتشر کرده بود، در توضیح تصویر افشاگرانه خود نوشت که خانواده شاه که شعار «ما آریایی هستیم، عرب نمی\\u200cپرستیم» سر می\\u200cدادند، اکنون تابعیت مصری یا امریکایی دارا هستند.\\nدر تصویر منتشر شده توسط این گروه هکری، ملیت فرح دیبا تحت عنوان دولت مصر ثبت شده است.\\nبرخی از کاربران فضای مجازی با انتشار اسنادی تاریخی از روابط تنگاتنگ رژیم شاه با رژیم\\u200cهای مرتجع عرب در منطقه از جمله اعلام عزای عمومی هفت روزه پس از مرگ پادشاه عربستان، به این خبر واکنش نشان دادند.\\nگفتنی است، رسانه\\u200cهای فارسی\\u200cزبان وابسته به آل\\u200cسعود در جریان\\u200cهای آشوب\\u200cهای اخیر عمده حمایت خود را بر گروه\\u200cهای تجزیه\\u200cطلب قرار دادند که همین امر موجب نارضایتی طیف نزدیک به خانواده پهلوی شده است.\\n',\n",
              "     'category': 'Politics'}},\n",
              "   {'_index': 'news_index',\n",
              "    '_type': '_doc',\n",
              "    '_id': 'ko65bYYBTzCi8CauQ8hD',\n",
              "    '_score': 6.3558507,\n",
              "    '_source': {'date': 'جمعه ۹ دی ۱۴۰۱ - ۱۹:۴۰',\n",
              "     'title': 'تصاویر زشت\\u200cترین حیوانات روی زمین که تا به حال ندیده\\u200cاید | سرگروه حیوانات زشت جهان را ببینید',\n",
              "     'intro': 'در یک نظرسنجی آنلاین که توسط انجمن حفاظت از حیوانات زشت مستقر در بریتانیا انجام شد، حباب ماهی که از نظر زیبایی شناختی به چالش کشیده شده بود، زمانی به عنوان زشت\\u200cترین حیوان جهان انتخاب و سرگروه حیوانات زشت دنیا شد.',\n",
              "     'body': 'به گزارش همشهری آنلاین، هر حیوانی نمی\\u200cتواند مانند یک پاندای غول پیکر، بامزه و یا مانند یک طاووس زیبا و جذاب باشد، اما هر حیوانی در طبیعت نقشی دارد و هر موجودی برای زنده نگه داشتن زمین مهم است.\\nغیرجذاب بودن به برخی از گونه\\u200cها اجازه می\\u200cدهد در محیط\\u200cهای خشن زنده بمانند و مطالعه آن\\u200cها می\\u200cتواند به درک بهتر اکوسیستم\\u200cها کمک کند. کشف اینکه که چرا برخی موجودات شکل خاصی دارند حتی ممکن است کلید تلاش\\u200cهای حفاظتی آن\\u200cها باشد.\\nدر این مطلب به معرفی ۱۳ مورد از زشت\\u200cترین حیوانات حیات وحش پرداختیم. در ادامه با این گزارش جذاب و خواندنی همراه ما باشید:\\nکندور کالیفرنیا (گونه\\u200cای از کرکس\\u200cها)\\nکندور کالیفرنیا یکی از کمیاب\\u200cترین پرندگان جهان و بزرگترین پرنده آمریکای شمالی است و هنگامی که بر فراز دره\\u200cها و بیابان\\u200cهای ساحل غربی آمریکا پرواز می\\u200cکند بسیار جذاب است. با این حال، از نزدیک، این پرنده چندان فتوژنیک نیست. سر طاس آن نشانه سبک زندگی اش به عنوان یک لاشخور است، چون زمانی که پرنده از لاشه\\u200cهای بزرگ تغذیه می\\u200cکند، سرش پر از لخته\\u200cهای خون و موجب ریزش پرهای آن ناحیه می\\u200cشود.\\nفعالیت\\u200cهای انسانی، مسمومیت با سرب و استفاده از آفت کش\\u200cهایی مانند DDT تقریباً جمعیت کندور کالیفرنیا را در قرن ۱۹ و ۲۰ نابود کرد. این پرندگان در اواخر دهه ۱۹۷۰ به نقطه خطرناک انقراض نزدیک شدند و تا سال ۱۹۸۱ تنها ۲۲ مورد از آن\\u200cها باقی ماندند.\\nدانشمندان یک برنامه فشرده پرورش در اسارت را آغاز کردند و به تدریج آن\\u200cها را دوباره به طبیعت بازگرداندند. اگرچه جمعیت کندورها به آرامی در حال افزایش است، اما این گونه هنوز هم توسط IUCN به شدت در معرض خطر انقراض در نظر گرفته می\\u200cشود و کل جمعیت آن\\u200cها ۵۱۸ تخمین زده می\\u200cشود که هم شامل کندرهای در اسارت و هم کندرهای طبیعت است.\\n\\nحباب ماهی\\nشاید قضاوت در مورد یک ماهی خارج از آب ناعادلانه باشد، اما حباب ماهی بیشتر شبیه یک توپ لجن است تا یک موجود زنده. حباب ماهی در اعماق اقیانوس\\u200cها زندگی می\\u200cکند که فشار آب بسیار زیاد است. در واقع، ظاهر ژلاتینی این ماهی یک انطباق زیستی با شرایط اعماق اقیانوس است – ظاهر ژله\\u200cای به آن اجازه می\\u200cدهد در اعماق آب شناور بماند.\\nدر یک نظرسنجی آنلاین که توسط انجمن حفاظت از حیوانات زشت مستقر در بریتانیا انجام شد، حباب ماهی که از نظر زیبایی شناختی به چالش کشیده شده بود، زمانی به عنوان زشت\\u200cترین حیوان جهان انتخاب و سرگروه حیوانات زشت دنیا شد.\\n\\nموش کور طاس\\nموش کور طاس تقریباً نابینا است. این جانوران در زیر زمین در سیستم\\u200cهای پیچیده زندگی می\\u200cکنند و نیاز کمی به بینایی خوب دارند. بدن تقریباً بدون مو آن\\u200cها نیزبرای سازگاری با محیط زیرزمینی است.\\nبا کمال تعجب، موش\\u200cهای کور طاس بیشتر از موش\\u200cها با خوکچه هندی مرتبط هستند. همچنین، برخلاف نامشان، آن\\u200cها در واقع مقداری کم مو دارند. حدود ۱۰۰ تار موی ریز روی بدن آن\\u200cها وجود دارد که مانند محرک حسی عمل می\\u200cکند تا به آن\\u200cها کمک کند آنچه را که در اطرافشان است احساس کنند، به علاوه موهای بین انگشتان پا که به آن\\u200cها کمک می\\u200cکند هنگام ساخت تونل، خاک را پشت سر خود جابجا کنند.\\nاین جوندگان چروکیده در گروه\\u200cهای بزرگ زندگی می\\u200cکنند (به طور متوسط ۷۰ عضو، اما تا ۲۹۵ نفر ثبت شده است) و به گویش\\u200cهای خاص کلنی\\u200cها ارتباط برقرار می\\u200cکنند. رفتار بسیار اجتماعی آن\\u200cها ممکن است اهداف متعددی را دنبال کند، زیرا برای گرم ماندن باید در کنار هم جمع شوند – پوست نازک و کاغذی آن\\u200cها گرمای بدن را حفظ نمی\\u200cکند.\\nجالب اینجاست که موش\\u200cهای کور طاس نیز با توجه به جثه\\u200cشان در میان تمام جوندگان عمر طولانی\\u200cتری دارند و می\\u200cتوانند نزدیک به ۳۰ سال زندگی کنند.\\n\\nمیمون خرطوم\\u200cدار\\nبرای میمون خرطوم دار، هرچه بینی بزرگتر باشد، بهتر است. دانشمندان بر این باورند که بینی بزرگ بر صداهای میمون خرطومدار نر تأثیر می\\u200cگذارد که هم ماده\\u200cها را جذب می\\u200cکند و هم نرهای رقیب را می\\u200cترساند.\\nاین میمون\\u200cهای کنجکاو به لطف پاها و دست\\u200cهای تاردارشان شناگران شگفت\\u200cانگیزی هستند. در واقع، آن\\u200cها عاشق آب هستند و در میان درختان نزدیک به رودخانه\\u200cها زندگی می\\u200cکنند (آن\\u200cها هرگز بیش از ۶۰۰ متر یا ۰.۳۷ مایل از رودخانه فاصله ندارند) و در گروه\\u200cهای بزرگ درست در لبه آب می\\u200cتوان آنها را دید.\\n\\nخوک وحشی آفریقایی\\nبه عنوان یکی از اعضای وحشی خانواده خوک\\u200cها، خوک وحشی آفریقایی ویژگی\\u200cهای بدنی مشخص دارد، عاج\\u200cهایی که از دهانش بیرون زده است. آن\\u200cها در واقع دو جفت عاج دارند: عاج\\u200cهای بالایی از پوزه\\u200cهایشان بیرون می\\u200cآیند و یک نیم دایره ایجاد می\\u200cکنند و عاج\\u200cهای پایینی آن\\u200cها در پایه مجموعه دیگر قرار دارند.\\nبدن خوک\\u200cهای وحشی با مو پوشیده شده است، سر نسبتا بزرگی دارند که با کل تنه یک بی قوارگی خاصی را ایجاد می\\u200cکند. اما این ویژگی\\u200cهای فیزیکی باعث می\\u200cشود که خوک\\u200cهای وحشی به خوبی با زیستگاه\\u200cهای ساوانا سازگار شوند.\\n\\nموش کور آمریکایی (موش بینی ستاره ای)\\nموش کور آمریکایی ممکن است شگفت\\u200cانگیزترین بینی را در قلمرو حیوانات داشته باشد. بینی عجیب آن\\u200cها با ۲۲ زائده گوشتی است که بیشتر شبیه انگشتان فوق حساس هستند تا بینی. این پوزه\\u200cها با بیش از ۲۵۰۰۰ گیرنده\\u200c حسی پوشانده شده اند که به موش کور کمک می\\u200cکند راه خود را در لانه زیرزمینی پیدا کند.\\nتمام این گیرنده\\u200cهای حسی، بینی این موش را به یکی از حساس\\u200cترین بینی\\u200cها در کل قلمرو حیوانات تبدیل می\\u200cکند. این به این معنی است که موش کور آمریکایی یک شکارچی بسیار موثر است. شاخک\\u200cهای بیرونی شکار احتمالی را بررسی می\\u200cکنند و سپس حسگرهای داخلی تصمیم می\\u200cگیرند که آیا طعمه خوراکی است یا خیر؟\\n\\nآی-آی (از گونه میمون ها)\\nاین موجود یک پستاندار است که فقط در ماداگاسکار یافت می\\u200cشود. آی\\u200cآی\\u200cها دارای تعدادی ویژگی غیرعادی هستند، از جمله انگشتان میانی بلند، استخوانی و جادوگر که از آن برای بیرون کشیدن حشرات از تنه درختان استفاده می\\u200cکنند علاوه بر این، آی\\u200cآی\\u200cها دارای دندان\\u200cهای ثنایایی هستند که به طور مداوم رشد می\\u200cکنند، که غیرمعمول است و گوش\\u200cهای بسیار بزرگی دارند.\\nاین پستانداران از جستجوی ضربه\\u200cای برای یافتن غذای خود استفاده می\\u200cکند. همانطور که در امتداد تنه درختان راه می\\u200cرود، آی آی با انگشت میانی اسکلتی خود به آن ضربه می\\u200cزند. گوش بزرگش را جلو می\\u200cبرد و به صداهایی که از درخت می\\u200cآید گوش می\\u200cدهد. وقتی می\\u200cداند بالای یک تنه حشره\\u200cای است، درخت را با دندان\\u200cهای عظیمش می\\u200cدرد تا بتواند تنه را بشکافد و از حشرات درون آن تغذیه کند.\\nآی آی به دلیل از دست دادن زیستگاه و شکار توسط IUCN در معرض خطر انقراض است. در واقع، از سال ۲۰۱۶ بخشی از لیست ۲۵ پستاندار در معرض خطر انقراض بوده است.\\n\\nماهی راهب\\nاین ماهی\\u200cهای غیر اشتها آور با ظاهری عجیب و غریب یک غذای لذیذ رایج هستند، اما برای سال\\u200cها، مردم تمایلی به خوردن این ماهی نداشتند، زیرا بسیار زشت بود. سرآشپزها در نهایت متوجه شدند که ظاهر آن فریبنده است و اکنون در منوهای انواع رستوران\\u200cهای خوب وجود دارد.\\nماهی راهب با پوستی خالدارو هیکلی عجیب و غریب، به گونه\\u200cای غیر قابل انکار زشت است و به دلیل سرهای بزرگشان که با دندان\\u200cهای تیغ مانند پر شده است، به شدت بدجنس به نظر می\\u200cرسند.\\n\\nلک لک مردارخوار\\nلک لک مردارخوار با قدی بیش از ۵ فوت و با طول بال\\u200cهای بیش از ۱۰ فوت، لاشخور بزرگی است و به همین دلیل سری بدون پر دارد. این پرندگان آفریقایی پرندگان دیگر را نیز می\\u200cخورند و حتی به مصرف فلامینگوها نیز معروف بوده اند. لک لک مردارخوار عادات غیرجذابی دارد. به عنوان مثال، آن\\u200cها در تمام پاهای خود مدفوع می\\u200cکنند که به آن\\u200cها کمک می\\u200cکند دمای بدن خود را تنظیم کنند.\\nاین گونه لک لک کیسه\\u200cای بلند و مایل به قرمز دارد که از گردن آویزان است و برای ایجاد غرغر و صداهای دیگر در طول فصل جفتگیری استفاده می\\u200cشود – نه برای نگهداری غذا. لک لک\\u200cهای مردارخوار فعالیت خاصی ندارند. در واقع بسیار تنبل هستند.\\n\\nفک فیلی\\nبچه فک\\u200cها و فک فیل ماده ظاهر خوبی دارند. با این حال، نرها زمانی که به بلوغ جنسی می\\u200cرسند، حدود سه تا پنج سال، بینی بزرگی دارند. فک فیلی در سن ۷ تا ۹ سالگی به طور کامل بالغ می\\u200cشود. مانند میمون پروبوسیس، بینی بزرگ فوک فیلی در جفت گیری نقش مهمی دارد، زیرا باعث ایجاد غرش\\u200cهای بلندی می\\u200cشود که دیگر نرها را دور می\\u200cکند.\\n\\nخفاش نعل اسبی\\nمانند بسیاری از خفاش\\u200cهای حشره خوار - که از پژواک برای گرفتن طعمه خود استفاده می\\u200cکنند - خفاش\\u200cهای نعل اسبی ظاهری دارند که بیشتر شبیه گوش است تا صورت. این انطباق باعث می\\u200cشود که آن\\u200cها نسبت به امواج صوتی حساسیت بیشتری داشته باشند که به آن\\u200cها امکان می\\u200cدهد به سرعت در هوا حرکت کنند.\\nخفاش نام خود را از شکل نعل اسب گرفته و این به خاطر ساختار گوشتی اطراف بینی خفاش است. قسمت بالایی نوک تیز و قسمت پایینی به شکل نعل اسب است. خفاش از این دماغ - با اندازه و شکل خاص خود - برای کمک به تشخیص محیط اطراف خود استفاده می\\u200cکند.\\n\\nخفاش ماهی لب قرمز\\nخفاش ماهی لب قرمز این تصور را ایجاد می\\u200cکند که سعی کرده است با داشتن لب\\u200cهای قرمز نقایص بدن غیرعادی خود را جبران کند. تحقیقات بیشتری برای درک عملکرد لب\\u200cهای قرمز روشن باید انجام شود، اما برخی از دانشمندان فکر می\\u200cکنند که این به جذب جفت مربوط می\\u200cشود. این ماهی عجیب و غریب بیشتر در اطراف جزایر گالاپاگوس و نزدیک پرو یافت می\\u200cشود.\\nجالب است که خفاش ماهی لب قرمز شناگرماهری نیست - آن\\u200cها برای \"پیاده روی\" در امتداد کف اقیانوس مناسب\\u200cتر هستند. وقتی به سن بلوغ می\\u200cرسند، از باله پشتی خود به عنوان طعمه ماهیگیری به جای شنا استفاده می\\u200cکنند.\\n\\nکفتار\\nاین جانوران ساوانا با راه رفتنی که با قوز کردن همراه است، حیوانات زیبایی روی کره زمین نیستند، اما حداقل حس شوخ طبعی دارند. این حیوانات که گهگاه به آن\\u200cها «کفتارهای خندان» نیز گفته می\\u200cشود، صداهایی دارند که اغلب با عنوان تسخیرکننده و جادوگر توصیف می\\u200cشوند. اگرچه کفتارها به لاشخور بودن شهرت دارند، اما طبق گزارش\\u200cها ۶۰ تا ۹۵ درصد از آنچه می\\u200cخورند را خودشان می\\u200cکشند. اگرچه آن\\u200cها شبیه سگ\\u200cهای وحشی هستند، اما بیشتر با گربه زباد و میرکت\\u200cها مرتبط هستند.\\n\\nمنبع: فرادید\\n',\n",
              "     'category': 'LifeSkills'}},\n",
              "   {'_index': 'news_index',\n",
              "    '_type': '_doc',\n",
              "    '_id': 'vbe5bYYBaqX3lKeTHger',\n",
              "    '_score': 5.4762697,\n",
              "    '_source': {'date': 'چهارشنبه ۱۲ بهمن ۱۴۰۱ - ۰۷:۲۵',\n",
              "     'title': 'یک واقعیت جالب درباره هیولای مشهور به پاگنده | سایه ترسناک جنگل\\u200cهای تاریک چیست؟',\n",
              "     'intro': 'هیولایی مشهور به پا گنده، سال\\u200cهای سال است که مایه وحشت مردم در دل جنگل\\u200cها است. این هیولا می\\u200cتواند واقعی باشد؟',\n",
              "     'body': 'به گزارش همشهری آنلاین و به نقل از ساینس الرت، پرهیب یک موجود تنومند از دل سایه\\u200cهای جنگل بیرون می\\u200cآید و دوباره در میان درختان گم می\\u200cشود. این تصویری است که هزاران انسان از گوشه چشم دیده\\u200cاند، اما هیچ\\u200cکس جرات نگاه از نزدیک به این هیولای مشهور به پاگنده یا ساسکواچ نداشته است. اگر کسی بتواند این موجود افسانه\\u200cای را از نزدیک ببیند، احتمالا از آنچه می\\u200cبیند شگفت\\u200cزده خواهد شد.\\xa0\\nیک دانشمند علوم داده به نام فلو فاکسون نشان داده است که بیشتر موارد مشاهده شده پاگنده در ایالات متحده و کانادا احتمالا خرس سیاهی در حال چرخیدن روی پاهای عقب خود بوده است.\\xa0 خرس\\u200cهای سیاه آمریکایی (Ursus americanus) معمولا چهاردست\\u200cوپا راه می\\u200cروند، اما اگر بخواهند دید واضح\\u200cتری داشته باشند یا یک بوی قوی آن\\u200cها را به خود جلب کرده باشد، روی پاهای عقب خود می\\u200cایستند. در چنین حالتی،\\xa0آنها می\\u200cتوانند به طرز عجیبی شبیه انسان به نظر برسند؛ البته انسانی در قامت هیولایی پشمالو.\\xa0\\nاین اولین بار نیست که دانشمندان خرس سیاه را به عنوان توضیحی برای پدیده پاگنده پیشنهاد می\\u200cکنند. در سال ۲۰۰۵، یک دانشمند جمعیت خرس سیاه تخمینی را با گزارش\\u200cهای مشاهده ساسکواچ در شمال غربی ایالات متحده مقایسه کرد. با این حال، او به این نتیجه رسید که گونه\\u200cای از جانوران غیر از خرس سیاه آمریکایی، منشاء این افسانه است.\\xa0اما در سال ۲۰۰۹، مقاله دیگری در همان منطقه، هم\\u200cپوشانی بالایی بین جمعیت خرس سیاه و مشاهده ساسکواچ نشان داد.\\nفاکسون اکنون نتایج قبلی را با گسترش تجزیه و تحلیل به تمام مکان\\u200cهایی در ایالات متحده و کانادا که خرس\\u200cهای سیاه و انسان\\u200cها در نزدیکی یکدیگر زندگی می\\u200cکنند، گسترش داده است. داده\\u200cهایی که او برای گزارش\\u200cهای مشاهده پاگنده استفاده کرد، از سازمان پژوهشگران میدانی پاگنده گرفته شد؛ یک پایگاه داده جغرافیایی از گزارش\\u200cهای شاهدان عینی که عمدتا داده\\u200cهای از قرن بیستم به بعد را نگه داشته است.\\xa0\\nفاکسون این اطلاعات را با داده\\u200cهای محلی در مورد تراکم و گسترش خرس سیاه و همچنین تراکم جمعیت انسان مقایسه کرد.\\xa0با توجه به مدل رگرسیون دقیق فاکسون – که نشان می\\u200cدهد آیا تغییرات مشاهده شده در یک متغیر با تغییرات در متغیر دیگر مرتبط است یا خیر – مشاهده\\u200cهای پاگنده تا حد زیادی توسط خرس\\u200cهای سیاه توضیح داده می\\u200cشوند.\\nدر مناطقی که تعداد زیادی خرس سیاه و انسان وجود دارد، افراد بیشتری پاگنده را می\\u200cبینند، و این به ویژه در شمال غربی اقیانوس آرام صادق است. از سوی دیگر، در تگزاس و فلوریدا، خرس\\u200cهای سیاه تقریبا چندان زیاد نیستند، با وجود این واقعیت که مشاهده ساسکواچ در این دو ایالت رایج است.\\nفاکسون می\\u200cگوید: «این نکته قابل توجهی است. مشاهده ساسکواچ در ایالت\\u200cهایی گزارش شده که خرس سیاه در آن\\u200cجا زاد و ولد نمی\\u200cکند. اگرچه ممکن است این موضوع به عنوان شاهدی برای وجود یک موجود ناشناخته در آمریکای شمالی تفسیر شود، اما می\\u200cتوان این ایده را با اشتباه\\u200c گرفتن موجود دیگری از جمله انسان با هیولا، جایگزین کرد.»\\nبا این حال، به طور کلی، ایالت\\u200cهایی مانند تگزاس و فلوریدا در این مطالعه استثنا هستند. فاکسون دریافت که انتظار می\\u200cرود برای هر ۹۰۰ خرس سیاه در یک ایالت خاص در ایالات متحده یا استانی در کانادا، یک ساسکواچ مشاهده می\\u200cشود.\\nدر جای دیگر جهان هم خرس\\u200cها ممکن است مردم را درباره مشاهده هیولایی افسانه\\u200cای به اشتباه بیندازند. به عنوان مثال، در کوه\\u200cهای آسیا، این احتمال وجود دارد که یتی در واقع فقط یک خرس سیاه آسیایی، خرس قهوه\\u200cای هیمالیا یا خرس قهوه\\u200cای تبتی پوشیده از برف باشد.\\nبیشتر بخوانید:\\n\\nروش عجیب نگه داشتن دندان\\u200cها توسط این زن ثروتمند قرن هفدهمی! | رنج\\u200cهایی که آن دالگر در زندگی کشید\\n\\nشواهد فیزیکی که در گذشته از یتی\\u200cها گردآوری شده است، مانند دندان و مو، همیشه معلوم شده که متعلق به یک حیوان شناخته شده دیگر و معمولا یک خرس است.\\nفاکسون می نویسد: «در نهایت، اگر جایی پاگنده دیده شود، یعنی احتمالا خرس\\u200cهای زیادی آن\\u200cجا هستند.»\\nاین مطالعه در «bioRxiv» منتشر شده است.\\n',\n",
              "     'category': 'Science'}},\n",
              "   {'_index': 'news_index',\n",
              "    '_type': '_doc',\n",
              "    '_id': 'Rbe4bYYBaqX3lKeTtAM0',\n",
              "    '_score': 5.3224707,\n",
              "    '_source': {'date': 'دوشنبه ۱۰ بهمن ۱۴۰۱ - ۱۷:۱۳',\n",
              "     'title': 'آمریکا رسما خواستار مذاکره مستقیم با ایران شد | واکنش ایران به حامل پیام آمریکا',\n",
              "     'intro': 'رئیس کمیته هسته\\u200cای مجلس گفت: آمریکایی\\u200cها از طریق قطر به ایران پیام داده\\u200cاند که خواستار مذاکره مستقیم با ایران هستند.',\n",
              "     'body': 'به گزارش همشهری آنلاین، سارا فلاحی رئیس کمیته هسته\\u200cای کمیسیون امنیت ملی و سیاست خارجی مجلس شورای اسلامی با اشاره به سفر وزیر امور خارجه قطر به ایران، اظهار داشت: آمریکایی ها پیام های متعددی درباره برگزاری مجدد جلسات مذاکرات را از طریق کشورهای قطر و عمان به ایران داده \\xa0و می\\u200cدهند.\\nوی افزود: آنها هم در زمان ترامپ و هم الان در زمان بایدن دنبال مذاکره مستقیم با ایران هستند و اصلاً به دنبال شراکت با سایر کشورها از جمله اروپا نیستند یعنی به دنبال حل و فصل موضوعات به صورت دو جانبه\\u200cاند. از این رو \\xa0از طریق قطر به ایران پیام داده اند که خواستار مذاکره مستقیم با ایران هستند و پاسخ ما هم به آنها این است که ابتدا باید تمام شرایط ایران را برآورده کنند.\\nرئیس کمیته هسته\\u200cای مجلس با اشاره به شرایط ایران، تصریح کرد: آمریکا باید تمام ضررهایی که با خروج از برجام بر ایران تحمیل شده را جبران کند و همچنین اگر امتیازهایی از ایران می خواهد باید امتیازهایی که مدنظر ایران است را بدهد؛ زیرا این درست نیست که ایران یک طرفه امتیازهای خواسته شده آمریکا را محقق کند. همچنین آمریکایی ها باید به طور صحیح و درست اعتماد سازی کنند تا مجددا اتفاق دوران ترامپ پیش نیاید.\\n\\nفلاحی با بیان اینکه به سیاست یک بام دو هوای آمریکایی ها اعتراض کرده ایم، تصریح کرد: پاسخ آمریکایی ها این است که این صحبت ها فقط جنبه داخلی در آمریکا دارد اما ایالات متحده واقعا به توافق با ایران نیازمند است؛ زیرا در شرایط کنونی بیش از پیش جهان به انرژی ایران محتاج است و باید هر چه زودتر انرژی های ایران وارد بازارهای جهانی شود. همچنین آمریکایی ها بیان کردند که برای حل مشکلات منطقه خواستار کمک ایران هستند زیرا آن ها به خوبی می\\u200cدانند که برای حل مشکلات منطقه باید با ایران تعامل داشته باشند.\\n',\n",
              "     'category': 'Politics'}},\n",
              "   {'_index': 'news_index',\n",
              "    '_type': '_doc',\n",
              "    '_id': 'nbe4bYYBaqX3lKeTpAK4',\n",
              "    '_score': 5.245439,\n",
              "    '_source': {'date': 'سه\\u200cشنبه ۲۰ دی ۱۴۰۱ - ۰۱:۳۲',\n",
              "     'title': 'جزئیات جدید ترور شهید سردار قاسم سلیمانی | کلمه\\u200cای که ترامپ را متقاعد کرد!',\n",
              "     'intro': 'رئیس سابق اطلاعات ارتش رژیم صهیونیستی در مصاحبه ای ضمن منحصر بفرد توصیف کردن سردار سلیمانی گفت که تل آویو آمریکا را متقاعد کرد که سردار سلیمانی تهدیدی فوری برای نظامیان آمریکایی بوده است.',\n",
              "     'body': 'به گزارش همشهری آنلاین، «تامیر هایمان» رئیس سابق اطلاعات ارتش رژیم صهیونیستی فاش کرد که تل آویو، آمریکا را متقاعد کرده که سردار «قاسم سلیمانی» فرمانده فقید سپاه قدس «تهدیدی فوری» برای نظامیان آمریکایی به شمار می آمده است.\\nسه سال پیش، آمریکا در اقدامی تروریستی سردار قاسم سلیمانی را در حالی که به دعوت رسمی نخست وزیر وقت به عراق سفر کرده بود پس از خروج از فرودگاه، طی عملیاتی ترور کرد. ایران با تروریستی دانستن این عملیات آمریکایی ها، تاکید دارد که انتقام این جنایت آمریکایی ها را خواهد گرفت.\\nتامیر هایمان پیشتر نیز گفته بود که اسرائیل اطلاعاتی را برای آمریکا درباره سردار سلیمانی ارائه کرده بود اما بیان کلمه «تهدید فوری» مطابق همان کلمه ای است که «دونالد ترامپ» رئیس جمهور سابق آمریکا \\xa0به کار برده است. ترامپ پس از ترور سردار سلیمانی در جمع خبرنگاران مدعی شده بود: «سلیمانی در حال طراحی حملات قریب الوقوع و شوم علیه دیپلمات ها و نظامیان آمریکایی بوده است اما ما در عمل او را گرفتار کرده و به او خاتمه دادیم».\\nتامیر هایمان که این سخنان را در مصاحبه با «جویش نیوز» مطرح میکرد، گفت: «پس از آنکه گروههای نظامی سلیمانی به شکست داعش کمک کردند، آمریکا بر سر راه او ایستاده بود چون می خواست خاورمیانه را کنترل کند بنابراین، تمرکز وی از داعش به حضور آمریکا در منطقه تغییر کرد».\\nاین مقام اطلاعاتی سابق رژیم صهیونیستی افزود: «اسرائیل آمریکا را درباره فعالیت های مخرب سلیمانی علیه آمریکایی ها متقاعد کرد. آمریکا به طور عمده بر مبارزه با تروریسم و نه ایران متمرکز بود. ما به ارائه اطلاعات و تحلیل های مشترک پرداخته و طی یک دوره طولانی مدت، در نهایت آنها متقاعد شدند که سلیمانی تهدیدی فوری برای زندگی آمریکایی ها و وضعیت راهبردی آن در خاورمیانه است».\\nرئیس سابق اطلاعات ارتش رژیم صهیونیستی در ادامه مصاحبه خود اذعان کرد که سردار سلیمانی «بی نظیر» بوده و توانایی گسترده ای در فرماندهی و رهبری داشته است.\\nتامیر هایمان اضافه کرد: «وی می توانست\\xa0 بر روی تپه ای در سوریه بایستد و به نیروهای خود اشاره کند که چگونه راهبردی را که چند ساعت پیش طراحی و تایید آن را از رهبری ایران گرفته، به پیش ببرد».\\nاین مقام اطلاعاتی سابق رژیم صهیونیستی مدعی شد: «در سال 2016 وی طرح جامعی را درباره چگونگی تضمین تبدیل سوریه به لبنان دوم ارائه داد».\\nوی مدعی شد که سردار سلیمانی طرح های مشابهی نیز درباره عراق و یمن در نظر داشته است.\\nفرمانده شهید نیروی قدس سپاه پاسداران انقلاب اسلامی و نایب رئیس شهید سازمان الحشدالشعبی عراق در بامداد سیزدهم دی ماه ۱۳۹۸ به دستور «دونالد ترامپ» رئیس\\u200cجمهور سابق آمریکا در اقدامی جنایتکارانه در حمله پهپادی به شهادت رسیدند.\\nدو روز پس از شهادت سردار سلیمانی فرمانده شهید نیروی قدس سپاه پاسداران انقلاب اسلامی و ابومهدی المهندس نایب رئیس شهید سازمان الحشدالشعبی در فرودگاه بغداد، پارلمان عراق لایحه اخراج نظامیان آمریکایی از این کشور را تصویب و دولت این کشور را ملزم کرد که به حضور تمام نیروهای بیگانه به رهبری آمریکا در خاک عراق پایان دهد؛ اما اجرای این مصوبه در دولت پیشین عراق به طور کامل عملی نشد.\\n',\n",
              "     'category': 'Politics'}},\n",
              "   {'_index': 'news_index',\n",
              "    '_type': '_doc',\n",
              "    '_id': 'tou4bYYB2Omwr6TiwNe2',\n",
              "    '_score': 5.201947,\n",
              "    '_source': {'date': 'پنجشنبه ۸ دی ۱۴۰۱ - ۱۳:۲۹',\n",
              "     'title': 'روزنامه هیل: یک قاتل ظالم عربستان را اداره می\\u200cکند | ریاض ۱۳ سال متوالی خریدار شماره یک سلاح\\u200cهای آمریکایی بوده است',\n",
              "     'intro': 'روزنامه هیل در گزارشی با تاکید بر اینکه عربستان را یک \"قاتل ظالم\" مدیریت می\\u200cکند، از کنگره آمریکا خواست از عربستان درباره قربانیانش در یمن سوال کند.',\n",
              "     'body': 'به گزارش همشهری آنلاین، به نقل از سایت العهد، روزنامه آمریکایی \"هیل\" در گزارشی درباره جنایات عربستان در یمن و سرپوش گذاشتن آمریکا بر این جنایات و فروش سلاح\\u200cهای بیشتر به آن با وجود خطراتی که چنین اقدامی دارد، نوشت، ریاض در طول دوره ولیعهدی محمد بن سلمان، بیش از ۳۷۷ هزار یمنی را به قتل رسانده و بیش از ۵۲۳ سعودی را اعدام کرده است.\\nاین روزنامه آمریکایی نوشت، جو بایدن، رئیس جمهور آمریکا و کنگره که در دست دموکرات\\u200cها است، فرصت\\u200cهای متعددی برای محاکمه عربستان بابت این جنایات داشتند اما تنها وقت را تلف کردند.\\nهیل در ادامه، موضعگیری دولت آمریکا را در تضاد با موضعگیری حزب سیاسی\\u200cاش دانست که در نیمه پایانی دولت دونالد ترامپ، رئیس جمهور سابق آمریکا منتقد ارتباط باراک اوباما، رئیس جمهور پیشین این کشور با عربستان بود و نوشت، این موضعگیری برای بایدن به معنای زیر پا گذاشتن وعده\\u200cهای انتخاباتی در دفاع از حقوق بشر و تعامل با عربستان با عنوان یک کشور طرد شده است.\\nهمچنین این روزنامه آمریکایی نوشت، اهداف عربستان در یمن ساده بوده و آن تعیین یک رهبر دست\\u200cنشانده و ایجاد مشکلات برای هرگونه مخالف سیاسی حتی غیرنظامیان است، عربستان سال ۲۰۱۵ ائتلافی را تشکیل داد و این ائتلاف به رهبری ریاض جنگی متشکل از حمله هوایی و محاصره علیه یمن را آغاز کرد.\\nروزنامه هیل در ادامه نوشت، این جنگ باعث شد بیش از ۱۷.۶ میلیون یمنی به کمک\\u200cهای غذایی نیازمند شوند و در کل بیش از ۱۹ هزار و ۲۰۰ تن از مجموع کشته\\u200cها و زخمی\\u200cها در یمن را غیرنظامیان تشکیل می\\u200cدهند.\\nاین روزنامه آمریکایی در گزارش خود به شاخص ریسک فروش سلاح موسسه \"کاتو\" که عوامل منفی مرتبط با فروش تسلیحات را ارزیابی می\\u200cکند، پرداخت و فاش کرد، عربستان یکی از ۳۰ کشور پرخطر از منظر فروش سلاح است.\\nروزنامه هیل با اشاره به اینکه از این سلاح\\u200cها در نقض حقوق بشر استفاده می\\u200cشود، نوشت، از سوی دیگر سطوح بالایی از فساد دولتی در عربستان وجود داشته و نیز خطر بزرگی در ارتباط با این سلاح\\u200cها که به دست مردم خواهد رسید، وجود دارد و علاوه بر آسیب\\u200cهایی که متوجه غیرنظامیان است، سلاح\\u200cهای فروخته شده به ائتلاف در نهایت سر از بازار سیاه درمی\\u200cآورند و به گروه\\u200cهای تروریستی فروخته می\\u200cشوند.\\nاین روزنامه در ادامه تاکید کرد، با این وجود، ریاض برای ۱۳ سال متوالی خریدار شماره یک سلاح\\u200cهای آمریکایی بوده زیرا سه دولت پیاپی آمریکا سود قراردادهای تسلیحاتی را بر حقوق بشر اولویت دادند. \\xa0\\nاین روزنامه آمریکایی در پایان نیز با اشاره به اینکه عربستان توسط ظالمی اداره می\\u200cشود که در خارج از این کشور و در داخل آن مردم را به قتل می\\u200cرساند و میان گروه\\u200cهای تروریستی اسلحه پخش می\\u200cکند و کشوری را اداره می\\u200cکند که ناقض آزادی است، از کنگره آمریکا خواست از عربستان درباره قربانیانش در یمن سوال کند.\\n',\n",
              "     'category': 'World'}},\n",
              "   {'_index': 'news_index',\n",
              "    '_type': '_doc',\n",
              "    '_id': 'MI64bYYBTzCi8Caup8LP',\n",
              "    '_score': 5.1480613,\n",
              "    '_source': {'date': 'یکشنبه ۱۸ دی ۱۴۰۱ - ۲۰:۴۷',\n",
              "     'title': 'جزئیات سقوط پهپاد بر فراز عین الاسد | منبع آگاه: از رینگ امنیتی عبور کرده بود',\n",
              "     'intro': 'یک منبع آگاه امنیتی عراق اعلام کرد که پهپادی که توسط نیروهای آمریکایی سرنگون شد، از رینگ امنیتی پایگاه عین الاسد عبور کرده بود.',\n",
              "     'body': 'به گزارش همشهری آنلاین به نقل از ایرنا ، این منبع آگاه افزود: این هواپیمای بدون سرنشین توانست همه حلقه های امنیتی را پشت سر بگذارد و وارد مناطق ممنوعه و صعب الوصول پایگاه عین الاسد در غرب استان الانبارشود.\\nوی اضافه کرد: نظامیان آمریکایی در آخرین مرحله توانستند با سامانه های الکترونیکی آن را سرنگون کنند.\\nاین منبع آگاه امنیتی گفت: این پهپاد به بخش های بسیار مهمی از پایگاه عین الاسد رسید و این نخستین بار بود که این اتفاق می افتد.\\nوی بیان کرد: نظامیان آمریکایی هر شئ مشکوکی را که به سمت پایگاه هوایی عین الاسد حرکت کند را قبل از رسیدن به نخستین حلقه امنیتی هدف قرار می دهند.\\nاین منبع امنیتی افزود: نظامیان آمریکایی جزئیات این حادثه را اعلام نکرده اند زیرا این پهپاد از سامانه های موشکی پایگاه عین الاسد عبور کرده است و خوابگاه ها و آسایشگاه های نظامیان را مورد تهدید قرار داده بود.\\nروز یکشنبه برخی رسانه های عراقی از سرنگونی یک پهپاد ناشناس بر فراز پایگاه هوایی آمریکا در استان الانبار خبر داده بودند.\\n',\n",
              "     'category': 'Politics'}}]}}"
            ]
          },
          "execution_count": 7,
          "metadata": {},
          "output_type": "execute_result"
        }
      ],
      "source": [
        "query = 'آمریگایی'\n",
        "field = 'body'\n",
        "fuzzy_search(ELASTICSEARCH_ENDPOINT, query, field, INDEX_NAME)"
      ]
    },
    {
      "attachments": {},
      "cell_type": "markdown",
      "metadata": {},
      "source": [
        "#### Example 2"
      ]
    },
    {
      "cell_type": "code",
      "execution_count": 8,
      "metadata": {},
      "outputs": [
        {
          "data": {
            "text/plain": [
              "{'took': 121,\n",
              " 'timed_out': False,\n",
              " '_shards': {'total': 1, 'successful': 1, 'skipped': 0, 'failed': 0},\n",
              " 'hits': {'total': {'value': 496, 'relation': 'eq'},\n",
              "  'max_score': 7.022976,\n",
              "  'hits': [{'_index': 'news_index',\n",
              "    '_type': '_doc',\n",
              "    '_id': 'OYu5bYYB2Omwr6TiFdss',\n",
              "    '_score': 7.022976,\n",
              "    '_source': {'date': 'یکشنبه ۴ دی ۱۴۰۱ - ۰۸:۳۰',\n",
              "     'title': 'ایران - برزیل مشروط شد | زنان هم باید بازی کنند! ',\n",
              "     'intro': 'مذاکرات برای انجام بازی دوستانه تیم\\u200cهای ملی فوتسال مردان ایران و برزیل در حالی ادامه دارد که برزیلی\\u200cها خواهان بازی با تیم زنان کشورمان هم شده\\u200cاند.',\n",
              "     'body': 'به گزارش همشهری\\u200cآنلاین، رایزنی فدراسیون فوتبال ایران و کمیته فوتسال با همتای برزیلی برای انجام بازی تدارکاتی در شهریور ۱۴۰۲ در کشور برزیل همچنان ادامه دارد. البته طرفین هنوز به صورت قطعی روی انجام این مسابقه و جزئیات آن به توافق نرسیده\\u200cاند.\\nپیگیری\\u200cها نشان می\\u200cدهد برزیلی\\u200cها علاوه بر سفر تیم ملی مردان ایران، درخواست کرده\\u200cاند تیم ملی زنان کشورمان هم عازم برزیل بشود. این موضوع هنوز در فدراسیون فوتبال ایران مورد تایید و تصویب قرار نگرفته است.\\nفعالیت تیم ملی فوتسال زنان ایران در سال\\u200cهای اخیر و به ویژه بعد از شیوع کرونا به شکل عجیبی کاهش یافته است؛ آن\\u200cهم در شرایطی که فیفا قصد دارد مسابقات جام جهانی فوتسال زنان را راه اندازی کند.\\nبرگزاری بازی\\u200cهای تدارکاتی ایران و برزیل طی یک دهه گذشته با فراز و نشیب\\u200cهای زیادی همراه بوده است. در سال ۱۳۹۵ قرار بود برزیلی\\u200cها برای انجام بازی دوستانه به ایران بیایند که علی کفاشیان رئیس وقت فدراسیون چند ماه قبل از آن، این مسابقه را لغو کرد.\\nدر سال ۱۳۹۷، این برزیلی\\u200cها بودند که ایران را برای انجام دو بازی به کشور خود دعوت کردند. این مسابقه قرار بود در آبان ماه برگزار بشود اما در شرایطی که همه هماهنگی\\u200cهای این بازی صورت گرفته و برزیلی\\u200cها حتی اسپانسر خود را هم انتخاب کرده بودند، فدراسیون فوتبال ایران به دلیل مشکلات مالی، این سفر را لغو کرد.\\nبا این تفاسیر، بازی با پرافتخارترین تیم ملی فوتسال که در رده نخست رنکینگ جهانی هم قرار دارد اهمیت ویژه ای برای تیم ایران خواهد داشت. هرچند که این بار هم بیم این می\\u200cرود که هم زنان و هم مردان ایران از داشتن یک تجربه بسیار ویژه و بزرگ و تقابل با برزیلی\\u200cها به دلیل مشکلات مالی محروم بشوند.\\n',\n",
              "     'category': 'Sport'}},\n",
              "   {'_index': 'news_index',\n",
              "    '_type': '_doc',\n",
              "    '_id': 'w7e5bYYBaqX3lKeTCQZh',\n",
              "    '_score': 6.724249,\n",
              "    '_source': {'date': 'دوشنبه ۱۹ دی ۱۴۰۱ - ۱۵:۴۲',\n",
              "     'title': 'تاج:\\u200c عربستانی\\u200cها رونالدوی ۹هزار میلیاردی خریدند اما باز ما بالاتریم | خطر تعلیق ۳ساله فوتبال ایران ',\n",
              "     'intro': 'رئیس فدراسیون فوتبال گفت: هر باشگاهی براساس استانداردهای پنجگانه صلاحیت حضور در جام باشگاه ها را نداشته باشد طبق قانون نباید مجوزی برای آن صادر شود.',\n",
              "     'body': 'به گزارش همشهری آنلاین مهدی تاج، رئیس فدراسیون فوتبال روز دوشنبه در مجمع عمومی هیات فوتبال استان کرمانشاه با بیان اینکه رفع تعلیق کمیته صدور مجوز حرفه ای باشگاه های ایران از سوی AFC مسئولیت فدراسیون فوتبال برای صدور این مجوز را بیش از قبل کرده است، اظهار داشت: فدراسیون به هیچ عنوان در زمینه سندسازی و اهمال برای تیمی که صلاحیت حضور در جام باشگاه ها را ندارد اقدامی نخواهد کرد.\\nوی افزود: اگر در دوره گذشته باشگاه ها با خطر محرومیت مواجه بودند از این پس در صورت مشاهده هر نوع تخلفی در این زمینه، به غیر از باشگاه ها، فدراسیون فوتبال نیز به مدت سه سال تعلیق خواهد شد.\\nرئیس فدراسیون فوتبال گفت: هر باشگاهی براساس استانداردهای پنجگانه صلاحیت حضور در جام باشگاه ها را نداشته باشد طبق قانون نباید مجوزی برای آن صادر شود. در صورت تعلیق فدراسیون فوتبال دیگر هیچگونه فعالیت بین المللی نخواهد داشت که این امر مشکلات بسیاری را در پی خواهد داشت. بر همین اساس هر تیمی شرایط دریافت مجوز را نداشته باشد تیم دیگری که دارای آن شرایط باشد جایگزین خواهد شد.\\nتاج در بخش دیگری از سخنان خود با مقایسه هزینه هایی\\xa0که در کشور ما و کشورهایی نظیر ژاپن، قطر و عربستان می شود، افزود: اگر همه از مجلس و دولت گرفته و همه دست به دست هم دهند کشور ما باز نسبت به رقبای خود در منطقه عقب است. تیمی مانند النصر عربستان با بازیکنی به ارزش ۹ هزار میلیارد تومان قرارداد می بندد که این تیم قرار است با تیمی مانند نساجی و یا پرسپولیس در آسیا بازی کند. با وجود این، ایران باز هم از آن\\u200cها بالاتر قرار دارد به طوری که در فوتسال، فوتبال ساحلی ، فوتبال بانوان و حتی جوانان بالاتر از آن\\u200cها قرار دارد. با وجود این شرایط نابرابر همچنان با نهایت تلاش جلو خواهیم رفت و اصلا هم ناامید نیستیم.\\nتاج با اشاره به پتانسیل های بسیار خوبی که در رشته فوتبال بانوان در استان کرمانشاه وجود دارد، گفت: بیشتر بانوان فوتبال و فوتسال کرمانشاه هم اکنون در تیم های باشگاهی مختلف سایر استان ها در حال بازی هستند که این امر شایسته این استان نیست.\\nوی با بیان اینکه فدراسیون فوتبال از تشکیل این تیم بانوان در استان کرمانشاه حمایت کامل خواهد کرد، تصریح کرد: با استاندار کرمانشاه نیز برای حمایت از این تیم مذاکراتی خواهد شد تا با تشکیل یک تیم منسجم بانوان شاهد حضور این استان در لیگ های مختلف به ویژه برتر باشیم. در طی این سال ها هیات فوتبال این استان حتی یک ریال هم از این اداره کل اعتبار دریافت نکرده است.\\nوی با اشاره به درخواست برخی از علاقمندان به فوتبال برای حضور یک تیم از استان کرمانشاه در لیگ دسته یک باشگاه های کشور نیز گفت: پیش از عملی شدن این تصمیم باید زیرساخت های مورد نیاز آن فراهم شده و به شکلی نباشد که پس از حضور بلافاصله حذف شود.\\nدر پایان این مراسم با آرای اعضای مجمع عمومی هیات فوتبال استان کرمانشاه اعضای جدید هیات رییسه این هیات انتخاب شدند.\\n',\n",
              "     'category': 'Sport'}},\n",
              "   {'_index': 'news_index',\n",
              "    '_type': '_doc',\n",
              "    '_id': '3re5bYYBaqX3lKeTCwae',\n",
              "    '_score': 6.179348,\n",
              "    '_source': {'date': 'پنجشنبه ۱۵ دی ۱۴۰۱ - ۱۴:۲۹',\n",
              "     'title': 'مهدی تاج: سرمربی تیم ملی از میان این گزینه ها خواهد بود | هیات رئیسه در خصوص سرمربی خارجی فرصت خواست',\n",
              "     'intro': 'رئیس فدراسیون فوتبال ایران در خصوص آخرین وضعیت تصمیم گیری در خصوص سرمربی تیم فوتبال ایران نیز گفت: اگر بخواهیم سرمربی داخلی انتخاب کنیم از میان همین دوستان مطرح شده انتخاب خواهیم کرد.',\n",
              "     'body': 'به گزارش همشهری آنلاین مهدی تاج در حاشیه مجمع عمومی هیات فوتبال خوزستان در جمع خبرنگاران، اظهار کرد: خوزستان یکی از محورهای اصلی فوتبال کشور است و خود خوزستان می تواند به تنهایی یک لیگ داشته باشد. سهم خوزستان در تیم های ملی بسیار زیاد است که این مساله بیانگر ظرفیت استان در بحث فوتبال، فوتسال و فوتبال ساحلی است.\\nوی با اشاره به بازدید از ورزشگاه ملاثانی، افزود: باید با مدیرکل ورزش و جوانان خوزستان راه حلی برای حل مشکلات تیم فوتبال استقلال ملاثانی و همچنین نفت مسجدسلیمان پیدا کرد.\\xa0\\nرئیس فدراسیون فوتبال ایران در خصوص آخرین وضعیت تصمیم گیری در خصوص سرمربی تیم فوتبال ایران نیز گفت: اگر بخواهیم سرمربی داخلی انتخاب کنیم از میان همین دوستان مطرح شده انتخاب خواهیم کرد و هرکدام که بیاید در شرایط فعلی ایثار خواهد کرد.( پیش از این از قلعه نویی، نکونام، مجیدی و دایی به عنوان گزینه های داخلی تیم ملی نام برده شده بود)\\nتاج ادامه داد: بحثی در خصوص گزینه های خارجی در هیات رییسه مطرح شده و در این زمینه هیات رییسه فرصت خواسته است و در جلسات آینده در این زمینه بحث خواهد شد.\\xa0\\nوی افزود: در مجموع یکی از اولویت های فوتبال کشور انتخاب سرمربی تیم فوتبال بزرگسالان ایران است البته بحث انتخاب سرمربی تیم فوتبال امید نیز یکی از اولویت های حال حاضر فوتبال است. به صورت جدی در این زمینه در حال مذاکراتی هستیم و در یکی از جلسات آینده هیات رییسه سرمربی تیم ملی فوتبال انتخاب خواهد شد.\\nرئیس فدراسیون فوتبال ایران گفت: سال ها در دو رده تیم ملی نوجوانان و جوانان عقب افتاده ایم در حال که یک روزی در همه این رده ها در جام جهانی حاضر می شدیم اما امیدواریم در انتخابی جام جهانی این دو تیم به خوبی عمل کنند و به جام جهانی راه پیدا کنند.\\nتاج ادامه داد: بیشترین سرمایه گذاری ها برای این دو رده انجام شده است تا این تیم ها بتوانند موفق عمل\\u200c کنند.\\nوی در خصوص جواد نکونام گفت: من از نزدیک در جریان دوران کاپیتانی آقای نکونام در تیم ملی فوتبال و همچنین سرمربیگری وی در فولاد خوزستان بودم. او یکی از بهترین و برجسته ترین مربیان حال حاضر کشور است. \\xa0\\nتاج در پاسخ به سوالی برای کمک به تیم داری خوزستان در لیگ برتر فوتبال بانوان\\xa0 خاطرنشان کرد: دختران خوزستانی از طریق تیم های دیگر استان ها در لیگ برتر فوتبال بانوان حضور دارند و امیدواریم با درایت مدیرکل ورزش و جوانان استان کمکی شود تا دختران خوزستانی در لیگ برتر یک تیم حتی به نام هیات فوتبال خوزستان داشته باشند.\\xa0\\n',\n",
              "     'category': 'Sport'}},\n",
              "   {'_index': 'news_index',\n",
              "    '_type': '_doc',\n",
              "    '_id': 'bY65bYYBTzCi8CauDcb2',\n",
              "    '_score': 6.0393414,\n",
              "    '_source': {'date': 'چهارشنبه ۱۴ دی ۱۴۰۱ - ۱۲:۰۵',\n",
              "     'title': 'دلیل غرامت ۲۲۷ میلیاردی فدراسیون فوتبال | حتی یک برگ از قرارداد خبرساز را به مشاور حقوقی ندادند',\n",
              "     'intro': 'دو تیم مطرح باشگاه ایران و فدراسیون فوتبال  در چند سال اخیر بیش از ۴۴۰ میلیار تومان به عنوان غرامت پرداخت کرده اند. همشهری آنلاین در همین خصوص با یک کارشناس حقوقی گفت و گو کرده است.',\n",
              "     'body': 'به گزارش همشهری آنلاین آرش شکرریز از کارشناسان حقوقی در رشته فوتبال درباره اینکه چرا فدراسیون فوتبال و باشگاه های ما در بحث قرارداد با مربیان و بازیکنان خارجی به نحوی عمل می کنند که همواره محکوم به پرداخت غرامت های سنگین هستیم گفت: این موضوع شامل چند بحث می شود اولین موضوع عدم حضور مدیران فوتبالی و تحصیل کرده در حوزه فوتبال یا مدیریت ورزش است.\\nدومین موضوع هم به عدم استفاده از وکلای ورزشی و کسانی که از حقوق فوتبال سررشته دارند برمی گردد. عموما باشگاه ها متاسفانه با وجود فشار afc ( \\xa0که باید معاونت حقوقی داشته باشند و پروانه کاری آنها ترجمه و به afc ارسال شود)\\xa0 در این حوزه ضعیف عمل می کنند.\\nاین کارشناس حقوقی فوتبال کشورمان تاکید کرد: مغفول ماندن استفاده کردن از افراد متخصص و حقوق فوتبالی بسیار به چشم می آید در کنار آن فساد سیستماتیک هم در این زمینه وجود دارد. متاسفانه به دلیل عدم ثبات مدیریت فوتبال عموما مدیران ناکارامد در فکر بمب ترکاندن و جذب هواداران هستند . این قبیل مدیران بدون رعایت سقف مالی و عدم توانایی مالی رو به جذب بازیکنانی می آورند که پرداخت دستمزد آنها در توانایی باشگاه های ایرانی نیست.\\nاو اضافه کرد: موضوع چهارم دخالت ایجنت ها یا مدیر برنامه ها در هنگام بستن قرار داد است. متاسفانه هرازگاهی می بینیم مدیربرنامه با سرمربی و یا مدیران باشگاه هادر بستن قرارداد مربی یا بازیکنان دارای منافع مشترک هستند. نمونه های آن را در فوتبال کشورمان داشتیم. در این حوزه باید ساختار و چارت باشگاه ها را درست کنیم. در کنارآن \\xa0afc تاکید دارد باشگاه ها باید دارای اکادمی شوند.\\nپرورش استعدادها در آکادمی ها باعث می شود کمتر به سمت جذب بازیکنان خارجی برویم همانطور که باشگاه های بزرگ مانند رئال مادرید و بارسلونا بیشتر از پرورش اکادمی های خود در تیم بزرگسالان شان استفاده می کنند.\\nاین کارشناس حقوقی فوتبال با تاکید بر لزوم طراحی سند راهبردی برای فوتبال کشورمان گفت: اگر قرار است وضعیت فوتبال کشورمان در همه حوزه ها به ویژه مباحث حقوقی درست شود باید با حضور افراد متخصص در حوزه های مختلف و با تعبیه سیاست های کلی یک سند راهبردی را طراحی کنیم تا در سال های آینده به وضعیت مطلوب برسیم. ورزش فوتبال الان جزو ۵ صنعت برتر دنیا است و ما می توانیم با حضور افراد متخصص و طراحی سند راهبردی از این حوزه در آمد زایی کنیم. همان کارهایی که در سال های گذشته آلمان ، ژاپن و بسیاری دیگری از کشورهای پیشرفته انجام دادند.\\nوی اضافه کرد: در کشور ما استعداد به اندازی کافی است اما \\xa0مشکل ما نوع صحیح پروش این استعدادها است . باید کشورهای که در حوزه فوتبال موفق بودند را الگو قراردهیم.\\nاین وکیل فوتبال درباره اینکه چرا باشگاه های ما همواره در پرونده های بین المللی بازنده هستند گفت: وقتی خشت اول خراب گذاشته شود همین می شود. متاسفانه مدیران ما به نحوی قرارداد را تنظیم می کنند که از همان اول وکلا را برای دفاع \\xa0خلع سلاح می کنند. ما آدم های حقوقی کار بلد کم نداریم باید همان ابتدا که می خواهند با بازیکن قرارداد امضا کنند از آنها مشورت گرفت تا بعد به مشکل نخوریم.\\nشکرریز افزود: \\xa0جالب است مدیران فدراسیون به هنگام عقد قرارداد با ویلموتس با وثوق احمدی که رییس وقت کمیته وضعیت فدراسیون بود مشورت نکرده بودند وحتی یک برگه از قرارداد را به او نداده بودند تا آن را بخواند و اگر ایرادی است آن را گوشزد کند. برای همین تاکید می کنم برای اینکه از این پس دیگر غرامت های سنگین به مربیان و بازیکنان خارجی پرداخت نکنیم باشگاه ها قبل از عقد قرارداد با افراد حقوقی نخبه مشورت کنند.\\n',\n",
              "     'category': 'Sport'}},\n",
              "   {'_index': 'news_index',\n",
              "    '_type': '_doc',\n",
              "    '_id': 'h4u5bYYB2Omwr6TiG9v_',\n",
              "    '_score': 6.021045,\n",
              "    '_source': {'date': 'سه\\u200cشنبه ۴ بهمن ۱۴۰۱ - ۱۶:۱۷',\n",
              "     'title': 'اینفوگرافیک |\\u200c رکوردهای جدیدی که مسی را دست نیافتنی\\u200cتر کرد',\n",
              "     'intro': 'جشن قهرمانی جام جهانی ۲۰۲۲ قطر تنها دستاورد مسی در این تورنمنت جهانی نبود، بلکه این بازیکن موفق شد رکورد شمار زیادی از بزرگان فوتبال را نیز بشکند.\\xa0',\n",
              "     'body': 'به گزارش همشهری آنلاین،\\u200c\\xa0لیونل مسی اسطوره آرژانتینی و دارنده ۷ توپ طلای جهان،\\xa0بعد از جام جهانی ۲۰۲۲ قطر موفق شد شمار زیادی از رکوردهای انفرادی این تورنمنت فوتبالی را به نام خود ثبت کند.\\xa0\\n\\nبرای بزرگنمایی بیشتر روی تصویر کلیک کنید.\\n\\nاینفوگرافیک | ارزشمندترین فوتبالیست\\u200cهای جهان در سال ۲۰۲۲ | ۲ستاره انگلیسی بالاتر از امباپه\\nاینفوگرافیک | ۱۰ انتقال گرانقیمت تاریخ فوتبال جهان| ردپای بارسلونا در ۴ انتقال نجومی\\nاینفوگرافیک | رقابت برترین گلزنان فوتبال اروپا | شانس اصلی کسب کفش طلا\\n\\n',\n",
              "     'category': 'Sport'}},\n",
              "   {'_index': 'news_index',\n",
              "    '_type': '_doc',\n",
              "    '_id': 'lI65bYYBTzCi8CauEcZF',\n",
              "    '_score': 5.9678373,\n",
              "    '_source': {'date': 'پنجشنبه ۸ دی ۱۴۰۱ - ۲۲:۳۸',\n",
              "     'title': 'پله در سن ۸۲ سالگی درگذشت + علت مرگ پله',\n",
              "     'intro': 'پله اسطوره دنیای فوتبال و یکی از برترین\\u200c ورزشکاران تاریخ در سن ۸۲ سالگی درگذشت.',\n",
              "     'body': 'به گزارش همشهری آنلاین،\\xa0پله اسطوره دنیای فوتبال و یکی از برترین\\u200c ورزشکاران تاریخ در سن ۸۲ سالگی درگذشت. پله که در دوران فوتبالش برای سانتوس و نیویورک کاسموس بازی کرد، در ۹۲ بازی ملی برای برزیل ۷۷ گل به ثمر رساند.\\nاو بین سال\\u200cهای ۱۹۵۷ تا ۱۹۷۱ پیراهن سلسائو را پوشید و ۳ مرتبه در سال\\u200cهای ۱۹۵۸، ۱۹۶۲ و ۱۹۷۰ قهرمان جام\\u200cجهانی شد.\\nستاره سابق فوتبال برزیل در سال های اخیر با بیماری سرطان درگیر بود و اخیرا پزشکان از درمان او قطع امید کرده بودند.\\n\\n',\n",
              "     'category': 'Sport'}},\n",
              "   {'_index': 'news_index',\n",
              "    '_type': '_doc',\n",
              "    '_id': 'k465bYYBTzCi8CauEcY0',\n",
              "    '_score': 5.9410095,\n",
              "    '_source': {'date': 'پنجشنبه ۸ دی ۱۴۰۱ - ۲۳:۴۳',\n",
              "     'title': 'واکنش جهان فوتبال به درگذشت پله | پیام امباپه،نیمار و اسطوره های فوتبال برای الماس سیاه',\n",
              "     'intro': 'باشگاه های مطرح جهان فوتبال و برخی از شخصیت های سرشناس این رشته ورزشی نسبت به مرگ پله واکنش نشان دادند.',\n",
              "     'body': '\\n\\nبه گزارش همشهری آنلاین پله اسطوره فوتبال برزیل ساعتی قبل درگذشت. بازیکنی که یکی از بهترین های تاریخ بود و مرگ او با واکنش های بسیاری مواجه شده است.\\nصفحه رسمی توییتر پله هم دقایقی قبل با انتشار تصویری از او خبر فوتش را تایید کرد.\\xa0\\nدر این متن آمده است:« الهام بخش بودن و عشق دو ویژگی اصلی سفر سلطان پله بودند، مردی که امروز در کمال آرامش از دنیا رفت. عشق، عشق و عشق، برای همیشه.»\\nنیمار ستاره برزیلی در واکنش به مرگ پله نوشت: قبل از پله، \"۱۰\" فقط یک عدد بود. من می\\u200cگویم قبل از پله، فوتبال فقط یک ورزش بود. پله همه چیز را تغییر داده است. او فوتبال را به هنر تبدیل کرد، به سرگرمی ای برای فقرا و سیاه پوستان. فوتبال و برزیل به لطف \"پادشاه\" جایگاه خود را بالا برده اند! او رفته است اما جادویش باقی است. پله برای همیشه هست!\\nنیمار توانست در دیدار با کرواسی در وقت\\u200cهای اضافه برای تیمش گلزنی کند. هر چند این گل پاسخ داده شد و در نهایت کرواسی در ضربات پنالتی برنده شد ولی این گل نیمار دستاورد شخصی بزرگی برای او رقم زد و باعث شد تا ستاره برزیلی به رکورد ۷۷ گل ملی پله برسد.\\nنیمار در ۱۲۴ بازی ۷۷ گل به ثمر رساند و پله در ۹۲ بازی به این مهم رسید.\\nسر جف هرست نیز در واکنش به این اتفاق نوشت: من خاطرات زیادی از پله دارم، بدون شک بهترین فوتبالیستی که در مقابلش بازی کردم. برای من پله بهترین بازیکن تمام دوران است و به حضور در زمین با او افتخار می\\u200cکردم. در آرامش بخواب پله.\\nگری لینه کر، بازیکن سابق تیم ملی انگلیس در توییتر پستی را برای ادای احترام به پله منتشر کرد.\\nدر این پیام آمده است: یک فوتبالیست بزرگ. او ۳ بار با آن پیراهن زیبای زرد، طلایی ترین جام را بالای سر برد. او ممکن است ما را ترک کرده باشد اما همیشه جاودانه خواهد بود.\\nدر همین خصوص منچستریونایتد با انتشار توییتی اظهار داشت:« روحت در آرامش، پله. از تو برای لذتی که به هواداران فوتبال در سراسر دنیا بخشیدی سپاسگزاریم.»\\n\\n\\n\\n\\nباشگاه رئال مادرید با انتشار بیانیه\\u200cای در سایت رسمی\\u200cاش در گذشت این بازیکن را به جامعه فوتبال و خانواده او تسلیت گفت.\\n\\n\\n\\n\\nصفحه رسمی تیم ملی انگلیس در توییتر نوشت:« یکی از بزرگترین بازیکنانی که ارزش بسیاری به این بازی زیبا بخشید. بدرود، پله. تو هرگز فراموش نخواهی شد.»\\n\\n\\n\\n\\nصفحه رسمی باشگاه آرسنال هم با انتشار پیامی در پی درگذشت پله نوشت:« ما از شنیدن خبر درگذشت پله بسیار ناراحت شدیم. به عنوان یک باشگاه افتخار میزبانی از پله در سال ۱۹۸۱ در هایبوری را داشتیم. خاطره\\u200cای که همیشه قدردانش هستیم. در کنار تمامی جامعه فوتبال با عزیزان پله همدردی می\\u200cکنیم.»\\n\\n\\n\\n\\nهمچنین صفحه رسمی توییتر لیگ برتر انگلیس با انتشار توییتی برای درگذشت پله نوشت:« ما عمیقا از شنیدن خبر درگذشت پله متاثر شدیم. او فوتبالیستی بسیار با استعداد بود که ورزش ما را دچار تغییر کرد و الهام بخش میلیون\\u200cها نفر در در طور دوران درخشان فوتبالش بود. صمیمانه به خانواده و دوستان پله تسلیت می\\u200cگوییم.»\\n\\n\\n\\n\\nاما باشگاه بارسلونا هم با پیامی درگذشته این اسطوره دنیای فوتبال را تسلیت گفت.\\xa0\\nدر این پیام آمده است:« بارسا مراتب ناراحتی\\u200cاش را از درگذشت پله ابراز می\\u200cدارد. او یکی از بزرگترین بازیکنان تاریخ فوتبال بود. او باعث شد که فوتبال بزرگتر از هر زمان دیگری شود. امیدواریم که روحش در آرامش باشد.»\\n\\nمسوت اوزیل، ستاره سابق رئال مادرید، با انتشار عکسی از پله در کنار دیه\\u200cگو مارادونا درگذشته این اسطوره برزیلی را تسلیت گفت.\\xa0\\nاو نوشت:« طلب آمرزش برای یکی از بزرگترین اسطوره\\u200cهای فوتبال. میراث تو تا همیشه زنده خواهد بود. من مطمئنم که \"باشگاه بهشت\" با مارادونا و پله در کنار هم تا همیشه شکست ناپذیر خواهد بود.» \\xa0\\nکیلیان امباپه، ستاره فوتبال فرانسه، که یکی از بازیکنان مورد علاقه پله بود نیز با انتشار عکسی از خودش در کنار او نوشت:« سلطان فوتبال ما را ترک کرد اما میراث او هرگز فراموش نخواهد شد. روحت در آرامش سلطان...»\\nسرخیو راموس، مدافع پاری سن ژرمن، هم با انتشار تصویری از خودش در کنار پله نوشت:« صحبت درباره یک اسطوره یا یک شخصیت تاریخی کافی نیست. ما سلطان را از دست دادیم. فوتبال تا همیشه تو را به یاد خواهد داشت. در آرامش باشی، پله.»\\nجک ویلشر هافبک سابق آرسنال با انتشار متنی در حساب توییترش، به مرگ پله واکنش نشان داد. او در این خصوص نوشت: یک مرد با شخصیت به معنای واقعی! خیلی خوش شانس بودم که او را ملاقات کردم. ما پیراهن\\u200cمان را عوض کردیم و صحبت کوتاهی در مورد بازی محبوب\\u200cمان داشتیم. حرف\\u200cهایت را هرگز فراموش نخواهم کرد! روحت شاد پله. این روزها خیلی راحت از واژه «اسطوره» استفاده می\\u200cکنند ولی این مرد یک «اسطوره واقعی» است!\\nریو فردیناند، کاپیتان سابق منچستریونایتد، هم با انتشار تصاویری از خودش در کنار پله و دیه\\u200cگو مارادونا نوشت:« اسطوره\\u200cای که در بین تمام اسطوره\\u200cها از همه سرتر بود... او همیشه برای همه وقت داشت! من افتخار بازی برای او (در بازی دوستانه) و مصاحبه با او را داشتیم که ارزش هر دو به یک اندازه بود. این بازیکن، این مرد، این نماد.»\\n\\n\\n',\n",
              "     'category': 'Sport'}},\n",
              "   {'_index': 'news_index',\n",
              "    '_type': '_doc',\n",
              "    '_id': '9Y65bYYBTzCi8CauMsel',\n",
              "    '_score': 5.909404,\n",
              "    '_source': {'date': 'جمعه ۲ دی ۱۴۰۱ - ۱۷:۱۶',\n",
              "     'title': 'تایکا وایتیتی با کمدی فوتبالی برمی\\u200cگردد| تغییر زمان اکران فیلم',\n",
              "     'intro': 'تایکا وایتیتی تا سپتامبر آینده فیلم «برنده\\u200cهای هدف بعدی» را اکران می\\u200cکند.',\n",
              "     'body': 'به گزارش همشهری آنلاین، فیلم بعدی تایکا وایتیتی یک کمدی فوتبالی با بازیگرانی چون مایکل فاسبندر، ویل آرنت، الیزابت ماس، دیوید فین و بولا کول اسکار است.\\nاکران این کمدی فوتبالی ابتدا برای آوریل سال آینده در نظر گرفته شده بود ولی حالا تا پاییز به تعویق افتاد.\\n«برنده\\u200cهای هدف بعدی» برمبنای یک مستند بریتانیایی در سال ۲۰۱۴ به همین نام ساخته مایک برت و استیو جیسون شکل گرفته که درباره تیم ملی فوتبال ساموآی آمریکا و مربی آنها توماس روگن است که تلاش دارند تا بازنده\\u200cهای همیشگی را به تیمی با کیفیت جام جهانی فوتبال بدل کنند.\\nتاخیری که در فیلم ایجاد شده به دلیل شکایت چند زن از آرمی هامر یکی از بازیگران این فیلم رخ داده که وی را به آزار جنسی در گذشته متهم کردند و سازندگان فیلم به دنبال آن وی را کنار گذاشتند و نقش وی را دوباره فیلمبرداری کردند. در نهایت ویل آرنت جایگزین هامر شد که نقش شخصیت مدیر اجرایی فوتبال تیم ساموآی را بازی کرده بود.\\nوایتیتی آخرین بار با «ثور: عشق و تندر» از استودیو مارول که تابستان امسال اکران شد، دیده شده است.\\n\\nسینما در ۹ ماه امسال چند تماشاگر داشته است؟\\nدعوای ضدانقلاب دوباره بالا گرفت | اپوزیسون: فرخ\\u200cنژاد پول گرفته است | همایون: جهل سیاسی تا کجا؟!\\n\\nوی کارگردان، تهیه\\u200cکننده، فیلمنامه\\u200cنویس، بازیگر فیلم و تلویزیون، و طنزپرداز اهل نیوزیلند است که یک جایزه اسکار و ۲ نامزدی آن را در کارنامه دارد. وی همچنین ۲ بار برای جایزه امی نامزد شده\\u200cاست. فیلم «پسر» (۲۰۱۰) و «شکار انسان\\u200cهای سرگردان» (۲۰۱۶) او به عنوان پرفروش\\u200cترین فیلم\\u200cهای نیوزیلند شناخته می\\u200cشوند.\\nوایتیتی در بخش فیلمنامه اقتباسی اسکار ۲۰۲۰ برای فیلم «جوجو خرگوشه» موفق به دریافت اسکار شده\\u200cاست.\\n',\n",
              "     'category': 'Culture'}},\n",
              "   {'_index': 'news_index',\n",
              "    '_type': '_doc',\n",
              "    '_id': '3465bYYBTzCi8CauMMd5',\n",
              "    '_score': 5.612954,\n",
              "    '_source': {'date': 'سه\\u200cشنبه ۶ دی ۱۴۰۱ - ۱۵:۴۵',\n",
              "     'title': 'مسابقه فوتبال ایران و امریکا در تلویزیون رکورد زد',\n",
              "     'intro': '\\xa0آخرین نظرسنجی مرکز تحقیقات صداوسیما حاکی از آن است که بازی ایران و آمریکا پربیننده\\u200cترین بازی تیم ملی در جام\\u200cجهانی فوتبال بوده است. ',\n",
              "     'body': 'به گزارش همشهری آناین، طبق نظرسنجی مرکز تحقیقات رسانه ملی، ۸۹.۷ درصد فوتبال دوستان از طریق تلویزیون پیگیر مسابقات جام\\u200cجهانی فوتبال ۲۰۲۲ قطر بوده\\u200cاند. طبق آخرین نظرسنجی مرکز تحقیقات صداوسیما ۸۲.۱ درصد عملکرد صداوسیما را در زمینه کیفیت تصویر، ۸۱.۸ درصد در زمینه کیفیت صدا و ۶۹.۵ درصد در زمینه تسلط گزارشگران در حد زیاد، موفق دانسته\\u200cاند و به طور کلی ۷۱ درصد از پخش مسابقات از صداوسیما در حد زیاد راضی بوده\\u200cاند.\\n\\nگزارش جواد خیابانی خون من را به جوش آورد و تعصبم برانگیخته شد | بازیکنان تیم ملی از بچگی با شعار مرگ بر آمریکا بزرگ شده\\u200cاند \\n\\nبنا به همین گزارش برنامه\\u200cهای جام ۲۰۲۲ از شبکه ۳ با ۳۸.۲ درصد و جام ۲۲ از شبکه ورزش با ۱۰.۸ درصد، پربیننده\\u200cترین ویژه برنامه\\u200cهای فوتبالی بوده\\u200cاند. نکته حائز اهمیت اینکه ۳۰.۵ درصد نیز از تلوبیون برای دیدن مسابقات فوتبال و بازپخش آن استفاده کرده\\u200cاند.\\n\\nدیدار ایران و آمریکا با ۷۷.۸ درصد بیننده، پربیننده ترین بازی و بازی با ولز و انگلیس به ترتیب با ۶۷.۸ درصد و ۶۴.۵ درصد در رده\\u200cهای بعدی میزان بینندگان بازی تیم ملی کشورمان در جام جهانی ۲۰۲۲ قطر بوده اند.\\xa0جالب اینکه پربیننده\\u200cترین بازی ایران در جام\\u200cجهانی پیشین، دیدار با پرتغال بود که ۷۳.۷ بیننده داشت و دیدارهای ایران با اسپانیا و مراکش به ترتیب ۷۰.۸ و ۶۹.۸ بیننده داشته است.\\n',\n",
              "     'category': 'Culture'}},\n",
              "   {'_index': 'news_index',\n",
              "    '_type': '_doc',\n",
              "    '_id': 'FI65bYYBTzCi8CauBsZ3',\n",
              "    '_score': 5.518237,\n",
              "    '_source': {'date': 'پنجشنبه ۲۹ دی ۱۴۰۱ - ۰۹:۳۷',\n",
              "     'title': 'حمله به اینستاگرام خواهر داور ایرانی | واکنش به اقدام عجیب در فضای مجازی؛ موضوع را طور دیگری جلوه داده\\u200cاند! ',\n",
              "     'intro': 'گلاره ناظمی به ماجرای فیلم بازی سپاهان و سنندج در لیگ فوتبال زنان و همچنین اتفاقات جنجالی بعد از قضاوت برادرش واکنش نشان داد.\\n',\n",
              "     'body': 'به گزارش همشهری\\u200cآنلاین گلاره ناظمی هفته خوبی را پشت سر نگذاشت. ابتدا بعد از بازی استقلال و تراکتور در جام حذفی مردان به او حمله شد و انتقاد اصلی هم بعد از بازی تیم\\u200cهای زارع\\u200cباتری سنندج و سپاهان در لیگ فوتبال زنان متوجه او بود. در مورد اول، جرم گلاره این بود که برادرش کوپال در بازی جام\\u200cحذفی ۲ پنالتی برای استقلال گرفت و تراکتور از جام\\u200c حذف شد. طرفداران تراکتور در فضای مجازی نه به کوپال رحم کردند و نه به خواهرش. اما مورد دوم؛ این بازی در روزهای برفی برگزار شد. ویدئویی چند ثانیه\\u200cای از این بازی، زمین پوشیده از برف را نشان می\\u200cدهد و بازیکنانی که مجبور به ادامه بازی هستند. ناظمی به\\u200cعنوان مسئول مسابقات فوتبال زنان با این سؤال مواجه شده که چرا این بازی در برف شدید سنندج برگزار شده است.\\n*توضیحات کوتاهی درباره برگزاری بازی سنندج دادید اما خیلی قانع\\u200cکننده نبود. شما گفته\\u200cاید که فیلم مربوط به دقایقی است که برف شدت گرفته. اما در همان دقایق هم چطور داور بازی را متوقف نکرده؟ خط\\u200cکشی زمین اصلا مشخص نیست.\\nاین فیلم مغرضانه منتشر شده و هدفی جز ضربه زدن به فوتبال زنان را ندارد. بعضی\\u200cها فقط سیاه\\u200cنمایی می\\u200cکنند و کارهای مثبت را نمی\\u200cبینند. سنندج یکی از استان\\u200cهای محروم است و در شرایطی که باشگاه\\u200cهای بزرگ حاضر به تیم\\u200cداری در لیگ زنان نیستند، آنها سرمایه\\u200cگذاری کرده\\u200cاند و تیم داده\\u200cاند. با یک فیلم چند ثانیه\\u200cای فقط زحمات آنها و دیگران را زیر سؤال می\\u200cبرند. بله در آن بازی برف بارید اما فقط چند ثانیه برف شدت داشت و این فیلم هم مربوط به همان چند ثانیه است.\\n*ولی گفته می\\u200cشود برگزاری بازی ۴ ساعت طول کشیده است.\\nدقیق نمی\\u200cدانم بازی چقدر طول کشیده. دقیقه ۱۷ برف شدت گرفته، داور بازی را متوقف کرده و ۲ تیم به رختکن\\u200c رفته\\u200cاند. زمین پاکسازی شده و بازی ادامه پیدا کرده. نیمه دوم هم که اصلا نه خبری از برف بوده و نه از باران. فیلم\\u200cهای بازی هست، می\\u200cتوانید ببینید. بعضی\\u200cها برای اینکه در فضای مجازی دیده شوند، موضوع را طوری جلوه داده\\u200cاند که انگار ۹۰ دقیقه بازی زیر برف شدید انجام شده است.\\n*به\\u200cنظر می\\u200cرسد در فوتبال و حتی در فوتسال زنان به\\u200cخاطر صرفه\\u200cجویی در هزینه\\u200cها، شما و همکارانتان به\\u200cاجبار در بعضی از شرایط تصمیماتی می\\u200cگیرید که شاید خیلی به نفع بازیکنان نباشد. در این اتفاق هم شاید این نگاه بوده و برای اینکه هزینه دوباره\\u200cای نشود، ترجیح داده شد که بازی برگزار شود. به هر حال در آن شرایط احتمال مصدومیت و سرماخوردگی بازیکنان وجود داشت.\\nموضوع این است که شرایط برای برگزاری بازی مهیا بود. اگر برف با همان شدتی که در فیلم دیده می\\u200cشد، ادامه پیدا می\\u200cکرد، حتما داور تصمیم دیگری می\\u200cگرفت. اما آن شرایط فقط برای چند ثانیه بود. بازیکنان هم کنار زمین نبودند. همگی به رختکن رفتند که گرم بود. بحث صرفه\\u200cجویی در هزینه\\u200cها درست است اما سپاهان مشکل مالی ندارد و می\\u200cتوانست دوباره هزینه کند و به سنندج برود. تنها مسئله\\u200cای که در این موضوع وجود دارد، امکانات و افراد کم میزبان برای پاکسازی زمین بود. به هر حال اگر به جای ۵ نفر ۱۰ نفر زمین را پاکسازی می\\u200cکردند، زمان کمتری می\\u200cبرد. ولی بضاعت تیم همان بود و نمی\\u200cشد کاری کرد.\\n*غیراز این مورد، لیگ این فصل مشکلات دیگری هم داشته است؟\\nمشکل همیشگی که مشکل مالی است، پابرجاست. در شروع فصل ذوب\\u200cآهن و همیاری آذربایجان غربی به\\u200cخاطر مسائل مالی انصراف دادند. به\\u200cخاطر همین است که می\\u200cگویم نباید یک اتفاق ساده را بزرگ\\u200cنمایی و علیه تیمی که با بضاعت کم سرمایه\\u200cگذاری کرده، موضع\\u200cگیری کنیم. امسال لیگ را با ۱۰ تیم برگزار کردیم و برای اینکه کیفیت لیگ حفظ شود، ترجیح می\\u200cدهم سال آینده هم لیگ با همین تعداد برگزار شود اما این توقع را داریم که تیم\\u200cهای حاضر در لیگ برتر مردان از تیم\\u200cهای زنان هم حمایت کنند. از ۱۶ تیم حاضر در لیگ مردان انتظار می\\u200cرود ۱۰ تیم در لیگ زنان حضور داشته باشد (فقط سپاهان و ملوان تیم زنان دارند). با توجه به شرایط اقتصادی، توان بخش خصوصی در حمایت از زنان کمتر شده و برای داشتن لیگ به حمایت تیم\\u200cهای بزرگ نیاز داریم. اگر تیم\\u200cهای بزرگ یک\\u200cپنجم پولی را که به بعضی از بازیکنانشان می\\u200cدهند، کنار بگذارند، می\\u200cتوانند در لیگ زنان تیم بدهند.\\n*داوران هم این مشکلات مالی را داشتند. دستمزدشان تغییری کرد؟\\nدستمزد داوران فوتبال ۴ برابر شد. در فوتسال هم گفته\\u200cاند افزایش داشته\\u200cاند. ولی امیدوارم این افزایش به حدی برسد که دستمزدها درشأن داوران باشد. همچنان دستمزدها خجالت\\u200cآور است.\\n*سر داوری برادرتان کوپال در جام\\u200cحذفی هم اذیت شدید و طرفداران تراکتور به صفحه اینستاگرام شما حمله کردند. معروف بودن هم سخت است!\\nداوران که همیشه سنگ\\u200c زیر آسیاب هستند. ما تلاش می\\u200cکنیم که منصفانه قضاوت کنیم اما به غیرمنصفانه\\u200cترین شکل ممکن قضاوتمان می\\u200cکنند. این رفتار در ورزش ما باب شده و دیواری کوتاه\\u200cتر از داور نیست و این مسائل چه برای خودش، چه برای خواهرش پیش می\\u200cآید.\\n',\n",
              "     'category': 'Sport'}}]}}"
            ]
          },
          "execution_count": 8,
          "metadata": {},
          "output_type": "execute_result"
        }
      ],
      "source": [
        "query = 'فوتشال'\n",
        "field = 'body'\n",
        "fuzzy_search(ELASTICSEARCH_ENDPOINT, query, field, INDEX_NAME)"
      ]
    },
    {
      "attachments": {},
      "cell_type": "markdown",
      "metadata": {},
      "source": [
        "#### Example 3"
      ]
    },
    {
      "cell_type": "code",
      "execution_count": 9,
      "metadata": {},
      "outputs": [
        {
          "data": {
            "text/plain": [
              "{'took': 23,\n",
              " 'timed_out': False,\n",
              " '_shards': {'total': 1, 'successful': 1, 'skipped': 0, 'failed': 0},\n",
              " 'hits': {'total': {'value': 316, 'relation': 'eq'},\n",
              "  'max_score': 6.425227,\n",
              "  'hits': [{'_index': 'news_index',\n",
              "    '_type': '_doc',\n",
              "    '_id': 'go65bYYBTzCi8CauQcjQ',\n",
              "    '_score': 6.425227,\n",
              "    '_source': {'date': 'جمعه ۱۶ دی ۱۴۰۱ - ۱۲:۲۲',\n",
              "     'title': 'سرطانی که نشانه اش نفخ معده است | عوارض و نشانه\\u200cهای نفخ زیاد برای بدن',\n",
              "     'intro': 'نفخ یک مشکل گوارشی رایج است که بسیاری از افراد آن را تجربه می\\u200cکنند؛ اگرچه در بسیاری از موارد، بدون هیچ اقدام خاصی این مشکل از بین می\\u200cرود اما می\\u200cتواند به یک معضل جدی برای سلامت هم تبدیل شود.',\n",
              "     'body': 'به گزارش همشهری آنلاین، در برخی از شرایط نفخ دیگر یک علامت مزاحم نیست و می\\u200cتواند نشانه\\u200cهای نگران کننده\\u200cای داشته باشد به طوری که نیاز به توجه فوری پزشکی را ایجاد کند.\\nبنابر اعلام دفتر آموزش و ارتقای سلامت وزارت بهداشت، در صورتی که علائم زیر را به دنبال نفخ تجربه کردید حتما باید به پزشک مراجعه کنید:\\n- درد ناحیه لگن: نفخ همراه با درد در ناحیه لگن شاید نشانه\\u200cای از ابتلا به سرطان تخمدان باشد. به خصوص اگر با علائم دیگری مثل احساس سیری زودرس در حین غذا خوردن و نیاز ناگهانی و مکرر به اجابت مزاج، همراه باشد.\\n- کاهش وزن: حدود یک درصد جمعیت به بیماری سلیاک مبتلا هستند. در این بیماری خودایمنی، بدن به گلوتن موجود در مواد غذایی واکنش نشان داده و سطح روده فرد که باید به طور طبیعی دارای پرز باشد، صاف می\\u200cشود. رایج\\u200cترین علائم سلیاک، اسهال و کاهش وزن است. اما نیمی از افراد مبتلا هم علائمی دارند که در ظاھر، هیچ ربطی به روده ندارد، مثل کم خونی، خارش پوستی، سردرد و مراحل اولیه پوکی استخوان.\\n- انقباضات شکمی شدید: برخی از افراد، این علامت را با انقباضات شکمی ناشی از عادت ماهیانه یا حتی انگل اشتباه می\\u200cگیرند اما اگر این انقباضات در پایین و سمت چپ شکم اتفاق افتند، ممکن است که نشانه ابتلا به بیماری دیورتیکولیت باشند. در این بیماری، کیسه\\u200cهای کوچکی در آستر بخش\\u200cهای پایینی روده بزرگ ایجاد شده و این کیسه\\u200cها ملتهب می\\u200cشوند. اگر انقباضات شدید با تب ھمراه باشند، باید بلافاصله به پزشک مراجعه کنید.\\n- اسهال خونی: اگر نفخ با دردهای مکرر شکم ھمراه باشد، می\\u200cتواند نشانه بیماری\\u200cهای روده\\u200cای مثل کرون یا کولیت اولسراتیو باشد. در حدود ۴۰ درصد بیماران علائمی به غیر علائم گوارشی را هم تجربه می\\u200cکنند. از جمله این علائم می\\u200cتوان به مشکلات دید (درد چشم و تاری دید)، خارش پوستی و خستگی، اشاره کرد.\\n- سرطان معده: این سرطان معمولا در اوایل بدون علامت است و یا علائم مبهمی مانند نفخ، سوء هاضمه و یا احساس پری در قسمت فوقانی شکم دارد.\\n- بیماری کرون: این بیماری یک حالت خود ایمنی است که روی دستگاه گوارش تاثیر می\\u200cگذارد و ممولا در روده کوچک یا روده بزرگ است. نفخ یکی از شایع\\u200cترین علائم کرون است ضمن این که کرون می\\u200cتواند منجر به تنگی و انسداد روده شود و علاوه بر نفخ، کاهش وزن، تهوع و استفراغ بعد از غذا را ایجاد کند.\\n- سرطان کولون: یکی از شایع\\u200cترین علائم این سرطان، نفخ است. اگر سرطان قسمت\\u200cهای بالاتر روده بزرگ را درگیر کند، نفخ ممکن است تنها علامت اولیه باشد. سرطان روده بزرگ دومین علت شایع مرگ ناشی از سرطان در افراد غیر سیگاری در ایالات متحده است.\\n',\n",
              "     'category': 'LifeSkills'}},\n",
              "   {'_index': 'news_index',\n",
              "    '_type': '_doc',\n",
              "    '_id': 'co65bYYBTzCi8CauQMhy',\n",
              "    '_score': 6.164811,\n",
              "    '_source': {'date': 'شنبه ۲۴ دی ۱۴۰۱ - ۱۹:۴۹',\n",
              "     'title': 'این تست نشان می\\u200cدهد شما با چه سرعتی پیر می\\u200cشوید',\n",
              "     'intro': 'پیری فرایندی کاملا طبیعی است و برای همه اتفاق می\\u200cافتد. شاید بتوان آن را با محصولات مختلف یا رژیم\\u200cهای مراقبت بهداشتی پنهان کرد؛ اما سن ما همچنان در حال افزایش است. اکنون با آزمایشی ساده می\\u200cتوان مقدار پیر شدن را فهمید.',\n",
              "     'body': 'به گزارش همشهری آنلاین به نقل از سان، پزشکان دریافته\\u200cاند که هنگام تعیین سن واقعی، حس بویایی می\\u200cتواند تعیین کننده باشد. مشخص شده که از دست دادن بویایی یک علامت رایج در بیماری\\u200cهای عصبی است. پارکینسون و آلزایمر شرایط ناتوان کننده\\u200cای هستند که خطر آنها با بالا رفتن سن افزایش می\\u200cیابد.\\nمطالعات قبلی\\nمطالعات قبلی نشان داد که حس بویایی معیوب نشانه پیری یا بیماری است.\\nمطالعه\\u200cای در سال ۲۰۱۹ که روی بیش از ۲هزار نفر انجام شد، نشان داد در یک دوره ده ساله افراد با حس بویایی ضعیف، ۴۶درصد بیشتر از افراد با حس بویایی معمولی در معرض خطر مرگ قرار دارند.\\nدر سال ۲۰۱۷، مقاله دیگری نشان داد که از دست دادن توانایی بویایی نیز نشانه زوال عقل است و این علامت پنج سال قبل از تشخیص بیماری ظاهر می\\u200cشود.\\nاین در حالی است که مقاله\\u200cای در سال ۲۰۰۴ نشان داد که آزمایش بویایی می\\u200cتواند به شناسایی تغییرات در سلامت استخوان کمک کند( یک عامل رایج در پیری).\\nیک مطالعه توسط کارشناسان سن دیگو در سال ۲۰۱۹ نشان داد که حس بویایی ضعیف در بزرگسالان بالای ۸۰ سال ۶۲.۵درصد بیشتر است. همچنین مشخص شد که ۲۴.۵درصد از افراد ۵۳ تا ۹۷ ساله در مورد حس بویایی خود دچار نقص هستند.\\nآزمایش ابداعی\\nپزشکان اکنون آزمایش جدیدی ابداع کرده اند که می\\u200cتواند سن واقعی شما را نشان دهد. محققان دانشگاه جانز هاپکینز گفتند که آزمایش بویایی به پزشکان کمک می\\u200cکند تا افراد مسن را از نظر علائم پیری ناسالم و ضعف بررسی کنند.\\nاین بدان معناست که احتمالا بسته به اینکه چقدر حس بویایی شما قوی یا ضعیف است؛ پزشکان بتوانند میزان پیری و سن کلی شما را مشخص کنند. یعنی افرادی که از خود مراقبت نمی\\u200cکنند، ممکن است حس بویایی بدتری داشته باشند، یعنی با سرعت بیشتری پیر شوند.\\nپزشکان در مجله Gerontology به بررسی حساسیت و شناسایی بویایی پرداختند. این آزمایشات به آشکار شدن توانایی افراد در تشخیص بو و تمایز آن از سایر بوها کمک کرد.\\nنیکلاس روآن، استادیار متخصص گوش و حلق و بینی در جانز هاپکینز، گفت: «ما دریافتیم که اختلال در شناسایی بویایی با ضعف و آسیب پذیری مرتبط است، بنابراین بینی شما می\\u200cتواند ضعف و مرگ قریب\\u200cالوقوع را پیش\\u200cبینی کند». او افزود که حس بویایی ما چیزی است که با افزایش سن ضعیف می\\u200cشود.\\nبرای رسیدن به این نتیجه، کارشناسان داده\\u200cهای بیش از هزار و۱۶۰ بزرگسال را بررسی کردند. همه شرکت\\u200cکنندگان برای سنجش مهارت\\u200cهای شناسایی پنج رایحه و برای سنجش حساسیت شش رایحه را بوییدند. سپس این نتایج با میزان ضعیف بودن هر فرد مطابقت داده شد. نتایج نشان داد که به ازای هر افزایش حساسیت بو، وضعیت ضعف و آسیب پذیری نیز کاهش می\\u200cیابد. این نشان می\\u200cدهد که به طور کلی توانایی بویایی خوب با سلامت بهتر ارتباط دارد.\\nپروفسور روآن افزود انجام تست بویایی ساده که چند دقیقه طول می\\u200cکشد، به طور بالقوه می\\u200cتواند به عنوان یک ابزار ارزشمند برای ارزیابی خطر ضعف یا پیری ناسالم استفاده شود. به عنوان مثال، اگر کسی تست بویایی را انجام دهد، مشخص می\\u200cشود که بیمار باید تغذیه خود را بهبود بخشد یا تحت بررسی عصبی یا پزشکی دقیق تر قرار گیرد.\\n',\n",
              "     'category': 'LifeSkills'}},\n",
              "   {'_index': 'news_index',\n",
              "    '_type': '_doc',\n",
              "    '_id': 'FLe5bYYBaqX3lKeTQgk0',\n",
              "    '_score': 5.689698,\n",
              "    '_source': {'date': 'سه\\u200cشنبه ۶ دی ۱۴۰۱ - ۰۹:۱۹',\n",
              "     'title': 'با مصرف این میوه خوشمزه همیشه جوان بمانید',\n",
              "     'intro': 'توت فرنگی، بیشتر از پرتقال ویتامین C دارد؛ ویتامین سی قدرتمندانه ضد پیری عمل می\\u200cکند.',\n",
              "     'body': 'به گزارش همشهری آنلاین، \\xa0توت فرنگی یک میوه\\u200c مفید به رنگ قرمز روشن و حاوی آنتی اکسیدان\\u200cهایی است که از آسیب سلولی جلوگیری می\\u200cکنند. این میوه دارای ویتامین\\u200cها و مواد معدنی است که بدن ما به آن\\u200cها نیاز دارد.\\nتوت فرنگی، بیشتر از پرتقال ویتامین C دارد! ویتامین سی، یک ابزار قدرتمند ضد پیری است؛ زیرا تولید کلاژن را افزایش می\\u200cدهد، آسیب دیدگی پوست ناشی از خورشید را ترمیم می\\u200cکند و چین و چروک\\u200cها و خطوط ریز را نیز بهبود می\\u200cبخشد. این ویتامین، پوست شما را روشن\\u200cتر، نرم\\u200cتر و صاف\\u200cتر می\\u200cکند و خلاصه جوانی پوست را برای شما به ارمغان می\\u200cآورد.\\nتوانایی انسان در جذب آنتی اکسیدان موجود در توت فرنگی، توسط محققان مورد ارزیابی قرار گرفته است. هنگامی که این توانایی کم باشد، شما در معرض ابتلا به برخی بیماری\\u200cها از جمله استرس قرار خواهید گرفت. مطالعات نشان می\\u200cدهند که استرس، یکی از اصلی\\u200cترین عوامل پیر شدن سریع افراد است.\\nاز آن جا که توت فرنگی به خاطر وجود آنتی اکسیدان\\u200cها مخصوصا فلاونوئید، این روند را کند می\\u200cکند؛ پس بهتر است این نوع میوه را امتحان کنید. اگر برای بدن شما سخت است که به منظور عملکرد سلولی نرمال، آنتی\\u200cاکسیدان تولید کند، شما باید مواد غذایی طبیعی مانند این میوه را مصرف کنید.\\nعلاوه بر این، پیدا کردن توت فرنگی سخت نیست؛ چون در سراسر جهان، به راحتی در دسترس است. دانشمندان متوجه شده\\u200cاند که چنین میوه\\u200cهایی باید برای کاهش خطر بیماری\\u200cها در رژیم غذایی همه گنجانده شوند.\\n\\nاین علائم و هشدارهای بدن را حتما جدی بگیرید\\nسلامت آقایان با این ۶ علامت به خطر می\\u200cافتد\\n\\n',\n",
              "     'category': 'LifeSkills'}},\n",
              "   {'_index': 'news_index',\n",
              "    '_type': '_doc',\n",
              "    '_id': 'CYu5bYYB2Omwr6TiQ90g',\n",
              "    '_score': 5.639879,\n",
              "    '_source': {'date': 'چهارشنبه ۱۴ دی ۱۴۰۱ - ۱۱:۰۷',\n",
              "     'title': 'اگر مدام احساس خستگی می\\u200cکنید دچار کمبود این ماده معدنی هستید',\n",
              "     'intro': 'کلسیم یکی از مهم\\u200cترین مواد معدنی مورد نیاز بدن است که کمبود آن نشانه\\u200cهایی در پی دارد.',\n",
              "     'body': 'به گزارش همشهری آنلاین،\\xa0اصرار همه ما برای مصرف کلسیم در سن رشد کودکانمان برای تقویت و سلامت استخوان\\u200cها و دندان\\u200cهایشان امری بدیهی است، اما در واقع همه ما هر روز نیاز به مصرف مقدار کافی کلسیم برای قوی نگه داشتن بدنمان تا حد ممکن داریم. آیا تا به حال به علائم سفید روی ناخن\\u200cهای خود توجه کرده\\u200cاید؟ در واقع این لکه\\u200cهای سفید نیاز بدن\\u200cتان برای مصرف کلسیم بیشتر است.\\nمطمئنا می\\u200cدانید مصرف کلسیم برای سلامت استخوان\\u200cها و دندان\\u200cها ضروری است. اما آیا می\\u200cدانید الزام مصرف آن در بزرگسالان همانند کودکان ضروری است؟ خوردن کلسیم برای انرژی بدن، عملکرد بهتر عضلات و توده طبیعی خون، حیاتی است.\\nاصرار همه ما برای مصرف کلسیم در سن رشد کودکان\\u200cمان برای تقویت وسلامت استخوان\\u200cها و دندان\\u200cهایشان امری بدیهی است، اما در واقع همه ما هر روز نیاز به مصرف مقدار کافی کلسیم برای قوی نگه داشتن بدنمان تا حد ممکن داریم.\\nطبق نتایج بدست آمده در بریتانیا، ۵ درصد از مردان و ۸ درصد از زنان دچار کمبود کلسیم هستند و هم\\u200cزمان ۱۴ درصد از نوجوانان هم به میزان کافی از این ماده مهم معدنی استفاده نمی\\u200cکنند و این موضوعی بسیار نگران کننده است؛ به این دلیل که اسکلت بدن ما قبل از ۱۸ سالگی شکل می\\u200cگیرد. اگر این ۴ علامت را در خودتان حس می\\u200cکنید، احتمالا کمبود کلسیم دارید:\\nنشانه های کمبود کلسیم\\nاگر بیش از حد احساس خستگی می\\u200cکنید\\nکلسیم به آزادسازی انرژی از غذایی که می\\u200cخورید کمک می\\u200cکند، بنابراین اگر به میزان کافی از این ماده معدنی استفاده نمی\\u200cکنید، احتمالا بیش از اندازه احساس خستگی می\\u200cکنید. کمبود کلسیم در زنان باردار یکی از عوامل خستگی مفرط است. استخوان\\u200cها در رحم مادر شروع به سخت شدن می\\u200cکنند، پس اگر کودک به میزان لازم کلسیم دریافت نکند در آینده دچار مشکلات استخوانی خواهد شد. توصیه پزشکان برای مادران شیرده، مصرف کلسیم بیشتر، به میزان ۱۲۵۰ میلی\\u200cگرم در روز است که تقریبا ۲ برابر بیشتر از مصرف عادی وضروری برای بزرگسالان است.\\nتلاش می\\u200cکنید تناسب اندام داشته باشید\\nممکن است برای داشتن اندامی موزون، مصرف لبنیات پر چرب را از رژیم غذایی خود حذف کنید. اما خوب است بدانید که کلسیم موجود در شیر و پنیر برای سلامت و عملکرد بهتر عضلات و ضربان طبیعی قلب ضروری است. داشتن عضلات بیشتر بدین معناست که بدن در زمان استراحت، کالری بیشتری را می\\u200cسوزاند. پس اگر به میزان کافی کلسیم مصرف نمی\\u200cکنید، بهتر است بدانید که راه شما برای رسیدن به تناسب اندام کمی دشوار است.\\nاگر دستتان با کاغذ هم ببرد خونریزی شدید دارد\\nبه محض اینکه پوستتان دچار زخم و یا جراحت شود پلاکت\\u200cهای خونی شما لخته می\\u200cشوند تا به طور خودکار از خونریزی جلوگیری کنند. کلسیم عنصر مهمی در انعقاد خون است. خنده\\u200cدار است اگر فکر کنیم با خونریزی یک زخم ساده ناشی از تیزی کاغذ خواهیم مرد! اما در صورت مصرف ناکافی کلسیم، بدن برای لخته شدن خون زمان بیشتری نیاز دارد و در نتیجه در خونریزی\\u200cهای جدی و شدیدتر بدن ما میزان بیشتری خون از دست خواهد داد.\\nاستخوان\\u200cهای بدن\\u200cتان به راحتی می\\u200cشکنند\\nبا بالا رفتن سن، از دست دادن تراکم استخوان\\u200cها و یا پوکی استخوان یک روند طبیعی است و این وضعیت به دلیل از دست دادن سریع میزان کلیسم ذخیره شده در بدن است. زنان یائسه به دلیل کاهش میزان استروژن (هورمونی که در حفظ و نگهداری استخوان\\u200cها کمک می\\u200cکند) بیشتر در معرض خطر قرار دارند. متاسفانه در خانم\\u200cهای میانسال، شانس شکستگی استخوان\\u200cها حتی با کوچکترین زمین خوردن هم وجود دارد؛ بنابراین عاقلانه\\u200cترین کار مصرف روزانه و کافی کلسیم و ایمن نگه داشتن خود از خطرات احتمالی آینده است.\\nمنبع: بهداشت نیوز\\xa0\\n',\n",
              "     'category': 'LifeSkills'}},\n",
              "   {'_index': 'news_index',\n",
              "    '_type': '_doc',\n",
              "    '_id': 'Jre5bYYBaqX3lKeTQwn5',\n",
              "    '_score': 5.3702765,\n",
              "    '_source': {'date': 'یکشنبه ۹ بهمن ۱۴۰۱ - ۱۱:۱۸',\n",
              "     'title': '۱۲ تغییر ساده در سبک زندگی برای پیشگیری از بیماری\\u200cها | برای سلامت خود چه کارهایی انجام دهیم؟',\n",
              "     'intro': 'آلودگی هوا، کارهای کم تحرک، غذاهای پرچرب و کمرنگ\\u200cتر شدن روابط اجتماعی، تبعات بسیار جدی را برای سلامت افراد به همراه آورده است.',\n",
              "     'body': 'همشهری آنلاین - آرش نهاوندی:\\xa0مهمترین توصیه پزشکان به منظور کاهش خطرات ناشی از عوامل تهدید کننده سلامت انسان، تغییر سبک زندگی است، چراکه با تغییر سبک زندگی می\\u200cتوان به راحتی از بیماری\\u200cها و عوارض ناشی از آن پیشگیری کرد. به گزارش سایت وی بی ام دی، در این مطلب به مهمترین نکاتی که می\\u200cتوانند باعث تغییرات اساسی در سبک زندگی شوند، اشاره می\\u200cکنیم.\\nآهسته غذا بخورید\\n\\nآرام غذا خوردن به مغز شما این شانس را می\\u200cدهد که زودتر علامت سیری را دریافت کند، بنابراین کمتر احتمال دارد که پرخوری کنید. به علاوه اگر آهسته غذا بخورید، به احتمال زیاد به آنچه می\\u200cخورید فکر می\\u200cکنید و انتخاب\\u200cهای معقول و سالمی می\\u200cکنید.\\nاجتماعی باشید\\n\\nمهم این نیست که چند نفر را می\\u200cشناسید یا چند بار آن\\u200cها را می\\u200cبینید. آنچه اهمیت دارد ارتباط واقعی با دیگران است. این می\\u200cتواند شما را شادتر کند، بهره\\u200cوری\\u200cتان را بالا ببرد و کمتر در معرض مشکلات سلامتی قرار دهد. بنابراین با یک دوست تماس بگیرید و با او به شام \\u200b\\u200bبروید یا به یک تیم یا باشگاه ورزشی بپیوندید تا چند دوست جدید پیدا کنید.\\nآب میوه را کنار بگذارید، میوه را بخورید\\n\\nاگر آب پرتقال دوست دارید، به جای نوشیدن آبمیوه، یک پرتقال بخورید. حتی آبمیوه ۱۰۰ درصد خالص نیز وقتی آن را فرآوری می\\u200cکنید، مواد مغذی خود را از دست می\\u200cدهد و می\\u200cتواند مقدار زیادی قند پنهان را در رژیم غذایی شما قرار دهد. از سوی دیگر، میوه\\u200cهای واقعی منابع خوبی از ویتامین C، پتاسیم، فیبر و اسید فولیک هستند. و چربی، سدیم و کالری کمی دارند.\\nوقتی برای استراحت اختصاص دهید\\n\\nدر زمان استراحت می\\u200cتوانید با خانواده و دوستان خود ارتباط برقرار کنید، که برای سلامت روحی و جسمی شما مفید است. افرادی که بیشتر به تعطیلات می\\u200cروند عمر طولانی\\u200cتری دارند و کمتر به بیماری قلبی و سایر مشکلات سلامتی مبتلا می\\u200cشوند.\\nمراقب چربی\\u200cها باشید\\n\\nشاید تاکید بر مراقبت از خود در برابر چربی\\u200cها یک لفظ کلی به نظر برسد و آنقدر واضح نباشد. اما با اطمینان می\\u200cتوانیم بگوئیم که باید مراقب چربی\\u200cهای ترانسی باشید که به برخی غذاها (مانند پیتزای منجمد و محصولات پخته شده) اضافه می\\u200cشوند تا تازه بمانند. چربی\\u200cهای ترانس با بیماری قلبی مرتبط هستند. اما مقداری چربی، برای مثال از لبنیات، تخم مرغ کامل، ماهی، آووکادو یا آجیل، به عنوان بخشی از یک رژیم غذایی متعادل برای شما مفید است. لبنیات پرچرب حتی ممکن است بهتر از کم چرب به کاهش وزن کمک کند. این ممکن است به این دلیل باشد که چربی بهتر از سایر کالری\\u200cها گرسنگی شما را برطرف می\\u200cکند.\\nبر استرس خود غلبه کنید\\n\\nهمه ما در زندگی خود استرس داریم. استرس و اضطراب ماهیچه\\u200cهای شما را منقبض می\\u200cکند و ضربان قلب شما را تند می\\u200cکند. اگر به عنوان مثال در طول رفت و آمد روزانه شما این اتفاق زیاد بیفتد و به خوبی نتوانید بر آن غلبه کنید، می\\u200cتواند باعث مشکلات سلامتی جدی از جمله فشار خون بالاو بیماری قلبی شود.\\nبنابراین زمانی را برای نفس کشیدن اختصاص دهید، کاری انجام دهید که شما را آرام کند و سعی کنید آنچه را نمی\\u200cتوانید تغییر دهید بپذیرید، مانند ترافیک در ساعات شلوغی که باید بپذیرید آن را نمی\\u200cتوانید تغییر بدهید و برای رسیدن به مقصدتان باید ترافیک را تحمل کنید.\\nمصرف شکر را کاهش دهید\\n\\nبسیاری از ما بیشتر از آنچه نیاز داریم شکر دریافت می\\u200cکنیم. مشکل مصرف شکر تنها در کالری اضافه و کمبود ارزش غذایی خلاصه نمی\\u200cشود، شکر می\\u200cتواند قند خون شما را دچار نوسان (بالا و پایین) کند، این عارضه شما را خسته و گرسنه می\\u200cکند.\\nفعال باشید و ورزش کنید\\n\\nورزش یک راه اثبات شده برای بهبود سلامت و سلامت روانی شما است. لازم نیست لزوما سنگین ورزش کنید، فقط چند بار در هفته ضربان قلب خود را برای ۳۰ دقیقه یا بیشتر افزایش دهید. باغبانی فعالیتی است که به عنوان یک تحرک بدنی مثبت جواب می\\u200cدهد، و پیاده روی در اطراف بلوک ساختمان محل سکونتتان نیز جوابگوی نیاز روزانه شما به فعالیت بدنی است. اگر به تنهایی نمی\\u200cتوانید ورزش یا پیاده روی کند، سعی کنید در جمع آن را انجام دهید، به یک لیگ ورزشی محلی بپیوندید یا برای دویدن منظم با یک دوست برنامه ریزی کنید.\\nبه حرکت خود ادامه دهید\\n\\nاگر در دفتر یک شرکت یا یک اداره کار می\\u200cکنید، هر یک ساعت یا قدری بیشتر، از جای خود بلند شوید و راه بروید، یا برای بخشی از روز، بدون نشستن روی صندلی ایستاده کار کنید. با این کار کالری بیشتری می\\u200cسوزانید، گردش خون خود را بهبود می\\u200cبخشید و هوشیارتر خواهید ماند. این حرکت حتی ممکن است به پیشگیری از برخی مشکلات سلامتی مانند دیابت و فشار خون بالا کمک کند.\\nسبزی بخورید\\n\\nکلم پیچ، اسفناج، کلم برگ، کاهو، کلم برگ چینی و کلم بروکلی بخورید و مطمئن شوید که مقدار زیادی از این سبزیجات سبز برگ مصرف می\\u200cکنید. آنها سرشار از مواد مغذی هستند، کالری کمی دارند و مقدار زیادی فیبر دارند که شما را سیر می\\u200cکند و گرسنگی شما را برطرف می\\u200cکند.\\nبه اندازه کافی بخوابید\\n\\nکمبود خواب می\\u200cتواند منجر به دیابت، بیماری قلبی، چاقی و افسردگی شود. در صورت خواب ناکافی، احتمال تصادفات اتومبیل و سایر حوادث افزایش می\\u200cیابد. بزرگسالان باید هر شب ۷ تا ۹ ساعت بخوابند.\\nاز خانه بیرون بروید\\n\\nبیرون رفتن از خانه باعث دریافت نور خورشید به میزان زیاد می\\u200cشود. نور خورشید به تنظیم ساعت خواب شما کمک می\\u200cکند و منجر به آمادگی بهتر بدن شما برای انجام فعالیت\\u200cهای ورزشی بیشتری می\\u200cشود. در زمان تابیدن نور خورشید به بدن\\u200cتان شما همچنین ویتامین D دریافت خواهید کرد که بسیاری از افراد به اندازه کافی آن را دریافت نمی\\u200cکنند. ویتامین D برای عملکرد سلولی، سلامت روان و سلامت قلب مهم است. اما زیاد زیر نور آفتاب نمانید و از کرم ضد آفتاب استفاده کنید. آفتاب بیش از حد با سرطان پوست مرتبط است.\\nبیشتر بخوانید:\\n\\nبهترین ویتامین و مواد غذایی برای کودکان در آلودگی هوا | چه میوه ای برای آلودگی هوا خوب است\\n\\n',\n",
              "     'category': 'LifeSkills'}},\n",
              "   {'_index': 'news_index',\n",
              "    '_type': '_doc',\n",
              "    '_id': 'N4u5bYYB2Omwr6TiR91t',\n",
              "    '_score': 5.291826,\n",
              "    '_source': {'date': 'سه\\u200cشنبه ۴ بهمن ۱۴۰۱ - ۱۲:۴۶',\n",
              "     'title': 'ساده ترین راه جلوگیری از آلزایمر | اولین علامت آلزایمر را بشناسید',\n",
              "     'intro': 'یکی از راه\\u200cهای مهم برای پیشگیری از آلزایمر، ورزش فکری و تمرین کردن است اما فردی که علائم آلزایمر دارد دیگر توصیه به تمرین فکری نمی\\u200cکنیم چون دیگر فایده\\u200cای ندارد.',\n",
              "     'body': 'به گزارش همشهری آنلاین، مهدی وحید دستجردی، متخصص مغز و اعصاب در گفت و گو با رادیو سلامت گفت: بیماری آلزایمر یکی از انواع زوال عقل است. عقل شامل گفتار، حساب کردن، و.. است که حافظه جزئی از آن است. در آلزایمر چون اولین علامت از دست دادن حافظه است بیشتر به حافظه برمی گردد. زیر پنجاه سال آلزایمر زودرس است و خاص و کم است.\\xa0\\nوی ادامه داد: آلزایمر به سن مربوط است. در ۹۰ سالگی درصد بیشتری است و هرچه سن بالاتر برود شیوع این بیماری بیشتر می\\u200cشود. البته بحث زنتیک هم تاحدودی نقش دارد. خود شخص آلزایمر را متوجه نمی شود و یکی از علامت\\u200cهای آن این است که خود شخص باور نمی\\u200cکند و حتی برای پوشش این اختلال هم افسانه بافی می\\u200cکنند. فرد به خاطر ندارد اما داستان می\\u200cسازد. کسی که خیلی از اختلال حافظه شاکی است آلزایمر ندارد. اطرافیان متوجه می\\u200cشوند شروع آن هم با مسائل خیلی کوتاه مدت است اگر به هیچ طریقی یادش نیاید آلزایمر دارد.\\nاین متخصص مغز و اعصاب در ادامه بیان کرد: فراموشی هیچ ربطی به آلزایمر ندارد و بهش می\\u200cگویند زوال عقل کاذب که هرکسی ممکن است فراموشی بگیرد در دورانی. آلزایمر بحث بسیار پیچیده\\u200cای است. یکسری آلارم\\u200cهایی وجود دارد که می\\u200cشود دقت کرد ببینیم فردی اگر فراموش کرده دیروز چه اتفاقی افتاده است و به طور کلی یادش نیاید، به او اگر وقت هم بدهیم، هم یادش نیاید، آلارم است، البته باز هم لزوما آلزایمر نیست.\\nدستجردی ادامه داد: یکی از راه\\u200cهای مهم برای پیشگیری از آلزایمر، ورزش فکری و تمرین کردن هست ولی کسی که علائم آلزایمر دارد دیگر توصیه به تمرین فکری نمی\\u200cکنیم چون دیگر فایده\\u200cای ندارد و یک بار روحی شدید دارد. اضطراب، استرس و افسردگی فرد را شدید می\\u200cکند.\\nوی در پایان اظهار داشت: تغذیه سالم هم برای پیشگیری از آلزایمر نقش دارد ولی اینکه بتوانیم با خوراکی و تغذیه آلزایمر را درمان کنیم اصلا امکان\\u200cپذیر نیست و فقط می\\u200cتوانیم آلزایمر را کنترل کنیم.\\n',\n",
              "     'category': 'LifeSkills'}},\n",
              "   {'_index': 'news_index',\n",
              "    '_type': '_doc',\n",
              "    '_id': '0Y64bYYBTzCi8Cau58QJ',\n",
              "    '_score': 5.1465387,\n",
              "    '_source': {'date': 'شنبه ۱۰ دی ۱۴۰۱ - ۱۳:۱۵',\n",
              "     'title': 'مراجعه بیماران خارجی به ایران برای درمان ناباروری | افزایش آمار تولد نوزادان حاصل از IVF در کشور',\n",
              "     'intro': 'رئیس پژوهشگاه ابن سینا گفت: زمانی موضوع اعزام بیمار به خارج از کشور برای درمان ناباروری مطرح بود اما اکنون با پیشرفت دانش، این روند معکوس شده و امروزه افرادی از خارج از کشور برای درمان ناباروری به ما مراجعه می\\u200cکنند.',\n",
              "     'body': 'به گزارش همشهری آنلاین،\\xa0دکتر محمدرضا صادقی رئیس پژوهشگاه ابن سینا امروز در نشست خبری کنگره «نگاهی جامع بر ناباروری؛ از تشخیص تا تولد نوزاد سالم»، گفت: این کنگره با هدف ارتقای دانش حوزه تشخیص و درمان ناباروری در سطح کشور برای همکاران متخصص برگزار می\\u200cشود. نگاهی که در حال حاضر در دنیا مطرح است نگاهی جامع به درمان ناباروری است. شاید در گذشته مراکز درمان ناباروری و متخصصین مربوطه هدف خود را بارور کردن زوج نابارور قرار داده بودند، اما امروزه با گذشت زمان و پیشرفت\\u200cها به مرحله\\u200cای رسیدیم\\u200c که ادعا می\\u200cکنیم که تمامی زوجین نابارور قابل درمان هستند و هیچ زوجی دیگر ناامید نمی\\u200cشود، اما آیا این به معنای آن است که وظیفه متخصصین و مراکز\\xa0 بارور کردن همه زوجین به هر هزینه\\u200cای است؟ آیا نباید برخی جاها یک علامت توقف بگذاریم و مانع باردار شدن زوجین شویم؟ در مواقعی که بارداری ممکن است مشکلات سلامتی برای مادر به همراه داشته باشد، این کار ضروری است.\\nوی افزود: اگر امروز زوجین فرزند ندارند یک مشکل دارند، اما اگر فرزندی بیمار به دنیا بیاید یا سلامت مادر به خطر بیفتد، چندین مشکل و هزینه به خانواده و جامعه اضافه و تحمیل می\\u200cشود. امروزه درمان ناباروری دیگر صرفا باردار کردن زوجین نیست. در گذشته سه گروه تخصصی زنان، اورولوژیست و جنین\\u200cشناسان درگیر درمان ناباروری بودند، اما با نگاه جامع فعلی اکنون بیش از ۵۰ تخصص در موضوع درمان ناباروری درگیر هستند. مثلا متخصصان ژنتیک فعالیت می\\u200cکنند تا اگر ژن معیوبی وجود دارد، در جهت اصلاح آن اقدام کنند. روش\\u200cهایی که ما انجام می\\u200cدهیم برای کمک باروری است و باید تلاش کنیم تا فرزند بیماری به دنیا نیاورند. متخصصان عفونی، داخلی، روانپزشک، داخلی، تغذیه و ... همگی در درمان ناباروری دخیل هستند و همراهی آنها منجر به بارداری سالم و تولد نوزاد سالم خواهد شد.\\nبیشتر بخوانید؛\\n\\n ۴ میلیون زوج\\xa0نابارور در ایران زندگی می\\u200cکنند | پوشش ۹۰ درصدی هزینه درمان ناباروری | هزینه\\u200cهای رحم اجاره\\u200cای هم تحت پوشش بیمه است؟ \\n\\nصادقی ادامه داد: در طول سه روز برگزاری کنگره، نگاه ما معطوف به این است که به همکاران خود بگوییم در درمان ناباروری صرفا به بارداری زوجین فکر نکنید. بلکه به سلامت مادر و کودک فکر کنید. حتی این نگاه مطرح است که فرزند حاصل از درمان ناباروری در کهولت سن یا میانسالی چه بیماری دارد و آیا می\\u200cتوان از بروز آنها جلوگیری کرد؟\\nاین جنین\\u200cشناس بیان کرد: الان شاید تعداد بچه\\u200cهای حاصل از آی وی\\u200cاف در کشور به بیش از ۱۰ میلیون نفر رسیده است. در برخی کشورها درصد تولد فرزندان حاصل از آی\\u200cوی\\u200cاف/ IVF بسیار زیاد شده است و حتی ۳۰ درصد تولدهای برخی کشورها حاصل از آی\\u200cوی\\u200cاف است. امروزه در دنیا حتی بسیاری از افراد سالم متقاضی آی\\u200cوی\\u200cاف هستند و آیا از نظر اخلاقی ما می\\u200cتوانیم این کار را برای آنها انجام دهیم؟\\nوی افزود: زمانی موضوع اعزام بیمار به خارج از کشور برای درمان ناباروری مطرح بود اما اکنون با پیشرفت دانش روند معکوس شده و افرادی از خارج از کشور برای درمان ناباروری به ما مراجعه می\\u200cکنند؛ پس باید نگاه خود به موضوع را جامع\\u200cتر کنیم.\\nگفتنی است کنگره « نگاهی جامع بر ناباروری؛ از تشخیص تا تولد نوزاد سالم» از ۱۴ لغایت ۱۶ دی سال جاری در مرکز همایش\\u200cهای دانشگاه شهید بهشتی با محورهای سقط مکرر، جراحی ناباروری، شکست مکرر لانه گزینی، چالش\\u200cهای سن و ناباروری، پاسخ\\u200cدهی ضعیف تخمدان و ... برگزار خواهد شد.\\n',\n",
              "     'category': 'Society'}},\n",
              "   {'_index': 'news_index',\n",
              "    '_type': '_doc',\n",
              "    '_id': 'sre5bYYBaqX3lKeTHQek',\n",
              "    '_score': 4.822093,\n",
              "    '_source': {'date': 'پنجشنبه ۸ دی ۱۴۰۱ - ۰۹:۱۶',\n",
              "     'title': 'علامت\\u200cهای ©، ® و ™ بر روی کالاها یا در سایت\\u200cها چه معنی می\\u200cدهد؟',\n",
              "     'intro': 'حتما بارها و بارها با علامت\\u200cهای ©، ® و ™بر روی برخی کالاها و یا در وب\\u200cسایت\\u200cهای مختلف روبرو شده\\u200cاید و شاید این پرسش برای\\u200cتان ایجاد شده است که این علامت\\u200cها چه معنایی می\\u200cدهند.',\n",
              "     'body': 'به گزارش همشهری آنلاین، در این خصوص توضیحات زیر می\\u200cتواند مفید باشد.\\n\\nعلامت ™\\nاین علامت مخفف کلمه Trade Mark به معنی علامت تجاری یا نماد بازرگانی است. معمولا ™ نشان\\u200cدهنده یک فناوری، برند یا سرویس خاصی است که ثبت قانونی نشده و بیشتر برای متمایز کردن آن سبک خاص از فناوری یا تکنولوژی است.\\n\\nعلامت ©\\nحرف C مخفف کلمه Copyright است. در واقع برندی که این علامت کنار آن قرار گرفته بدون اجازه صاحب اثر یا برند اجازه نشر ندارد.\\n\\nعلامت ®\\nحرف R در این موارد مخفف عبارت Registrered Trademark است ، به معنای نماد بازرگانی ثبت شده.\\nوقتی روی یک فناوری یا برندی علامت ® را دیدید، بدانید که تمام حقوق قانونی برای آن برند محفوظ بوده و استفاده غیرقانونی از آن کاملا غیرمجاز و در صورت استفاده محکومیت در پی دارد.\\n',\n",
              "     'category': 'Science'}},\n",
              "   {'_index': 'news_index',\n",
              "    '_type': '_doc',\n",
              "    '_id': 'Ro64bYYBTzCi8Cau88XG',\n",
              "    '_score': 4.7572813,\n",
              "    '_source': {'date': 'سه\\u200cشنبه ۴ بهمن ۱۴۰۱ - ۱۳:۲۵',\n",
              "     'title': 'عین\\u200cاللهی: مافیای دارو در تمام دنیا وجود دارد | دارو بزرگ\\u200cترین تجارت دنیاست | تدوین کتاب درسی سلامت',\n",
              "     'intro': 'وزیر بهداشت گفت: بزرگ\\u200cترین تجارت دنیا، بعد از نفت، دارو و کارتل\\u200cهای دارویی است که این فرهنگ را در مردم ایجاد کردند که تنها راه درمان، دارو است.',\n",
              "     'body': 'به گزارش همشهری آنلاین، دکتر بهرام عین\\u200cاللهی در اختتامیه سومین جشنواره طب ایرانی گفت: یکی از نکات مهمی که دنبال آن هستیم سلامت است که راهکارهای مختلفی دارد، اما آیا راهکارهای دنیا همه به طور مطلق توانسته سلامت ایجاد کند و در درمان همه بیماری\\u200cها موفق بوده است؟ در طول تاریخ روش\\u200cهای زیادی انجام گرفته است اما هنوز به قله نرسیدیم و هنوز بیماری\\u200cهایی هستند که علت و درمان ناشناخته دارند.\\nمافیای دارو در تمام دنیا وجود دارد\\nوی ادامه داد: علم پزشکی امروزه مبتنی بر تشخیص و درمان دارویی شده است. این در حالی است که بزرگ\\u200cترین تجارت دنیا بعد از نفت، دارو و کارتل\\u200cهای دارویی است که این فرهنگ را در مردم ایجاد کردند که تنها راه درمانی، دارو است چون مافیای دارو در تمام دنیا وجود دارد و اینها سودهای کلانی دارند به دست می\\u200cآورند و به این علت این روزها باید علم پزشکی راه\\u200cهای نوین سلول\\u200cتراپی، تحقیقات ژنتیک و... را پیدا کند.\\nوی افزود: خود ما از سال ۷۸ در درمان بیماری چشمی با سلول\\u200cهای بنیادی مشکلات را برطرف کردیم و این یک افق و تحول جدید در درمان است. ما در سلامت و درمان نباید یک بعدی فکر کنیم. امروزه احتیاج به جهش\\u200cهای علمی و راهکار مهم داریم. مطلق\\u200cگرایی در حیطه طب صحیح نیست. ما باید همه جانبه\\u200cنگر باشیم و از همه امکانات موجود برای درمان استفاده کنیم که نام این درمان، روش مکمل است.\\nزنگ سلامت و تدوین کتاب درسی سلامت\\nوی با تاکید بر اهمیت پیشگیری از بیماری\\u200cها، اظهار کرد: هرچه می\\u200cگذرد سبک زندگی\\u200cها از نظر تغذیه و مصرف فست فود و روغن زیاد و... بدتر می\\u200cشود. در حالی که باید سرمایه خود را به سمت بهبود سبک زندگی ببریم. به دکتر نوری عزیز (وزیر آموزش و پرورش) پیشنهاد می\\u200cکنم زنگ سلامت و کتاب درسی سلامت با تاکید بر سبک زندگی را از دوره ابتدایی تدوین کنند. من فکر می\\u200cکنم خود ما در تربیت سبک زندگی بچه\\u200cها اشتباه می\\u200cکنیم که برای آنها چیپس و پیتزا و ... می\\u200cخریم و آنها را با این غذاها آشنا می\\u200cکنیم.\\nبه ارتقای سواد سلامت فکر کنیم\\nوی افزود: چطور در کتب درسی، تاریخ و جغرافی می\\u200cخوانیم، پس برای سلامت هم کتاب بخوانیم و آموزش دهیم و به ارتقای سواد سلامت فکر کنیم. هرچه سن کمتر باشد آموزش پذیری بهتر است تا فرهنگ غلط تغذیه برای فرد از کودکی ایجاد نشود.\\nشهدای مدافع سلامت باید الگوی دهه هشتادی\\u200cها و دانش\\u200cآموزان باشند\\nعین\\u200cاللهی با اشاره به افتخار آفرینی کادر درمان در زمان کرونا، تصریح کرد: این افتخارات علی رغم تحریم و بدون کمک از هیچ کشوری شکل گرفت. اما نشان دادن این حماسه مهم است. حدود ۳۰۰ شهید مدافع سلامت داشتیم و اینها باید الگوی دهه هشتادی\\u200cها و دانش آموزان باشند. دانش آموزان امروزه الگوی واقعی در فضای مجازی نمی\\u200cبینند ولی ما الگوی واقعی در دفاع مقدس و مدافعین سلامت داریم. کادر درمان به نحوی خدمت کردند که هیچ بیماری در آن زمان روی زمین نماند و همه بستری شدند. می\\u200cتوان ساعت\\u200cها فیلم و سریال از این حماسه ساخت و یا کتاب\\u200cهای متعددی از آن نوشت و ما در این زمینه تماما آماده همکاری با وزارت آموزش و پرورش هستیم.\\nوی با اشاره به اینکه بعد از انقلاب یکی از \\xa0بزرگترین دستاوردهای ما، در حوزه سلامت بوده است، بیان کرد: امروزه کشور ما در منطقه مدیترانه شرقی در تمامی شاخص\\u200cهای سلامت با فاصله از کشورهای دیگر قرار دارد. هیچ درمانی نیست که در دنیا انجام شود و در ایران آن را نداشته باشیم.\\n',\n",
              "     'category': 'Society'}},\n",
              "   {'_index': 'news_index',\n",
              "    '_type': '_doc',\n",
              "    '_id': 'mou4bYYB2Omwr6Ti79kt',\n",
              "    '_score': 4.708478,\n",
              "    '_source': {'date': 'دوشنبه ۱۰ بهمن ۱۴۰۱ - ۱۲:۴۱',\n",
              "     'title': 'افزایش سرطان\\u200cهای ویژه زنان در ایران | ۳ فاکتور مهم در ابتلا به انواع سرطان\\u200cها | اجرای طرح ملی واکسیناسیون زنان ',\n",
              "     'intro': 'مدیرعامل شبکه ملی خیرین حوزه سرطان با اعلام افزایش آمار مبتلایان سرطان\\u200cهای ویژه زنان در ایران از حمایت خیریه\\u200cها برای اجرای کامل طرح ملی واکسیناسیون سرطان دهانه رحم خبر داد.',\n",
              "     'body': 'به گزارش همشهری آنلاین، علی مهرابی بهار مدیرعامل شبکه ملی خیرین حوزه سرطان با اشاره به تعداد اندک سرطان\\u200cهای قابل پیشگیری با واکسن گفت: ثابت شده سرطان دهانه رحم ارتباط مستقیمی با عفونت ویروس پاپیلوما دارد و واکسن HPV از سرطان سرویکس یا همان سرطان دهانه رحم پیشگیری می\\u200cکند.\\nطرح واکسیناسیون سرطان سرویکس یک پروژه ملی است\\nوی با بیان اینکه اجرای طرح واکسیناسیون سرطان سرویکس یک پروژه ملی است، افزود: حمایت خیریه\\u200cها از این پروژه ملی دربرگیرنده تبلیغات، آموزش و توجیه جامعه هدف است.\\nمهرابی بهار گفت: طرح واکسیناسیون سرطان دهانه رحم در حال اجرا است اما تا ریشه کنی این سرطان خیلی فاصله داریم.\\nوی افزود: در حال حاضر تزریق واکسن در حد موردی است، اما امیدواریم بتوانیم تمام دختران و بانوانی را که در سن باروری قرار دارند با آگاهی و آموزش به واکسینه شدن ترغیب کنیم.\\nمطالبه عمومی خیریه\\u200cها برای کاهش ریسک فاکتورهای سرطان\\nمدیرعامل شبکه خیرین حوزه سرطان در ادامه با اشاره به طرح مجلس برای کاهش مالیات بر دخانیات، اظهار داشت: ابتلای افراد به سرطان ریه به علت مصرف دخانیات ثابت شده است و کم شدن مالیات بر آن اقدامی مؤثر در شتابدهی به افزایش نرخ سرطان است، از این رو در تلاشیم با مطالبه عمومی باعث کاهش عوامل خطرساز مرتبط با سرطان ریه از طریق اقدامات منجر به کاهش مصرف مواد دخانی در کشور شویم.\\nبیشتر بخوانید:\\xa0\\n\\nهر ۴۵ دقیقه یک زن ایرانی به سرطان پستان مبتلا می\\u200cشود | جراحی قابل حذف از مسیر درمان نیست | در دهه آینده شاهد جوان شدن مبتلایان این سرطان خواهیم بود\\xa0\\n۲ عامل ابتلا به شایع\\u200cترین سرطان زنانه | مهمترین راه کاهش این نوع سرطان چیست؟\\n\\n۳ فاکتور مهم در ابتلا به سرطان\\nوی افزود: آلودگی\\u200cهای زیست محیطی، آلودگی\\u200cهای آب و هوا و نحوه تولید برخی محصولات غذایی از جمله عوامل افزایش ریسک ابتلاء به سرطان است که قانونگذاری برای یافتن راه مقابله با آنها مورد مطالبه جدی خیریه\\u200cها است.\\nمعاون برنامه ریزی و توسعه مدیریت و سرمایه انسانی مکسا گفت: خیریه\\u200cها علاوه بر اینکه به سیر درمان بیماری و تشخیص زودهنگام کمک می\\u200cکنند، در حوزه پیشگیری از سرطان هم ورود کرده\\u200f اند و سعی دارند ضمن تعامل با نهادهای قانونگذار، ریسک فاکتورهای محیطی را که باعث بروز سرطان می\\u200cشوند، از محیط زندگی حذف کنند یا مخاطرات آن را کاهش دهند.\\nمدیرعامل شبکه ملی خیرین حوزه سرطان با اشاره به برگزاری دومین همایش ملی سرطان در روزهای ۶ و ۷ بهمن با حضور بیش از ۲۷ خیریه فعال در حوزه سرطان، افزود: شبکه ملی خیرین این فضا را ایجاد کرده است که صدای بیماران مبتلا به سرطان باشیم و قوانین حمایتی را درباره بیماران مبتلا به سرطان در نظام سلامت به سرانجام برسانیم.\\nمدیریت بیماران مبتلا به سرطان در سامانه یکپارچه/ معرفی ۳ مرکز جامع رادیوتراپی در کشور\\nمهرابی بهار از راه اندازی سامانه مدیریت جامع و بهینه بیماران مبتلا به سرطان خبر داد و گفت: در این سامانه پرونده الکترونیک سلامت بیماران و کمک\\u200cهایی که هر خیریه به بیمار می\\u200cدهد ثبت می\\u200cشود، تا بیماران در کمترین زمان تعیین تکلیف شوند و لزومی به مراجعه مکرر به خیریه\\u200cها نداشته باشند.\\nوی افزود: نکته بعدی زنجیره مدیریت بیمار است تا از همپوشانی یا موازی کاری در خیریه\\u200cها جلوگیری شود. مثلاً ممکن است بیماران در تأمین هزینه\\u200cهای دارو و درمان مشکل داشته باشند، برخی اوقات توانایی تأمین هزینه را دارند، اما دسترسی به دارو ندارند و زمانی فرا می\\u200cرسد که برای رادیوتراپی نیازمند یک مرکز جامع رادیوتراپی هستند که مهرانه زنجان، انکولوژی امام رضای مشهد، بیمارستان امام حسن مجتبی دزفول جزو سه مرکز بسیار مهم رادیوتراپی کشور هستند که به این بیماران خدمات حمایتی می\\u200cدهند.\\nبه گفته مهرابی بهار، محل اسکان، تغذیه مناسب، توانبخشی، روانشناسی و مراقبت\\u200cهای حمایتی و تسکینی از دیگر نیازهای بیماران مبتلا به سرطان است.\\nوی افزود: تلاش شبکه ملی خیرین حوزه سرطان این است که بتوانیم تمام نیازهای افراد مبتلا به سرطان را در کنار همدیگر با حمایت خیریه\\u200cهای مختلف رفع کنیم.\\nسرطان\\u200cهای ویژه زنان در ایران در حال افزایش است\\nآمار مبتلایان به سرطان\\u200cهای ویژه زنان از جمله سرطان دهانه رحم (سرویکس) در مناطق مختلف ایران در حال افزایش است در حالی که این نوع سرطان با تزریق واکسن ویروس پاپیلومای انسانی قابل کنترل و ریشه کنی است.\\nویروس پاپیلومای انسانی، شایع\\u200cترین عامل عفونت ویروسی دستگاه تناسلی است که بیش از صد گونه آن شناخته شده است. تظاهرات آلودگی به این ویروس از یک عفونت بی علامت تا ضایعات سرطانی متغیر است.\\n\\n',\n",
              "     'category': 'Society'}}]}}"
            ]
          },
          "execution_count": 9,
          "metadata": {},
          "output_type": "execute_result"
        }
      ],
      "source": [
        "query = 'شلامت'\n",
        "field = 'body'\n",
        "fuzzy_search(ELASTICSEARCH_ENDPOINT, query, field, INDEX_NAME)"
      ]
    }
  ],
  "metadata": {
    "colab": {
      "provenance": []
    },
    "kernelspec": {
      "display_name": "Python 3.10.9 64-bit",
      "language": "python",
      "name": "python3"
    },
    "language_info": {
      "codemirror_mode": {
        "name": "ipython",
        "version": 3
      },
      "file_extension": ".py",
      "mimetype": "text/x-python",
      "name": "python",
      "nbconvert_exporter": "python",
      "pygments_lexer": "ipython3",
      "version": "3.10.6 (main, Nov 14 2022, 16:10:14) [GCC 11.3.0]"
    },
    "vscode": {
      "interpreter": {
        "hash": "e7370f93d1d0cde622a1f8e1c04877d8463912d04d973331ad4851f04de6915a"
      }
    }
  },
  "nbformat": 4,
  "nbformat_minor": 0
}
